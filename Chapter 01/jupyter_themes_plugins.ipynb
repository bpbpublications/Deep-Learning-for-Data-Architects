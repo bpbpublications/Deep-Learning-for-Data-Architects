{
 "cells": [
  {
   "cell_type": "markdown",
   "metadata": {
    "toc": true
   },
   "source": [
    "<h1>Table of Contents<span class=\"tocSkip\"></span></h1>\n",
    "<div class=\"toc\"><ul class=\"toc-item\"><li><span><a href=\"#How-to-execute-shell-command-on-jupyter-notebook\" data-toc-modified-id=\"How-to-execute-shell-command-on-jupyter-notebook-1\"><span class=\"toc-item-num\">1&nbsp;&nbsp;</span>How to execute shell command on jupyter notebook</a></span></li><li><span><a href=\"#Themes\" data-toc-modified-id=\"Themes-2\"><span class=\"toc-item-num\">2&nbsp;&nbsp;</span>Themes</a></span><ul class=\"toc-item\"><li><span><a href=\"#This-sections-contains-various-themes-and-other-jupyter-notebook-plugins-demo\" data-toc-modified-id=\"This-sections-contains-various-themes-and-other-jupyter-notebook-plugins-demo-2.1\"><span class=\"toc-item-num\">2.1&nbsp;&nbsp;</span>This sections contains various themes and other jupyter notebook plugins demo</a></span></li></ul></li></ul></div>"
   ]
  },
  {
   "cell_type": "code",
   "execution_count": null,
   "metadata": {},
   "outputs": [],
   "source": [
    "# This is an example snippet!\n",
    "# To create your own, add a new snippet block to the\n",
    "# snippets.json file in your jupyter nbextensions directory:\n",
    "# /nbextensions/snippets/snippets.json\n",
    "import this"
   ]
  },
  {
   "cell_type": "markdown",
   "metadata": {
    "heading_collapsed": true
   },
   "source": [
    "# How to execute shell command on jupyter notebook"
   ]
  },
  {
   "cell_type": "code",
   "execution_count": 1,
   "metadata": {
    "hidden": true
   },
   "outputs": [
    {
     "name": "stdout",
     "output_type": "stream",
     "text": [
      "jupyter_themes_plugins.ipynb sample.ipynb\r\n"
     ]
    }
   ],
   "source": [
    "!ls"
   ]
  },
  {
   "cell_type": "code",
   "execution_count": 2,
   "metadata": {
    "hidden": true
   },
   "outputs": [
    {
     "name": "stdout",
     "output_type": "stream",
     "text": [
      "/Users/shekharkhandelwal/Deep Neural Networks/notebooks\r\n"
     ]
    }
   ],
   "source": [
    "!pwd"
   ]
  },
  {
   "cell_type": "code",
   "execution_count": 3,
   "metadata": {
    "hidden": true
   },
   "outputs": [],
   "source": [
    "list_of_file=!ls"
   ]
  },
  {
   "cell_type": "code",
   "execution_count": 4,
   "metadata": {
    "hidden": true
   },
   "outputs": [
    {
     "data": {
      "text/plain": [
       "['jupyter_themes_plugins.ipynb', 'sample.ipynb']"
      ]
     },
     "execution_count": 4,
     "metadata": {},
     "output_type": "execute_result"
    }
   ],
   "source": [
    "list_of_file"
   ]
  },
  {
   "cell_type": "code",
   "execution_count": 5,
   "metadata": {
    "hidden": true
   },
   "outputs": [
    {
     "data": {
      "text/plain": [
       "IPython.utils.text.SList"
      ]
     },
     "execution_count": 5,
     "metadata": {},
     "output_type": "execute_result"
    }
   ],
   "source": [
    "type(list_of_file)"
   ]
  },
  {
   "cell_type": "code",
   "execution_count": 6,
   "metadata": {
    "hidden": true
   },
   "outputs": [],
   "source": [
    "lst=list(list_of_file)"
   ]
  },
  {
   "cell_type": "code",
   "execution_count": 7,
   "metadata": {
    "hidden": true
   },
   "outputs": [
    {
     "data": {
      "text/plain": [
       "['jupyter_themes_plugins.ipynb', 'sample.ipynb']"
      ]
     },
     "execution_count": 7,
     "metadata": {},
     "output_type": "execute_result"
    }
   ],
   "source": [
    "lst"
   ]
  },
  {
   "cell_type": "code",
   "execution_count": 8,
   "metadata": {
    "hidden": true
   },
   "outputs": [
    {
     "data": {
      "text/plain": [
       "list"
      ]
     },
     "execution_count": 8,
     "metadata": {},
     "output_type": "execute_result"
    }
   ],
   "source": [
    "type(lst)"
   ]
  },
  {
   "cell_type": "markdown",
   "metadata": {},
   "source": [
    "# Themes"
   ]
  },
  {
   "cell_type": "markdown",
   "metadata": {},
   "source": [
    "## This sections contains various themes and other jupyter notebook plugins demo"
   ]
  },
  {
   "cell_type": "code",
   "execution_count": 9,
   "metadata": {
    "scrolled": true
   },
   "outputs": [
    {
     "name": "stdout",
     "output_type": "stream",
     "text": [
      "Collecting jupyterthemes\n",
      "  Downloading jupyterthemes-0.20.0-py2.py3-none-any.whl (7.0 MB)\n",
      "\u001b[K     |████████████████████████████████| 7.0 MB 111 kB/s eta 0:00:01\n",
      "\u001b[?25hRequirement already satisfied: ipython>=5.4.1 in /usr/local/anaconda3/lib/python3.8/site-packages (from jupyterthemes) (7.16.1)\n",
      "Collecting lesscpy>=0.11.2\n",
      "  Downloading lesscpy-0.14.0-py2.py3-none-any.whl (46 kB)\n",
      "\u001b[K     |████████████████████████████████| 46 kB 702 kB/s eta 0:00:01\n",
      "\u001b[?25hRequirement already satisfied: notebook>=5.6.0 in /usr/local/anaconda3/lib/python3.8/site-packages (from jupyterthemes) (6.0.3)\n",
      "Requirement already satisfied: matplotlib>=1.4.3 in /usr/local/anaconda3/lib/python3.8/site-packages (from jupyterthemes) (3.3.4)\n",
      "Requirement already satisfied: jupyter-core in /usr/local/anaconda3/lib/python3.8/site-packages (from jupyterthemes) (4.6.3)\n",
      "Requirement already satisfied: traitlets>=4.2 in /usr/local/anaconda3/lib/python3.8/site-packages (from ipython>=5.4.1->jupyterthemes) (4.3.3)\n",
      "Requirement already satisfied: jedi>=0.10 in /usr/local/anaconda3/lib/python3.8/site-packages (from ipython>=5.4.1->jupyterthemes) (0.17.1)\n",
      "Requirement already satisfied: prompt-toolkit!=3.0.0,!=3.0.1,<3.1.0,>=2.0.0 in /usr/local/anaconda3/lib/python3.8/site-packages (from ipython>=5.4.1->jupyterthemes) (3.0.5)\n",
      "Requirement already satisfied: pexpect; sys_platform != \"win32\" in /usr/local/anaconda3/lib/python3.8/site-packages (from ipython>=5.4.1->jupyterthemes) (4.8.0)\n",
      "Requirement already satisfied: decorator in /usr/local/anaconda3/lib/python3.8/site-packages (from ipython>=5.4.1->jupyterthemes) (4.4.2)\n",
      "Requirement already satisfied: backcall in /usr/local/anaconda3/lib/python3.8/site-packages (from ipython>=5.4.1->jupyterthemes) (0.2.0)\n",
      "Requirement already satisfied: appnope; sys_platform == \"darwin\" in /usr/local/anaconda3/lib/python3.8/site-packages (from ipython>=5.4.1->jupyterthemes) (0.1.0)\n",
      "Requirement already satisfied: pygments in /usr/local/anaconda3/lib/python3.8/site-packages (from ipython>=5.4.1->jupyterthemes) (2.6.1)\n",
      "Requirement already satisfied: pickleshare in /usr/local/anaconda3/lib/python3.8/site-packages (from ipython>=5.4.1->jupyterthemes) (0.7.5)\n",
      "Requirement already satisfied: setuptools>=18.5 in /usr/local/anaconda3/lib/python3.8/site-packages (from ipython>=5.4.1->jupyterthemes) (49.2.0.post20200714)\n",
      "Requirement already satisfied: six in /usr/local/anaconda3/lib/python3.8/site-packages (from lesscpy>=0.11.2->jupyterthemes) (1.15.0)\n",
      "Requirement already satisfied: ply in /usr/local/anaconda3/lib/python3.8/site-packages (from lesscpy>=0.11.2->jupyterthemes) (3.11)\n",
      "Requirement already satisfied: prometheus-client in /usr/local/anaconda3/lib/python3.8/site-packages (from notebook>=5.6.0->jupyterthemes) (0.8.0)\n",
      "Requirement already satisfied: nbformat in /usr/local/anaconda3/lib/python3.8/site-packages (from notebook>=5.6.0->jupyterthemes) (5.0.7)\n",
      "Requirement already satisfied: ipykernel in /usr/local/anaconda3/lib/python3.8/site-packages (from notebook>=5.6.0->jupyterthemes) (5.3.2)\n",
      "Requirement already satisfied: Send2Trash in /usr/local/anaconda3/lib/python3.8/site-packages (from notebook>=5.6.0->jupyterthemes) (1.5.0)\n",
      "Requirement already satisfied: pyzmq>=17 in /usr/local/anaconda3/lib/python3.8/site-packages (from notebook>=5.6.0->jupyterthemes) (19.0.1)\n",
      "Requirement already satisfied: ipython-genutils in /usr/local/anaconda3/lib/python3.8/site-packages (from notebook>=5.6.0->jupyterthemes) (0.2.0)\n",
      "Requirement already satisfied: terminado>=0.8.1 in /usr/local/anaconda3/lib/python3.8/site-packages (from notebook>=5.6.0->jupyterthemes) (0.8.3)\n",
      "Requirement already satisfied: nbconvert in /usr/local/anaconda3/lib/python3.8/site-packages (from notebook>=5.6.0->jupyterthemes) (5.6.1)\n",
      "Requirement already satisfied: tornado>=5.0 in /usr/local/anaconda3/lib/python3.8/site-packages (from notebook>=5.6.0->jupyterthemes) (6.0.4)\n",
      "Requirement already satisfied: jupyter-client>=5.3.4 in /usr/local/anaconda3/lib/python3.8/site-packages (from notebook>=5.6.0->jupyterthemes) (6.1.6)\n",
      "Requirement already satisfied: jinja2 in /usr/local/anaconda3/lib/python3.8/site-packages (from notebook>=5.6.0->jupyterthemes) (2.11.2)\n",
      "Requirement already satisfied: pyparsing!=2.0.4,!=2.1.2,!=2.1.6,>=2.0.3 in /usr/local/anaconda3/lib/python3.8/site-packages (from matplotlib>=1.4.3->jupyterthemes) (2.4.7)\n",
      "Requirement already satisfied: cycler>=0.10 in /usr/local/anaconda3/lib/python3.8/site-packages (from matplotlib>=1.4.3->jupyterthemes) (0.10.0)\n",
      "Requirement already satisfied: kiwisolver>=1.0.1 in /usr/local/anaconda3/lib/python3.8/site-packages (from matplotlib>=1.4.3->jupyterthemes) (1.2.0)\n",
      "Requirement already satisfied: pillow>=6.2.0 in /usr/local/anaconda3/lib/python3.8/site-packages (from matplotlib>=1.4.3->jupyterthemes) (7.2.0)\n",
      "Requirement already satisfied: numpy>=1.15 in /usr/local/anaconda3/lib/python3.8/site-packages (from matplotlib>=1.4.3->jupyterthemes) (1.19.5)\n",
      "Requirement already satisfied: python-dateutil>=2.1 in /usr/local/anaconda3/lib/python3.8/site-packages (from matplotlib>=1.4.3->jupyterthemes) (2.8.1)\n",
      "Requirement already satisfied: parso<0.8.0,>=0.7.0 in /usr/local/anaconda3/lib/python3.8/site-packages (from jedi>=0.10->ipython>=5.4.1->jupyterthemes) (0.7.0)\n",
      "Requirement already satisfied: wcwidth in /usr/local/anaconda3/lib/python3.8/site-packages (from prompt-toolkit!=3.0.0,!=3.0.1,<3.1.0,>=2.0.0->ipython>=5.4.1->jupyterthemes) (0.2.5)\n",
      "Requirement already satisfied: ptyprocess>=0.5 in /usr/local/anaconda3/lib/python3.8/site-packages (from pexpect; sys_platform != \"win32\"->ipython>=5.4.1->jupyterthemes) (0.6.0)\n",
      "Requirement already satisfied: jsonschema!=2.5.0,>=2.4 in /usr/local/anaconda3/lib/python3.8/site-packages (from nbformat->notebook>=5.6.0->jupyterthemes) (3.2.0)\n",
      "Requirement already satisfied: entrypoints>=0.2.2 in /usr/local/anaconda3/lib/python3.8/site-packages (from nbconvert->notebook>=5.6.0->jupyterthemes) (0.3)\n",
      "Requirement already satisfied: defusedxml in /usr/local/anaconda3/lib/python3.8/site-packages (from nbconvert->notebook>=5.6.0->jupyterthemes) (0.6.0)\n",
      "Requirement already satisfied: pandocfilters>=1.4.1 in /usr/local/anaconda3/lib/python3.8/site-packages (from nbconvert->notebook>=5.6.0->jupyterthemes) (1.4.2)\n",
      "Requirement already satisfied: testpath in /usr/local/anaconda3/lib/python3.8/site-packages (from nbconvert->notebook>=5.6.0->jupyterthemes) (0.4.4)\n",
      "Requirement already satisfied: mistune<2,>=0.8.1 in /usr/local/anaconda3/lib/python3.8/site-packages (from nbconvert->notebook>=5.6.0->jupyterthemes) (0.8.4)\n",
      "Requirement already satisfied: bleach in /usr/local/anaconda3/lib/python3.8/site-packages (from nbconvert->notebook>=5.6.0->jupyterthemes) (3.1.5)\n",
      "Requirement already satisfied: MarkupSafe>=0.23 in /usr/local/anaconda3/lib/python3.8/site-packages (from jinja2->notebook>=5.6.0->jupyterthemes) (1.1.1)\n",
      "Requirement already satisfied: attrs>=17.4.0 in /usr/local/anaconda3/lib/python3.8/site-packages (from jsonschema!=2.5.0,>=2.4->nbformat->notebook>=5.6.0->jupyterthemes) (19.3.0)\n",
      "Requirement already satisfied: pyrsistent>=0.14.0 in /usr/local/anaconda3/lib/python3.8/site-packages (from jsonschema!=2.5.0,>=2.4->nbformat->notebook>=5.6.0->jupyterthemes) (0.16.0)\n",
      "Requirement already satisfied: packaging in /usr/local/anaconda3/lib/python3.8/site-packages (from bleach->nbconvert->notebook>=5.6.0->jupyterthemes) (20.4)\n",
      "Requirement already satisfied: webencodings in /usr/local/anaconda3/lib/python3.8/site-packages (from bleach->nbconvert->notebook>=5.6.0->jupyterthemes) (0.5.1)\n",
      "Installing collected packages: lesscpy, jupyterthemes\n",
      "Successfully installed jupyterthemes-0.20.0 lesscpy-0.14.0\n"
     ]
    }
   ],
   "source": [
    "!pip install jupyterthemes"
   ]
  },
  {
   "cell_type": "code",
   "execution_count": 1,
   "metadata": {
    "scrolled": true
   },
   "outputs": [
    {
     "name": "stdout",
     "output_type": "stream",
     "text": [
      "Available Themes: \r\n",
      "   chesterish\r\n",
      "   grade3\r\n",
      "   gruvboxd\r\n",
      "   gruvboxl\r\n",
      "   monokai\r\n",
      "   oceans16\r\n",
      "   onedork\r\n",
      "   solarizedd\r\n",
      "   solarizedl\r\n"
     ]
    }
   ],
   "source": [
    "!jt -l"
   ]
  },
  {
   "cell_type": "code",
   "execution_count": 3,
   "metadata": {},
   "outputs": [],
   "source": [
    "!jt -t oceans16"
   ]
  },
  {
   "cell_type": "code",
   "execution_count": 1,
   "metadata": {},
   "outputs": [
    {
     "name": "stdout",
     "output_type": "stream",
     "text": [
      "Reset css and font defaults in:\r\n",
      "/Users/shekharkhandelwal/.jupyter/custom &\r\n",
      "/Users/shekharkhandelwal/Library/Jupyter/nbextensions\r\n"
     ]
    }
   ],
   "source": [
    "!jt -r"
   ]
  },
  {
   "cell_type": "code",
   "execution_count": 1,
   "metadata": {
    "scrolled": false
   },
   "outputs": [
    {
     "name": "stdout",
     "output_type": "stream",
     "text": [
      "Requirement already satisfied: jupyter_contrib_nbextensions in /usr/local/anaconda3/lib/python3.8/site-packages (0.5.1)\n",
      "Requirement already satisfied: notebook>=4.0 in /usr/local/anaconda3/lib/python3.8/site-packages (from jupyter_contrib_nbextensions) (6.0.3)\n",
      "Requirement already satisfied: pyyaml in /usr/local/anaconda3/lib/python3.8/site-packages (from jupyter_contrib_nbextensions) (5.3.1)\n",
      "Requirement already satisfied: traitlets>=4.1 in /usr/local/anaconda3/lib/python3.8/site-packages (from jupyter_contrib_nbextensions) (4.3.3)\n",
      "Requirement already satisfied: nbconvert>=4.2 in /usr/local/anaconda3/lib/python3.8/site-packages (from jupyter_contrib_nbextensions) (5.6.1)\n",
      "Requirement already satisfied: jupyter-nbextensions-configurator>=0.4.0 in /usr/local/anaconda3/lib/python3.8/site-packages (from jupyter_contrib_nbextensions) (0.4.1)\n",
      "Requirement already satisfied: ipython-genutils in /usr/local/anaconda3/lib/python3.8/site-packages (from jupyter_contrib_nbextensions) (0.2.0)\n",
      "Requirement already satisfied: jupyter-highlight-selected-word>=0.1.1 in /usr/local/anaconda3/lib/python3.8/site-packages (from jupyter_contrib_nbextensions) (0.2.0)\n",
      "Requirement already satisfied: jupyter-core in /usr/local/anaconda3/lib/python3.8/site-packages (from jupyter_contrib_nbextensions) (4.6.3)\n",
      "Requirement already satisfied: jupyter-contrib-core>=0.3.3 in /usr/local/anaconda3/lib/python3.8/site-packages (from jupyter_contrib_nbextensions) (0.3.3)\n",
      "Requirement already satisfied: tornado in /usr/local/anaconda3/lib/python3.8/site-packages (from jupyter_contrib_nbextensions) (6.0.4)\n",
      "Requirement already satisfied: lxml in /usr/local/anaconda3/lib/python3.8/site-packages (from jupyter_contrib_nbextensions) (4.5.2)\n",
      "Requirement already satisfied: jupyter-latex-envs>=1.3.8 in /usr/local/anaconda3/lib/python3.8/site-packages (from jupyter_contrib_nbextensions) (1.4.6)\n",
      "Requirement already satisfied: pyzmq>=17 in /usr/local/anaconda3/lib/python3.8/site-packages (from notebook>=4.0->jupyter_contrib_nbextensions) (19.0.1)\n",
      "Requirement already satisfied: terminado>=0.8.1 in /usr/local/anaconda3/lib/python3.8/site-packages (from notebook>=4.0->jupyter_contrib_nbextensions) (0.8.3)\n",
      "Requirement already satisfied: jupyter-client>=5.3.4 in /usr/local/anaconda3/lib/python3.8/site-packages (from notebook>=4.0->jupyter_contrib_nbextensions) (6.1.6)\n",
      "Requirement already satisfied: Send2Trash in /usr/local/anaconda3/lib/python3.8/site-packages (from notebook>=4.0->jupyter_contrib_nbextensions) (1.5.0)\n",
      "Requirement already satisfied: ipykernel in /usr/local/anaconda3/lib/python3.8/site-packages (from notebook>=4.0->jupyter_contrib_nbextensions) (5.3.2)\n",
      "Requirement already satisfied: nbformat in /usr/local/anaconda3/lib/python3.8/site-packages (from notebook>=4.0->jupyter_contrib_nbextensions) (5.0.7)\n",
      "Requirement already satisfied: prometheus-client in /usr/local/anaconda3/lib/python3.8/site-packages (from notebook>=4.0->jupyter_contrib_nbextensions) (0.8.0)\n",
      "Requirement already satisfied: jinja2 in /usr/local/anaconda3/lib/python3.8/site-packages (from notebook>=4.0->jupyter_contrib_nbextensions) (2.11.2)\n",
      "Requirement already satisfied: six in /usr/local/anaconda3/lib/python3.8/site-packages (from traitlets>=4.1->jupyter_contrib_nbextensions) (1.15.0)\n",
      "Requirement already satisfied: decorator in /usr/local/anaconda3/lib/python3.8/site-packages (from traitlets>=4.1->jupyter_contrib_nbextensions) (4.4.2)\n",
      "Requirement already satisfied: mistune<2,>=0.8.1 in /usr/local/anaconda3/lib/python3.8/site-packages (from nbconvert>=4.2->jupyter_contrib_nbextensions) (0.8.4)\n",
      "Requirement already satisfied: entrypoints>=0.2.2 in /usr/local/anaconda3/lib/python3.8/site-packages (from nbconvert>=4.2->jupyter_contrib_nbextensions) (0.3)\n",
      "Requirement already satisfied: testpath in /usr/local/anaconda3/lib/python3.8/site-packages (from nbconvert>=4.2->jupyter_contrib_nbextensions) (0.4.4)\n",
      "Requirement already satisfied: pygments in /usr/local/anaconda3/lib/python3.8/site-packages (from nbconvert>=4.2->jupyter_contrib_nbextensions) (2.6.1)\n",
      "Requirement already satisfied: pandocfilters>=1.4.1 in /usr/local/anaconda3/lib/python3.8/site-packages (from nbconvert>=4.2->jupyter_contrib_nbextensions) (1.4.2)\n",
      "Requirement already satisfied: bleach in /usr/local/anaconda3/lib/python3.8/site-packages (from nbconvert>=4.2->jupyter_contrib_nbextensions) (3.1.5)\n",
      "Requirement already satisfied: defusedxml in /usr/local/anaconda3/lib/python3.8/site-packages (from nbconvert>=4.2->jupyter_contrib_nbextensions) (0.6.0)\n",
      "Requirement already satisfied: setuptools in /usr/local/anaconda3/lib/python3.8/site-packages (from jupyter-contrib-core>=0.3.3->jupyter_contrib_nbextensions) (49.2.0.post20200714)\n",
      "Requirement already satisfied: ipython in /usr/local/anaconda3/lib/python3.8/site-packages (from jupyter-latex-envs>=1.3.8->jupyter_contrib_nbextensions) (7.16.1)\n",
      "Requirement already satisfied: python-dateutil>=2.1 in /usr/local/anaconda3/lib/python3.8/site-packages (from jupyter-client>=5.3.4->notebook>=4.0->jupyter_contrib_nbextensions) (2.8.1)\n",
      "Requirement already satisfied: appnope; platform_system == \"Darwin\" in /usr/local/anaconda3/lib/python3.8/site-packages (from ipykernel->notebook>=4.0->jupyter_contrib_nbextensions) (0.1.0)\n",
      "Requirement already satisfied: jsonschema!=2.5.0,>=2.4 in /usr/local/anaconda3/lib/python3.8/site-packages (from nbformat->notebook>=4.0->jupyter_contrib_nbextensions) (3.2.0)\n",
      "Requirement already satisfied: MarkupSafe>=0.23 in /usr/local/anaconda3/lib/python3.8/site-packages (from jinja2->notebook>=4.0->jupyter_contrib_nbextensions) (1.1.1)\n",
      "Requirement already satisfied: packaging in /usr/local/anaconda3/lib/python3.8/site-packages (from bleach->nbconvert>=4.2->jupyter_contrib_nbextensions) (20.4)\n",
      "Requirement already satisfied: webencodings in /usr/local/anaconda3/lib/python3.8/site-packages (from bleach->nbconvert>=4.2->jupyter_contrib_nbextensions) (0.5.1)\n",
      "Requirement already satisfied: jedi>=0.10 in /usr/local/anaconda3/lib/python3.8/site-packages (from ipython->jupyter-latex-envs>=1.3.8->jupyter_contrib_nbextensions) (0.17.1)\n",
      "Requirement already satisfied: backcall in /usr/local/anaconda3/lib/python3.8/site-packages (from ipython->jupyter-latex-envs>=1.3.8->jupyter_contrib_nbextensions) (0.2.0)\n",
      "Requirement already satisfied: pexpect; sys_platform != \"win32\" in /usr/local/anaconda3/lib/python3.8/site-packages (from ipython->jupyter-latex-envs>=1.3.8->jupyter_contrib_nbextensions) (4.8.0)\n",
      "Requirement already satisfied: pickleshare in /usr/local/anaconda3/lib/python3.8/site-packages (from ipython->jupyter-latex-envs>=1.3.8->jupyter_contrib_nbextensions) (0.7.5)\n",
      "Requirement already satisfied: prompt-toolkit!=3.0.0,!=3.0.1,<3.1.0,>=2.0.0 in /usr/local/anaconda3/lib/python3.8/site-packages (from ipython->jupyter-latex-envs>=1.3.8->jupyter_contrib_nbextensions) (3.0.5)\n",
      "Requirement already satisfied: pyrsistent>=0.14.0 in /usr/local/anaconda3/lib/python3.8/site-packages (from jsonschema!=2.5.0,>=2.4->nbformat->notebook>=4.0->jupyter_contrib_nbextensions) (0.16.0)\n",
      "Requirement already satisfied: attrs>=17.4.0 in /usr/local/anaconda3/lib/python3.8/site-packages (from jsonschema!=2.5.0,>=2.4->nbformat->notebook>=4.0->jupyter_contrib_nbextensions) (19.3.0)\n",
      "Requirement already satisfied: pyparsing>=2.0.2 in /usr/local/anaconda3/lib/python3.8/site-packages (from packaging->bleach->nbconvert>=4.2->jupyter_contrib_nbextensions) (2.4.7)\n",
      "Requirement already satisfied: parso<0.8.0,>=0.7.0 in /usr/local/anaconda3/lib/python3.8/site-packages (from jedi>=0.10->ipython->jupyter-latex-envs>=1.3.8->jupyter_contrib_nbextensions) (0.7.0)\n",
      "Requirement already satisfied: ptyprocess>=0.5 in /usr/local/anaconda3/lib/python3.8/site-packages (from pexpect; sys_platform != \"win32\"->ipython->jupyter-latex-envs>=1.3.8->jupyter_contrib_nbextensions) (0.6.0)\n",
      "Requirement already satisfied: wcwidth in /usr/local/anaconda3/lib/python3.8/site-packages (from prompt-toolkit!=3.0.0,!=3.0.1,<3.1.0,>=2.0.0->ipython->jupyter-latex-envs>=1.3.8->jupyter_contrib_nbextensions) (0.2.5)\n",
      "\u001b[32m[I 10:43:31 InstallContribNbextensionsApp]\u001b[m jupyter contrib nbextension install \n",
      "\u001b[32m[I 10:43:31 InstallContribNbextensionsApp]\u001b[m Installing jupyter_contrib_nbextensions nbextension files to jupyter data directory\n"
     ]
    },
    {
     "name": "stdout",
     "output_type": "stream",
     "text": [
      "\u001b[32m[I 10:43:31 InstallContribNbextensionsApp]\u001b[m Installing /usr/local/anaconda3/lib/python3.8/site-packages/jupyter_contrib_nbextensions/nbextensions/rubberband -> rubberband\n",
      "\u001b[32m[I 10:43:31 InstallContribNbextensionsApp]\u001b[m Making directory: /usr/local/share/jupyter/nbextensions/rubberband/\n",
      "\u001b[32m[I 10:43:31 InstallContribNbextensionsApp]\u001b[m Copying: /usr/local/anaconda3/lib/python3.8/site-packages/jupyter_contrib_nbextensions/nbextensions/rubberband/icon.png -> /usr/local/share/jupyter/nbextensions/rubberband/icon.png\n",
      "\u001b[32m[I 10:43:31 InstallContribNbextensionsApp]\u001b[m Copying: /usr/local/anaconda3/lib/python3.8/site-packages/jupyter_contrib_nbextensions/nbextensions/rubberband/main.css -> /usr/local/share/jupyter/nbextensions/rubberband/main.css\n",
      "\u001b[32m[I 10:43:31 InstallContribNbextensionsApp]\u001b[m Copying: /usr/local/anaconda3/lib/python3.8/site-packages/jupyter_contrib_nbextensions/nbextensions/rubberband/readme.md -> /usr/local/share/jupyter/nbextensions/rubberband/readme.md\n",
      "\u001b[32m[I 10:43:31 InstallContribNbextensionsApp]\u001b[m Copying: /usr/local/anaconda3/lib/python3.8/site-packages/jupyter_contrib_nbextensions/nbextensions/rubberband/main.js -> /usr/local/share/jupyter/nbextensions/rubberband/main.js\n",
      "\u001b[32m[I 10:43:31 InstallContribNbextensionsApp]\u001b[m Copying: /usr/local/anaconda3/lib/python3.8/site-packages/jupyter_contrib_nbextensions/nbextensions/rubberband/rubberband.yaml -> /usr/local/share/jupyter/nbextensions/rubberband/rubberband.yaml\n",
      "\u001b[32m[I 10:43:31 InstallContribNbextensionsApp]\u001b[m - Validating: \u001b[32mOK\u001b[0m\n",
      "\u001b[32m[I 10:43:31 InstallContribNbextensionsApp]\u001b[m Installing /usr/local/anaconda3/lib/python3.8/site-packages/jupyter_contrib_nbextensions/nbextensions/scroll_down -> scroll_down\n",
      "\u001b[32m[I 10:43:31 InstallContribNbextensionsApp]\u001b[m Making directory: /usr/local/share/jupyter/nbextensions/scroll_down/\n",
      "\u001b[32m[I 10:43:31 InstallContribNbextensionsApp]\u001b[m Copying: /usr/local/anaconda3/lib/python3.8/site-packages/jupyter_contrib_nbextensions/nbextensions/scroll_down/icon.png -> /usr/local/share/jupyter/nbextensions/scroll_down/icon.png\n",
      "\u001b[32m[I 10:43:31 InstallContribNbextensionsApp]\u001b[m Copying: /usr/local/anaconda3/lib/python3.8/site-packages/jupyter_contrib_nbextensions/nbextensions/scroll_down/config.yaml -> /usr/local/share/jupyter/nbextensions/scroll_down/config.yaml\n",
      "\u001b[32m[I 10:43:31 InstallContribNbextensionsApp]\u001b[m Copying: /usr/local/anaconda3/lib/python3.8/site-packages/jupyter_contrib_nbextensions/nbextensions/scroll_down/readme.md -> /usr/local/share/jupyter/nbextensions/scroll_down/readme.md\n",
      "\u001b[32m[I 10:43:31 InstallContribNbextensionsApp]\u001b[m Copying: /usr/local/anaconda3/lib/python3.8/site-packages/jupyter_contrib_nbextensions/nbextensions/scroll_down/main.js -> /usr/local/share/jupyter/nbextensions/scroll_down/main.js\n",
      "\u001b[32m[I 10:43:31 InstallContribNbextensionsApp]\u001b[m - Validating: \u001b[32mOK\u001b[0m\n",
      "\u001b[32m[I 10:43:31 InstallContribNbextensionsApp]\u001b[m Installing /usr/local/anaconda3/lib/python3.8/site-packages/jupyter_contrib_nbextensions/nbextensions/hinterland -> hinterland\n",
      "\u001b[32m[I 10:43:31 InstallContribNbextensionsApp]\u001b[m Making directory: /usr/local/share/jupyter/nbextensions/hinterland/\n",
      "\u001b[32m[I 10:43:31 InstallContribNbextensionsApp]\u001b[m Copying: /usr/local/anaconda3/lib/python3.8/site-packages/jupyter_contrib_nbextensions/nbextensions/hinterland/hinterland.yaml -> /usr/local/share/jupyter/nbextensions/hinterland/hinterland.yaml\n",
      "\u001b[32m[I 10:43:31 InstallContribNbextensionsApp]\u001b[m Copying: /usr/local/anaconda3/lib/python3.8/site-packages/jupyter_contrib_nbextensions/nbextensions/hinterland/hinterland.js -> /usr/local/share/jupyter/nbextensions/hinterland/hinterland.js\n",
      "\u001b[32m[I 10:43:31 InstallContribNbextensionsApp]\u001b[m Copying: /usr/local/anaconda3/lib/python3.8/site-packages/jupyter_contrib_nbextensions/nbextensions/hinterland/README.md -> /usr/local/share/jupyter/nbextensions/hinterland/README.md\n",
      "\u001b[32m[I 10:43:31 InstallContribNbextensionsApp]\u001b[m - Validating: \u001b[32mOK\u001b[0m\n",
      "\u001b[32m[I 10:43:31 InstallContribNbextensionsApp]\u001b[m Installing /usr/local/anaconda3/lib/python3.8/site-packages/jupyter_contrib_nbextensions/nbextensions/snippets -> snippets\n",
      "\u001b[32m[I 10:43:31 InstallContribNbextensionsApp]\u001b[m Making directory: /usr/local/share/jupyter/nbextensions/snippets/\n",
      "\u001b[32m[I 10:43:31 InstallContribNbextensionsApp]\u001b[m Copying: /usr/local/anaconda3/lib/python3.8/site-packages/jupyter_contrib_nbextensions/nbextensions/snippets/snippets.yaml -> /usr/local/share/jupyter/nbextensions/snippets/snippets.yaml\n",
      "\u001b[32m[I 10:43:31 InstallContribNbextensionsApp]\u001b[m Copying: /usr/local/anaconda3/lib/python3.8/site-packages/jupyter_contrib_nbextensions/nbextensions/snippets/snippets.json -> /usr/local/share/jupyter/nbextensions/snippets/snippets.json\n",
      "\u001b[32m[I 10:43:31 InstallContribNbextensionsApp]\u001b[m Copying: /usr/local/anaconda3/lib/python3.8/site-packages/jupyter_contrib_nbextensions/nbextensions/snippets/README.md -> /usr/local/share/jupyter/nbextensions/snippets/README.md\n",
      "\u001b[32m[I 10:43:31 InstallContribNbextensionsApp]\u001b[m Copying: /usr/local/anaconda3/lib/python3.8/site-packages/jupyter_contrib_nbextensions/nbextensions/snippets/main.js -> /usr/local/share/jupyter/nbextensions/snippets/main.js\n",
      "\u001b[32m[I 10:43:31 InstallContribNbextensionsApp]\u001b[m Copying: /usr/local/anaconda3/lib/python3.8/site-packages/jupyter_contrib_nbextensions/nbextensions/snippets/snippets-demo.gif -> /usr/local/share/jupyter/nbextensions/snippets/snippets-demo.gif\n",
      "\u001b[32m[I 10:43:31 InstallContribNbextensionsApp]\u001b[m - Validating: \u001b[32mOK\u001b[0m\n",
      "\u001b[32m[I 10:43:31 InstallContribNbextensionsApp]\u001b[m Installing /usr/local/anaconda3/lib/python3.8/site-packages/jupyter_contrib_nbextensions/nbextensions/toggle_all_line_numbers -> toggle_all_line_numbers\n",
      "\u001b[32m[I 10:43:31 InstallContribNbextensionsApp]\u001b[m Making directory: /usr/local/share/jupyter/nbextensions/toggle_all_line_numbers/\n",
      "\u001b[32m[I 10:43:31 InstallContribNbextensionsApp]\u001b[m Copying: /usr/local/anaconda3/lib/python3.8/site-packages/jupyter_contrib_nbextensions/nbextensions/toggle_all_line_numbers/icon.png -> /usr/local/share/jupyter/nbextensions/toggle_all_line_numbers/icon.png\n",
      "\u001b[32m[I 10:43:31 InstallContribNbextensionsApp]\u001b[m Copying: /usr/local/anaconda3/lib/python3.8/site-packages/jupyter_contrib_nbextensions/nbextensions/toggle_all_line_numbers/main.yaml -> /usr/local/share/jupyter/nbextensions/toggle_all_line_numbers/main.yaml\n",
      "\u001b[32m[I 10:43:31 InstallContribNbextensionsApp]\u001b[m Copying: /usr/local/anaconda3/lib/python3.8/site-packages/jupyter_contrib_nbextensions/nbextensions/toggle_all_line_numbers/readme.md -> /usr/local/share/jupyter/nbextensions/toggle_all_line_numbers/readme.md\n",
      "\u001b[32m[I 10:43:31 InstallContribNbextensionsApp]\u001b[m Copying: /usr/local/anaconda3/lib/python3.8/site-packages/jupyter_contrib_nbextensions/nbextensions/toggle_all_line_numbers/main.js -> /usr/local/share/jupyter/nbextensions/toggle_all_line_numbers/main.js\n",
      "\u001b[32m[I 10:43:31 InstallContribNbextensionsApp]\u001b[m - Validating: \u001b[32mOK\u001b[0m\n",
      "\u001b[32m[I 10:43:31 InstallContribNbextensionsApp]\u001b[m Installing /usr/local/anaconda3/lib/python3.8/site-packages/jupyter_contrib_nbextensions/nbextensions/notify -> notify\n",
      "\u001b[32m[I 10:43:31 InstallContribNbextensionsApp]\u001b[m Making directory: /usr/local/share/jupyter/nbextensions/notify/\n",
      "\u001b[32m[I 10:43:31 InstallContribNbextensionsApp]\u001b[m Copying: /usr/local/anaconda3/lib/python3.8/site-packages/jupyter_contrib_nbextensions/nbextensions/notify/notify.js -> /usr/local/share/jupyter/nbextensions/notify/notify.js\n",
      "\u001b[32m[I 10:43:31 InstallContribNbextensionsApp]\u001b[m Copying: /usr/local/anaconda3/lib/python3.8/site-packages/jupyter_contrib_nbextensions/nbextensions/notify/notify.mp3 -> /usr/local/share/jupyter/nbextensions/notify/notify.mp3\n",
      "\u001b[32m[I 10:43:31 InstallContribNbextensionsApp]\u001b[m Copying: /usr/local/anaconda3/lib/python3.8/site-packages/jupyter_contrib_nbextensions/nbextensions/notify/readme.md -> /usr/local/share/jupyter/nbextensions/notify/readme.md\n",
      "\u001b[32m[I 10:43:31 InstallContribNbextensionsApp]\u001b[m Copying: /usr/local/anaconda3/lib/python3.8/site-packages/jupyter_contrib_nbextensions/nbextensions/notify/notify.yaml -> /usr/local/share/jupyter/nbextensions/notify/notify.yaml\n",
      "\u001b[32m[I 10:43:31 InstallContribNbextensionsApp]\u001b[m Copying: /usr/local/anaconda3/lib/python3.8/site-packages/jupyter_contrib_nbextensions/nbextensions/notify/notification.png -> /usr/local/share/jupyter/nbextensions/notify/notification.png\n",
      "\u001b[32m[I 10:43:31 InstallContribNbextensionsApp]\u001b[m - Validating: \u001b[32mOK\u001b[0m\n",
      "\u001b[32m[I 10:43:31 InstallContribNbextensionsApp]\u001b[m Installing /usr/local/anaconda3/lib/python3.8/site-packages/jupyter_contrib_nbextensions/nbextensions/runtools -> runtools\n",
      "\u001b[32m[I 10:43:31 InstallContribNbextensionsApp]\u001b[m Making directory: /usr/local/share/jupyter/nbextensions/runtools/\n",
      "\u001b[32m[I 10:43:31 InstallContribNbextensionsApp]\u001b[m Copying: /usr/local/anaconda3/lib/python3.8/site-packages/jupyter_contrib_nbextensions/nbextensions/runtools/cellstate.js -> /usr/local/share/jupyter/nbextensions/runtools/cellstate.js\n",
      "\u001b[32m[I 10:43:31 InstallContribNbextensionsApp]\u001b[m Copying: /usr/local/anaconda3/lib/python3.8/site-packages/jupyter_contrib_nbextensions/nbextensions/runtools/icon.png -> /usr/local/share/jupyter/nbextensions/runtools/icon.png\n",
      "\u001b[32m[I 10:43:31 InstallContribNbextensionsApp]\u001b[m Copying: /usr/local/anaconda3/lib/python3.8/site-packages/jupyter_contrib_nbextensions/nbextensions/runtools/runtools_execute.png -> /usr/local/share/jupyter/nbextensions/runtools/runtools_execute.png\n",
      "\u001b[32m[I 10:43:31 InstallContribNbextensionsApp]\u001b[m Copying: /usr/local/anaconda3/lib/python3.8/site-packages/jupyter_contrib_nbextensions/nbextensions/runtools/annotations.odg -> /usr/local/share/jupyter/nbextensions/runtools/annotations.odg\n",
      "\u001b[32m[I 10:43:31 InstallContribNbextensionsApp]\u001b[m Copying: /usr/local/anaconda3/lib/python3.8/site-packages/jupyter_contrib_nbextensions/nbextensions/runtools/runtools.yaml -> /usr/local/share/jupyter/nbextensions/runtools/runtools.yaml\n",
      "\u001b[32m[I 10:43:31 InstallContribNbextensionsApp]\u001b[m Copying: /usr/local/anaconda3/lib/python3.8/site-packages/jupyter_contrib_nbextensions/nbextensions/runtools/main.css -> /usr/local/share/jupyter/nbextensions/runtools/main.css\n",
      "\u001b[32m[I 10:43:31 InstallContribNbextensionsApp]\u001b[m Copying: /usr/local/anaconda3/lib/python3.8/site-packages/jupyter_contrib_nbextensions/nbextensions/runtools/runtools_nb.png -> /usr/local/share/jupyter/nbextensions/runtools/runtools_nb.png\n",
      "\u001b[32m[I 10:43:31 InstallContribNbextensionsApp]\u001b[m Copying: /usr/local/anaconda3/lib/python3.8/site-packages/jupyter_contrib_nbextensions/nbextensions/runtools/readme.md -> /usr/local/share/jupyter/nbextensions/runtools/readme.md\n",
      "\u001b[32m[I 10:43:31 InstallContribNbextensionsApp]\u001b[m Copying: /usr/local/anaconda3/lib/python3.8/site-packages/jupyter_contrib_nbextensions/nbextensions/runtools/runtools_marker.png -> /usr/local/share/jupyter/nbextensions/runtools/runtools_marker.png\n",
      "\u001b[32m[I 10:43:31 InstallContribNbextensionsApp]\u001b[m Copying: /usr/local/anaconda3/lib/python3.8/site-packages/jupyter_contrib_nbextensions/nbextensions/runtools/main.js -> /usr/local/share/jupyter/nbextensions/runtools/main.js\n",
      "\u001b[32m[I 10:43:31 InstallContribNbextensionsApp]\u001b[m Copying: /usr/local/anaconda3/lib/python3.8/site-packages/jupyter_contrib_nbextensions/nbextensions/runtools/runtools_show_hide.png -> /usr/local/share/jupyter/nbextensions/runtools/runtools_show_hide.png\n",
      "\u001b[32m[I 10:43:31 InstallContribNbextensionsApp]\u001b[m Copying: /usr/local/anaconda3/lib/python3.8/site-packages/jupyter_contrib_nbextensions/nbextensions/runtools/runtools_lock.png -> /usr/local/share/jupyter/nbextensions/runtools/runtools_lock.png\n",
      "\u001b[32m[I 10:43:31 InstallContribNbextensionsApp]\u001b[m Copying: /usr/local/anaconda3/lib/python3.8/site-packages/jupyter_contrib_nbextensions/nbextensions/runtools/demo.gif -> /usr/local/share/jupyter/nbextensions/runtools/demo.gif\n",
      "\u001b[32m[I 10:43:31 InstallContribNbextensionsApp]\u001b[m Copying: /usr/local/anaconda3/lib/python3.8/site-packages/jupyter_contrib_nbextensions/nbextensions/runtools/gutter.css -> /usr/local/share/jupyter/nbextensions/runtools/gutter.css\n",
      "\u001b[32m[I 10:43:31 InstallContribNbextensionsApp]\u001b[m - Validating: \u001b[32mOK\u001b[0m\n",
      "\u001b[32m[I 10:43:31 InstallContribNbextensionsApp]\u001b[m Installing /usr/local/anaconda3/lib/python3.8/site-packages/jupyter_contrib_nbextensions/nbextensions/tree-filter -> tree-filter\n",
      "\u001b[32m[I 10:43:31 InstallContribNbextensionsApp]\u001b[m Making directory: /usr/local/share/jupyter/nbextensions/tree-filter/\n",
      "\u001b[32m[I 10:43:31 InstallContribNbextensionsApp]\u001b[m Copying: /usr/local/anaconda3/lib/python3.8/site-packages/jupyter_contrib_nbextensions/nbextensions/tree-filter/tree-filter.yaml -> /usr/local/share/jupyter/nbextensions/tree-filter/tree-filter.yaml\n",
      "\u001b[32m[I 10:43:31 InstallContribNbextensionsApp]\u001b[m Copying: /usr/local/anaconda3/lib/python3.8/site-packages/jupyter_contrib_nbextensions/nbextensions/tree-filter/index.js -> /usr/local/share/jupyter/nbextensions/tree-filter/index.js\n",
      "\u001b[32m[I 10:43:31 InstallContribNbextensionsApp]\u001b[m Copying: /usr/local/anaconda3/lib/python3.8/site-packages/jupyter_contrib_nbextensions/nbextensions/tree-filter/readme.md -> /usr/local/share/jupyter/nbextensions/tree-filter/readme.md\n",
      "\u001b[32m[I 10:43:31 InstallContribNbextensionsApp]\u001b[m Copying: /usr/local/anaconda3/lib/python3.8/site-packages/jupyter_contrib_nbextensions/nbextensions/tree-filter/demo.gif -> /usr/local/share/jupyter/nbextensions/tree-filter/demo.gif\n",
      "\u001b[32m[I 10:43:31 InstallContribNbextensionsApp]\u001b[m - Validating: \u001b[32mOK\u001b[0m\n",
      "\u001b[32m[I 10:43:31 InstallContribNbextensionsApp]\u001b[m Installing /usr/local/anaconda3/lib/python3.8/site-packages/jupyter_contrib_nbextensions/nbextensions/table_beautifier -> table_beautifier\n",
      "\u001b[32m[I 10:43:31 InstallContribNbextensionsApp]\u001b[m Making directory: /usr/local/share/jupyter/nbextensions/table_beautifier/\n",
      "\u001b[32m[I 10:43:31 InstallContribNbextensionsApp]\u001b[m Copying: /usr/local/anaconda3/lib/python3.8/site-packages/jupyter_contrib_nbextensions/nbextensions/table_beautifier/main.css -> /usr/local/share/jupyter/nbextensions/table_beautifier/main.css\n",
      "\u001b[32m[I 10:43:31 InstallContribNbextensionsApp]\u001b[m Copying: /usr/local/anaconda3/lib/python3.8/site-packages/jupyter_contrib_nbextensions/nbextensions/table_beautifier/README.md -> /usr/local/share/jupyter/nbextensions/table_beautifier/README.md\n",
      "\u001b[32m[I 10:43:31 InstallContribNbextensionsApp]\u001b[m Copying: /usr/local/anaconda3/lib/python3.8/site-packages/jupyter_contrib_nbextensions/nbextensions/table_beautifier/main.js -> /usr/local/share/jupyter/nbextensions/table_beautifier/main.js\n",
      "\u001b[32m[I 10:43:31 InstallContribNbextensionsApp]\u001b[m Copying: /usr/local/anaconda3/lib/python3.8/site-packages/jupyter_contrib_nbextensions/nbextensions/table_beautifier/table_beautifier.yaml -> /usr/local/share/jupyter/nbextensions/table_beautifier/table_beautifier.yaml\n"
     ]
    },
    {
     "name": "stdout",
     "output_type": "stream",
     "text": [
      "\u001b[32m[I 10:43:31 InstallContribNbextensionsApp]\u001b[m - Validating: \u001b[32mOK\u001b[0m\r\n",
      "\u001b[32m[I 10:43:31 InstallContribNbextensionsApp]\u001b[m Installing /usr/local/anaconda3/lib/python3.8/site-packages/jupyter_contrib_nbextensions/nbextensions/freeze -> freeze\r\n",
      "\u001b[32m[I 10:43:31 InstallContribNbextensionsApp]\u001b[m Making directory: /usr/local/share/jupyter/nbextensions/freeze/\r\n",
      "\u001b[32m[I 10:43:31 InstallContribNbextensionsApp]\u001b[m Copying: /usr/local/anaconda3/lib/python3.8/site-packages/jupyter_contrib_nbextensions/nbextensions/freeze/icon.png -> /usr/local/share/jupyter/nbextensions/freeze/icon.png\r\n",
      "\u001b[32m[I 10:43:31 InstallContribNbextensionsApp]\u001b[m Copying: /usr/local/anaconda3/lib/python3.8/site-packages/jupyter_contrib_nbextensions/nbextensions/freeze/config.yaml -> /usr/local/share/jupyter/nbextensions/freeze/config.yaml\r\n",
      "\u001b[32m[I 10:43:31 InstallContribNbextensionsApp]\u001b[m Copying: /usr/local/anaconda3/lib/python3.8/site-packages/jupyter_contrib_nbextensions/nbextensions/freeze/readme.md -> /usr/local/share/jupyter/nbextensions/freeze/readme.md\r\n",
      "\u001b[32m[I 10:43:31 InstallContribNbextensionsApp]\u001b[m Copying: /usr/local/anaconda3/lib/python3.8/site-packages/jupyter_contrib_nbextensions/nbextensions/freeze/main.js -> /usr/local/share/jupyter/nbextensions/freeze/main.js\r\n",
      "\u001b[32m[I 10:43:31 InstallContribNbextensionsApp]\u001b[m - Validating: \u001b[32mOK\u001b[0m\r\n",
      "\u001b[32m[I 10:43:31 InstallContribNbextensionsApp]\u001b[m Installing /usr/local/anaconda3/lib/python3.8/site-packages/jupyter_contrib_nbextensions/nbextensions/exercise2 -> exercise2\r\n",
      "\u001b[32m[I 10:43:31 InstallContribNbextensionsApp]\u001b[m Making directory: /usr/local/share/jupyter/nbextensions/exercise2/\r\n",
      "\u001b[32m[I 10:43:31 InstallContribNbextensionsApp]\u001b[m Copying: /usr/local/anaconda3/lib/python3.8/site-packages/jupyter_contrib_nbextensions/nbextensions/exercise2/icon.png -> /usr/local/share/jupyter/nbextensions/exercise2/icon.png\r\n",
      "\u001b[32m[I 10:43:31 InstallContribNbextensionsApp]\u001b[m Copying: /usr/local/anaconda3/lib/python3.8/site-packages/jupyter_contrib_nbextensions/nbextensions/exercise2/exercise2.yaml -> /usr/local/share/jupyter/nbextensions/exercise2/exercise2.yaml\r\n",
      "\u001b[32m[I 10:43:31 InstallContribNbextensionsApp]\u001b[m Copying: /usr/local/anaconda3/lib/python3.8/site-packages/jupyter_contrib_nbextensions/nbextensions/exercise2/main.css -> /usr/local/share/jupyter/nbextensions/exercise2/main.css\r\n",
      "\u001b[32m[I 10:43:31 InstallContribNbextensionsApp]\u001b[m Copying: /usr/local/anaconda3/lib/python3.8/site-packages/jupyter_contrib_nbextensions/nbextensions/exercise2/image.gif -> /usr/local/share/jupyter/nbextensions/exercise2/image.gif\r\n",
      "\u001b[32m[I 10:43:31 InstallContribNbextensionsApp]\u001b[m Copying: /usr/local/anaconda3/lib/python3.8/site-packages/jupyter_contrib_nbextensions/nbextensions/exercise2/readme.md -> /usr/local/share/jupyter/nbextensions/exercise2/readme.md\r\n",
      "\u001b[32m[I 10:43:31 InstallContribNbextensionsApp]\u001b[m Copying: /usr/local/anaconda3/lib/python3.8/site-packages/jupyter_contrib_nbextensions/nbextensions/exercise2/main.js -> /usr/local/share/jupyter/nbextensions/exercise2/main.js\r\n",
      "\u001b[32m[I 10:43:31 InstallContribNbextensionsApp]\u001b[m - Validating: \u001b[32mOK\u001b[0m\r\n",
      "\u001b[32m[I 10:43:31 InstallContribNbextensionsApp]\u001b[m Installing /usr/local/anaconda3/lib/python3.8/site-packages/jupyter_contrib_nbextensions/nbextensions/execution_dependencies -> execution_dependencies\r\n",
      "\u001b[32m[I 10:43:31 InstallContribNbextensionsApp]\u001b[m Making directory: /usr/local/share/jupyter/nbextensions/execution_dependencies/\r\n",
      "\u001b[32m[I 10:43:31 InstallContribNbextensionsApp]\u001b[m Copying: /usr/local/anaconda3/lib/python3.8/site-packages/jupyter_contrib_nbextensions/nbextensions/execution_dependencies/execution_dependencies.yml -> /usr/local/share/jupyter/nbextensions/execution_dependencies/execution_dependencies.yml\r\n",
      "\u001b[32m[I 10:43:31 InstallContribNbextensionsApp]\u001b[m Copying: /usr/local/anaconda3/lib/python3.8/site-packages/jupyter_contrib_nbextensions/nbextensions/execution_dependencies/README.md -> /usr/local/share/jupyter/nbextensions/execution_dependencies/README.md\r\n",
      "\u001b[32m[I 10:43:31 InstallContribNbextensionsApp]\u001b[m Copying: /usr/local/anaconda3/lib/python3.8/site-packages/jupyter_contrib_nbextensions/nbextensions/execution_dependencies/execution_dependencies.js -> /usr/local/share/jupyter/nbextensions/execution_dependencies/execution_dependencies.js\r\n",
      "\u001b[32m[I 10:43:31 InstallContribNbextensionsApp]\u001b[m - Validating: \u001b[32mOK\u001b[0m\r\n",
      "\u001b[32m[I 10:43:31 InstallContribNbextensionsApp]\u001b[m Installing /usr/local/anaconda3/lib/python3.8/site-packages/jupyter_contrib_nbextensions/nbextensions/skill -> skill\r\n",
      "\u001b[32m[I 10:43:31 InstallContribNbextensionsApp]\u001b[m Making directory: /usr/local/share/jupyter/nbextensions/skill/\r\n",
      "\u001b[32m[I 10:43:31 InstallContribNbextensionsApp]\u001b[m Copying: /usr/local/anaconda3/lib/python3.8/site-packages/jupyter_contrib_nbextensions/nbextensions/skill/skill.js -> /usr/local/share/jupyter/nbextensions/skill/skill.js\r\n",
      "\u001b[32m[I 10:43:31 InstallContribNbextensionsApp]\u001b[m Copying: /usr/local/anaconda3/lib/python3.8/site-packages/jupyter_contrib_nbextensions/nbextensions/skill/README.md -> /usr/local/share/jupyter/nbextensions/skill/README.md\r\n",
      "\u001b[32m[I 10:43:31 InstallContribNbextensionsApp]\u001b[m Copying: /usr/local/anaconda3/lib/python3.8/site-packages/jupyter_contrib_nbextensions/nbextensions/skill/main.js -> /usr/local/share/jupyter/nbextensions/skill/main.js\r\n",
      "\u001b[32m[I 10:43:31 InstallContribNbextensionsApp]\u001b[m Copying: /usr/local/anaconda3/lib/python3.8/site-packages/jupyter_contrib_nbextensions/nbextensions/skill/skill.yaml -> /usr/local/share/jupyter/nbextensions/skill/skill.yaml\r\n",
      "\u001b[32m[I 10:43:31 InstallContribNbextensionsApp]\u001b[m - Validating: \u001b[32mOK\u001b[0m\r\n",
      "\u001b[32m[I 10:43:31 InstallContribNbextensionsApp]\u001b[m Installing /usr/local/anaconda3/lib/python3.8/site-packages/jupyter_contrib_nbextensions/nbextensions/splitcell -> splitcell\r\n",
      "\u001b[32m[I 10:43:31 InstallContribNbextensionsApp]\u001b[m Making directory: /usr/local/share/jupyter/nbextensions/splitcell/\r\n",
      "\u001b[32m[I 10:43:31 InstallContribNbextensionsApp]\u001b[m Copying: /usr/local/anaconda3/lib/python3.8/site-packages/jupyter_contrib_nbextensions/nbextensions/splitcell/icon.png -> /usr/local/share/jupyter/nbextensions/splitcell/icon.png\r\n",
      "\u001b[32m[I 10:43:31 InstallContribNbextensionsApp]\u001b[m Copying: /usr/local/anaconda3/lib/python3.8/site-packages/jupyter_contrib_nbextensions/nbextensions/splitcell/readme.md -> /usr/local/share/jupyter/nbextensions/splitcell/readme.md\r\n",
      "\u001b[32m[I 10:43:31 InstallContribNbextensionsApp]\u001b[m Copying: /usr/local/anaconda3/lib/python3.8/site-packages/jupyter_contrib_nbextensions/nbextensions/splitcell/splitcell.yaml -> /usr/local/share/jupyter/nbextensions/splitcell/splitcell.yaml\r\n",
      "\u001b[32m[I 10:43:31 InstallContribNbextensionsApp]\u001b[m Copying: /usr/local/anaconda3/lib/python3.8/site-packages/jupyter_contrib_nbextensions/nbextensions/splitcell/splitcell.js -> /usr/local/share/jupyter/nbextensions/splitcell/splitcell.js\r\n",
      "\u001b[32m[I 10:43:31 InstallContribNbextensionsApp]\u001b[m - Validating: \u001b[32mOK\u001b[0m\r\n",
      "\u001b[32m[I 10:43:31 InstallContribNbextensionsApp]\u001b[m Installing /usr/local/anaconda3/lib/python3.8/site-packages/jupyter_contrib_nbextensions/nbextensions/autosavetime -> autosavetime\r\n",
      "\u001b[32m[I 10:43:31 InstallContribNbextensionsApp]\u001b[m Making directory: /usr/local/share/jupyter/nbextensions/autosavetime/\r\n",
      "\u001b[32m[I 10:43:31 InstallContribNbextensionsApp]\u001b[m Copying: /usr/local/anaconda3/lib/python3.8/site-packages/jupyter_contrib_nbextensions/nbextensions/autosavetime/icon.png -> /usr/local/share/jupyter/nbextensions/autosavetime/icon.png\r\n",
      "\u001b[32m[I 10:43:31 InstallContribNbextensionsApp]\u001b[m Copying: /usr/local/anaconda3/lib/python3.8/site-packages/jupyter_contrib_nbextensions/nbextensions/autosavetime/README.md -> /usr/local/share/jupyter/nbextensions/autosavetime/README.md\r\n",
      "\u001b[32m[I 10:43:31 InstallContribNbextensionsApp]\u001b[m Copying: /usr/local/anaconda3/lib/python3.8/site-packages/jupyter_contrib_nbextensions/nbextensions/autosavetime/autosavetime.yaml -> /usr/local/share/jupyter/nbextensions/autosavetime/autosavetime.yaml\r\n",
      "\u001b[32m[I 10:43:31 InstallContribNbextensionsApp]\u001b[m Copying: /usr/local/anaconda3/lib/python3.8/site-packages/jupyter_contrib_nbextensions/nbextensions/autosavetime/main.js -> /usr/local/share/jupyter/nbextensions/autosavetime/main.js\r\n",
      "\u001b[32m[I 10:43:31 InstallContribNbextensionsApp]\u001b[m - Validating: \u001b[32mOK\u001b[0m\r\n",
      "\u001b[32m[I 10:43:31 InstallContribNbextensionsApp]\u001b[m Installing /usr/local/anaconda3/lib/python3.8/site-packages/jupyter_contrib_nbextensions/nbextensions/select_keymap -> select_keymap\r\n",
      "\u001b[32m[I 10:43:31 InstallContribNbextensionsApp]\u001b[m Making directory: /usr/local/share/jupyter/nbextensions/select_keymap/\r\n",
      "\u001b[32m[I 10:43:31 InstallContribNbextensionsApp]\u001b[m Copying: /usr/local/anaconda3/lib/python3.8/site-packages/jupyter_contrib_nbextensions/nbextensions/select_keymap/select_keymap.png -> /usr/local/share/jupyter/nbextensions/select_keymap/select_keymap.png\r\n",
      "\u001b[32m[I 10:43:31 InstallContribNbextensionsApp]\u001b[m Copying: /usr/local/anaconda3/lib/python3.8/site-packages/jupyter_contrib_nbextensions/nbextensions/select_keymap/README.md -> /usr/local/share/jupyter/nbextensions/select_keymap/README.md\r\n",
      "\u001b[32m[I 10:43:31 InstallContribNbextensionsApp]\u001b[m Copying: /usr/local/anaconda3/lib/python3.8/site-packages/jupyter_contrib_nbextensions/nbextensions/select_keymap/main.js -> /usr/local/share/jupyter/nbextensions/select_keymap/main.js\r\n",
      "\u001b[32m[I 10:43:31 InstallContribNbextensionsApp]\u001b[m Copying: /usr/local/anaconda3/lib/python3.8/site-packages/jupyter_contrib_nbextensions/nbextensions/select_keymap/select_keymap.yaml -> /usr/local/share/jupyter/nbextensions/select_keymap/select_keymap.yaml\r\n",
      "\u001b[32m[I 10:43:31 InstallContribNbextensionsApp]\u001b[m - Validating: \u001b[32mOK\u001b[0m\r\n",
      "\u001b[32m[I 10:43:31 InstallContribNbextensionsApp]\u001b[m Installing /usr/local/anaconda3/lib/python3.8/site-packages/jupyter_contrib_nbextensions/nbextensions/livemdpreview -> livemdpreview\r\n",
      "\u001b[32m[I 10:43:31 InstallContribNbextensionsApp]\u001b[m Making directory: /usr/local/share/jupyter/nbextensions/livemdpreview/\r\n",
      "\u001b[32m[I 10:43:31 InstallContribNbextensionsApp]\u001b[m Copying: /usr/local/anaconda3/lib/python3.8/site-packages/jupyter_contrib_nbextensions/nbextensions/livemdpreview/livemdpreview.yml -> /usr/local/share/jupyter/nbextensions/livemdpreview/livemdpreview.yml\r\n",
      "\u001b[32m[I 10:43:31 InstallContribNbextensionsApp]\u001b[m Copying: /usr/local/anaconda3/lib/python3.8/site-packages/jupyter_contrib_nbextensions/nbextensions/livemdpreview/livemdpreview.js -> /usr/local/share/jupyter/nbextensions/livemdpreview/livemdpreview.js\r\n",
      "\u001b[32m[I 10:43:31 InstallContribNbextensionsApp]\u001b[m - Validating: \u001b[32mOK\u001b[0m\r\n",
      "\u001b[32m[I 10:43:31 InstallContribNbextensionsApp]\u001b[m Installing /usr/local/anaconda3/lib/python3.8/site-packages/jupyter_contrib_nbextensions/nbextensions/gist_it -> gist_it\r\n",
      "\u001b[32m[I 10:43:31 InstallContribNbextensionsApp]\u001b[m Making directory: /usr/local/share/jupyter/nbextensions/gist_it/\r\n",
      "\u001b[32m[I 10:43:31 InstallContribNbextensionsApp]\u001b[m Copying: /usr/local/anaconda3/lib/python3.8/site-packages/jupyter_contrib_nbextensions/nbextensions/gist_it/icon.png -> /usr/local/share/jupyter/nbextensions/gist_it/icon.png\r\n",
      "\u001b[32m[I 10:43:31 InstallContribNbextensionsApp]\u001b[m Copying: /usr/local/anaconda3/lib/python3.8/site-packages/jupyter_contrib_nbextensions/nbextensions/gist_it/gist_it.yaml -> /usr/local/share/jupyter/nbextensions/gist_it/gist_it.yaml\r\n",
      "\u001b[32m[I 10:43:31 InstallContribNbextensionsApp]\u001b[m Copying: /usr/local/anaconda3/lib/python3.8/site-packages/jupyter_contrib_nbextensions/nbextensions/gist_it/readme.md -> /usr/local/share/jupyter/nbextensions/gist_it/readme.md\r\n",
      "\u001b[32m[I 10:43:31 InstallContribNbextensionsApp]\u001b[m Copying: /usr/local/anaconda3/lib/python3.8/site-packages/jupyter_contrib_nbextensions/nbextensions/gist_it/main.js -> /usr/local/share/jupyter/nbextensions/gist_it/main.js\r\n",
      "\u001b[32m[I 10:43:31 InstallContribNbextensionsApp]\u001b[m - Validating: \u001b[32mOK\u001b[0m\r\n",
      "\u001b[32m[I 10:43:31 InstallContribNbextensionsApp]\u001b[m Installing /usr/local/anaconda3/lib/python3.8/site-packages/jupyter_contrib_nbextensions/nbextensions/cell_filter -> cell_filter\r\n",
      "\u001b[32m[I 10:43:31 InstallContribNbextensionsApp]\u001b[m Making directory: /usr/local/share/jupyter/nbextensions/cell_filter/\r\n",
      "\u001b[32m[I 10:43:31 InstallContribNbextensionsApp]\u001b[m Copying: /usr/local/anaconda3/lib/python3.8/site-packages/jupyter_contrib_nbextensions/nbextensions/cell_filter/cell_filter.yml -> /usr/local/share/jupyter/nbextensions/cell_filter/cell_filter.yml\r\n",
      "\u001b[32m[I 10:43:31 InstallContribNbextensionsApp]\u001b[m Copying: /usr/local/anaconda3/lib/python3.8/site-packages/jupyter_contrib_nbextensions/nbextensions/cell_filter/cell_filter.js -> /usr/local/share/jupyter/nbextensions/cell_filter/cell_filter.js\r\n",
      "\u001b[32m[I 10:43:31 InstallContribNbextensionsApp]\u001b[m Copying: /usr/local/anaconda3/lib/python3.8/site-packages/jupyter_contrib_nbextensions/nbextensions/cell_filter/README.md -> /usr/local/share/jupyter/nbextensions/cell_filter/README.md\r\n",
      "\u001b[32m[I 10:43:31 InstallContribNbextensionsApp]\u001b[m - Validating: \u001b[32mOK\u001b[0m\r\n",
      "\u001b[32m[I 10:43:31 InstallContribNbextensionsApp]\u001b[m Installing /usr/local/anaconda3/lib/python3.8/site-packages/jupyter_contrib_nbextensions/nbextensions/scratchpad -> scratchpad\r\n",
      "\u001b[32m[I 10:43:31 InstallContribNbextensionsApp]\u001b[m Making directory: /usr/local/share/jupyter/nbextensions/scratchpad/\r\n",
      "\u001b[32m[I 10:43:31 InstallContribNbextensionsApp]\u001b[m Copying: /usr/local/anaconda3/lib/python3.8/site-packages/jupyter_contrib_nbextensions/nbextensions/scratchpad/LICENSE -> /usr/local/share/jupyter/nbextensions/scratchpad/LICENSE\r\n",
      "\u001b[32m[I 10:43:31 InstallContribNbextensionsApp]\u001b[m Copying: /usr/local/anaconda3/lib/python3.8/site-packages/jupyter_contrib_nbextensions/nbextensions/scratchpad/scratchpad.yaml -> /usr/local/share/jupyter/nbextensions/scratchpad/scratchpad.yaml\r\n",
      "\u001b[32m[I 10:43:31 InstallContribNbextensionsApp]\u001b[m Copying: /usr/local/anaconda3/lib/python3.8/site-packages/jupyter_contrib_nbextensions/nbextensions/scratchpad/README.md -> /usr/local/share/jupyter/nbextensions/scratchpad/README.md\r\n",
      "\u001b[32m[I 10:43:31 InstallContribNbextensionsApp]\u001b[m Copying: /usr/local/anaconda3/lib/python3.8/site-packages/jupyter_contrib_nbextensions/nbextensions/scratchpad/main.js -> /usr/local/share/jupyter/nbextensions/scratchpad/main.js\r\n",
      "\u001b[32m[I 10:43:31 InstallContribNbextensionsApp]\u001b[m Copying: /usr/local/anaconda3/lib/python3.8/site-packages/jupyter_contrib_nbextensions/nbextensions/scratchpad/scratchpad.css -> /usr/local/share/jupyter/nbextensions/scratchpad/scratchpad.css\r\n",
      "\u001b[32m[I 10:43:31 InstallContribNbextensionsApp]\u001b[m Copying: /usr/local/anaconda3/lib/python3.8/site-packages/jupyter_contrib_nbextensions/nbextensions/scratchpad/demo.gif -> /usr/local/share/jupyter/nbextensions/scratchpad/demo.gif\r\n",
      "\u001b[32m[I 10:43:31 InstallContribNbextensionsApp]\u001b[m - Validating: \u001b[32mOK\u001b[0m\r\n",
      "\u001b[32m[I 10:43:31 InstallContribNbextensionsApp]\u001b[m Installing /usr/local/anaconda3/lib/python3.8/site-packages/jupyter_contrib_nbextensions/nbextensions/toc2 -> toc2\r\n",
      "\u001b[32m[I 10:43:31 InstallContribNbextensionsApp]\u001b[m Making directory: /usr/local/share/jupyter/nbextensions/toc2/\r\n",
      "\u001b[32m[I 10:43:31 InstallContribNbextensionsApp]\u001b[m Copying: /usr/local/anaconda3/lib/python3.8/site-packages/jupyter_contrib_nbextensions/nbextensions/toc2/toc2.yaml -> /usr/local/share/jupyter/nbextensions/toc2/toc2.yaml\r\n",
      "\u001b[32m[I 10:43:31 InstallContribNbextensionsApp]\u001b[m Copying: /usr/local/anaconda3/lib/python3.8/site-packages/jupyter_contrib_nbextensions/nbextensions/toc2/icon.png -> /usr/local/share/jupyter/nbextensions/toc2/icon.png\r\n",
      "\u001b[32m[I 10:43:31 InstallContribNbextensionsApp]\u001b[m Copying: /usr/local/anaconda3/lib/python3.8/site-packages/jupyter_contrib_nbextensions/nbextensions/toc2/demo_dark.png -> /usr/local/share/jupyter/nbextensions/toc2/demo_dark.png\r\n",
      "\u001b[32m[I 10:43:31 InstallContribNbextensionsApp]\u001b[m Copying: /usr/local/anaconda3/lib/python3.8/site-packages/jupyter_contrib_nbextensions/nbextensions/toc2/main.css -> /usr/local/share/jupyter/nbextensions/toc2/main.css\r\n",
      "\u001b[32m[I 10:43:31 InstallContribNbextensionsApp]\u001b[m Copying: /usr/local/anaconda3/lib/python3.8/site-packages/jupyter_contrib_nbextensions/nbextensions/toc2/README.md -> /usr/local/share/jupyter/nbextensions/toc2/README.md\r\n",
      "\u001b[32m[I 10:43:31 InstallContribNbextensionsApp]\u001b[m Copying: /usr/local/anaconda3/lib/python3.8/site-packages/jupyter_contrib_nbextensions/nbextensions/toc2/main.js -> /usr/local/share/jupyter/nbextensions/toc2/main.js\r\n",
      "\u001b[32m[I 10:43:31 InstallContribNbextensionsApp]\u001b[m Copying: /usr/local/anaconda3/lib/python3.8/site-packages/jupyter_contrib_nbextensions/nbextensions/toc2/demo3.gif -> /usr/local/share/jupyter/nbextensions/toc2/demo3.gif\r\n",
      "\u001b[32m[I 10:43:31 InstallContribNbextensionsApp]\u001b[m Copying: /usr/local/anaconda3/lib/python3.8/site-packages/jupyter_contrib_nbextensions/nbextensions/toc2/demo2.gif -> /usr/local/share/jupyter/nbextensions/toc2/demo2.gif\r\n",
      "\u001b[32m[I 10:43:31 InstallContribNbextensionsApp]\u001b[m Copying: /usr/local/anaconda3/lib/python3.8/site-packages/jupyter_contrib_nbextensions/nbextensions/toc2/toc2.js -> /usr/local/share/jupyter/nbextensions/toc2/toc2.js\r\n",
      "\u001b[32m[I 10:43:31 InstallContribNbextensionsApp]\u001b[m Copying: /usr/local/anaconda3/lib/python3.8/site-packages/jupyter_contrib_nbextensions/nbextensions/toc2/demo.gif -> /usr/local/share/jupyter/nbextensions/toc2/demo.gif\r\n"
     ]
    },
    {
     "name": "stdout",
     "output_type": "stream",
     "text": [
      "\u001b[32m[I 10:43:31 InstallContribNbextensionsApp]\u001b[m Copying: /usr/local/anaconda3/lib/python3.8/site-packages/jupyter_contrib_nbextensions/nbextensions/toc2/image.png -> /usr/local/share/jupyter/nbextensions/toc2/image.png\r\n",
      "\u001b[32m[I 10:43:31 InstallContribNbextensionsApp]\u001b[m - Validating: \u001b[32mOK\u001b[0m\r\n",
      "\u001b[32m[I 10:43:31 InstallContribNbextensionsApp]\u001b[m Installing /usr/local/anaconda3/lib/python3.8/site-packages/jupyter_contrib_nbextensions/nbextensions/nbTranslate -> nbTranslate\r\n",
      "\u001b[32m[I 10:43:31 InstallContribNbextensionsApp]\u001b[m Making directory: /usr/local/share/jupyter/nbextensions/nbTranslate/\r\n",
      "\u001b[32m[I 10:43:31 InstallContribNbextensionsApp]\u001b[m Copying: /usr/local/anaconda3/lib/python3.8/site-packages/jupyter_contrib_nbextensions/nbextensions/nbTranslate/nbTranslate.yaml -> /usr/local/share/jupyter/nbextensions/nbTranslate/nbTranslate.yaml\r\n",
      "\u001b[32m[I 10:43:31 InstallContribNbextensionsApp]\u001b[m Copying: /usr/local/anaconda3/lib/python3.8/site-packages/jupyter_contrib_nbextensions/nbextensions/nbTranslate/nbTranslate.js -> /usr/local/share/jupyter/nbextensions/nbTranslate/nbTranslate.js\r\n",
      "\u001b[32m[I 10:43:31 InstallContribNbextensionsApp]\u001b[m Copying: /usr/local/anaconda3/lib/python3.8/site-packages/jupyter_contrib_nbextensions/nbextensions/nbTranslate/README.md -> /usr/local/share/jupyter/nbextensions/nbTranslate/README.md\r\n",
      "\u001b[32m[I 10:43:31 InstallContribNbextensionsApp]\u001b[m Copying: /usr/local/anaconda3/lib/python3.8/site-packages/jupyter_contrib_nbextensions/nbextensions/nbTranslate/main.js -> /usr/local/share/jupyter/nbextensions/nbTranslate/main.js\r\n",
      "\u001b[32m[I 10:43:31 InstallContribNbextensionsApp]\u001b[m Copying: /usr/local/anaconda3/lib/python3.8/site-packages/jupyter_contrib_nbextensions/nbextensions/nbTranslate/demo1.gif -> /usr/local/share/jupyter/nbextensions/nbTranslate/demo1.gif\r\n",
      "\u001b[32m[I 10:43:31 InstallContribNbextensionsApp]\u001b[m Copying: /usr/local/anaconda3/lib/python3.8/site-packages/jupyter_contrib_nbextensions/nbextensions/nbTranslate/demo2.gif -> /usr/local/share/jupyter/nbextensions/nbTranslate/demo2.gif\r\n",
      "\u001b[32m[I 10:43:31 InstallContribNbextensionsApp]\u001b[m Copying: /usr/local/anaconda3/lib/python3.8/site-packages/jupyter_contrib_nbextensions/nbextensions/nbTranslate/languages.js -> /usr/local/share/jupyter/nbextensions/nbTranslate/languages.js\r\n",
      "\u001b[32m[I 10:43:31 InstallContribNbextensionsApp]\u001b[m Copying: /usr/local/anaconda3/lib/python3.8/site-packages/jupyter_contrib_nbextensions/nbextensions/nbTranslate/mutils.js -> /usr/local/share/jupyter/nbextensions/nbTranslate/mutils.js\r\n",
      "\u001b[32m[I 10:43:31 InstallContribNbextensionsApp]\u001b[m - Validating: \u001b[32mOK\u001b[0m\r\n",
      "\u001b[32m[I 10:43:31 InstallContribNbextensionsApp]\u001b[m Installing /usr/local/anaconda3/lib/python3.8/site-packages/jupyter_contrib_nbextensions/nbextensions/equation-numbering -> equation-numbering\r\n",
      "\u001b[32m[I 10:43:31 InstallContribNbextensionsApp]\u001b[m Making directory: /usr/local/share/jupyter/nbextensions/equation-numbering/\r\n",
      "\u001b[32m[I 10:43:31 InstallContribNbextensionsApp]\u001b[m Copying: /usr/local/anaconda3/lib/python3.8/site-packages/jupyter_contrib_nbextensions/nbextensions/equation-numbering/icon.png -> /usr/local/share/jupyter/nbextensions/equation-numbering/icon.png\r\n",
      "\u001b[32m[I 10:43:31 InstallContribNbextensionsApp]\u001b[m Copying: /usr/local/anaconda3/lib/python3.8/site-packages/jupyter_contrib_nbextensions/nbextensions/equation-numbering/readme.md -> /usr/local/share/jupyter/nbextensions/equation-numbering/readme.md\r\n",
      "\u001b[32m[I 10:43:31 InstallContribNbextensionsApp]\u001b[m Copying: /usr/local/anaconda3/lib/python3.8/site-packages/jupyter_contrib_nbextensions/nbextensions/equation-numbering/main.js -> /usr/local/share/jupyter/nbextensions/equation-numbering/main.js\r\n",
      "\u001b[32m[I 10:43:31 InstallContribNbextensionsApp]\u001b[m Copying: /usr/local/anaconda3/lib/python3.8/site-packages/jupyter_contrib_nbextensions/nbextensions/equation-numbering/info.yaml -> /usr/local/share/jupyter/nbextensions/equation-numbering/info.yaml\r\n",
      "\u001b[32m[I 10:43:31 InstallContribNbextensionsApp]\u001b[m Copying: /usr/local/anaconda3/lib/python3.8/site-packages/jupyter_contrib_nbextensions/nbextensions/equation-numbering/button.png -> /usr/local/share/jupyter/nbextensions/equation-numbering/button.png\r\n",
      "\u001b[32m[I 10:43:31 InstallContribNbextensionsApp]\u001b[m - Validating: \u001b[32mOK\u001b[0m\r\n",
      "\u001b[32m[I 10:43:31 InstallContribNbextensionsApp]\u001b[m Installing /usr/local/anaconda3/lib/python3.8/site-packages/jupyter_contrib_nbextensions/nbextensions/navigation-hotkeys -> navigation-hotkeys\r\n",
      "\u001b[32m[I 10:43:31 InstallContribNbextensionsApp]\u001b[m Making directory: /usr/local/share/jupyter/nbextensions/navigation-hotkeys/\r\n",
      "\u001b[32m[I 10:43:31 InstallContribNbextensionsApp]\u001b[m Copying: /usr/local/anaconda3/lib/python3.8/site-packages/jupyter_contrib_nbextensions/nbextensions/navigation-hotkeys/icon.png -> /usr/local/share/jupyter/nbextensions/navigation-hotkeys/icon.png\r\n",
      "\u001b[32m[I 10:43:31 InstallContribNbextensionsApp]\u001b[m Copying: /usr/local/anaconda3/lib/python3.8/site-packages/jupyter_contrib_nbextensions/nbextensions/navigation-hotkeys/readme.md -> /usr/local/share/jupyter/nbextensions/navigation-hotkeys/readme.md\r\n",
      "\u001b[32m[I 10:43:31 InstallContribNbextensionsApp]\u001b[m Copying: /usr/local/anaconda3/lib/python3.8/site-packages/jupyter_contrib_nbextensions/nbextensions/navigation-hotkeys/main.js -> /usr/local/share/jupyter/nbextensions/navigation-hotkeys/main.js\r\n",
      "\u001b[32m[I 10:43:31 InstallContribNbextensionsApp]\u001b[m Copying: /usr/local/anaconda3/lib/python3.8/site-packages/jupyter_contrib_nbextensions/nbextensions/navigation-hotkeys/hotkeys.yaml -> /usr/local/share/jupyter/nbextensions/navigation-hotkeys/hotkeys.yaml\r\n",
      "\u001b[32m[I 10:43:31 InstallContribNbextensionsApp]\u001b[m - Validating: \u001b[32mOK\u001b[0m\r\n",
      "\u001b[32m[I 10:43:31 InstallContribNbextensionsApp]\u001b[m Installing /usr/local/anaconda3/lib/python3.8/site-packages/jupyter_contrib_nbextensions/nbextensions/snippets_menu -> snippets_menu\r\n",
      "\u001b[32m[I 10:43:31 InstallContribNbextensionsApp]\u001b[m Making directory: /usr/local/share/jupyter/nbextensions/snippets_menu/\r\n",
      "\u001b[32m[I 10:43:31 InstallContribNbextensionsApp]\u001b[m Copying: /usr/local/anaconda3/lib/python3.8/site-packages/jupyter_contrib_nbextensions/nbextensions/snippets_menu/snippets_menu.css -> /usr/local/share/jupyter/nbextensions/snippets_menu/snippets_menu.css\r\n",
      "\u001b[32m[I 10:43:31 InstallContribNbextensionsApp]\u001b[m Copying: /usr/local/anaconda3/lib/python3.8/site-packages/jupyter_contrib_nbextensions/nbextensions/snippets_menu/snippets_submenu_python.js -> /usr/local/share/jupyter/nbextensions/snippets_menu/snippets_submenu_python.js\r\n",
      "\u001b[32m[I 10:43:31 InstallContribNbextensionsApp]\u001b[m Copying: /usr/local/anaconda3/lib/python3.8/site-packages/jupyter_contrib_nbextensions/nbextensions/snippets_menu/config.yaml -> /usr/local/share/jupyter/nbextensions/snippets_menu/config.yaml\r\n",
      "\u001b[32m[I 10:43:31 InstallContribNbextensionsApp]\u001b[m Copying: /usr/local/anaconda3/lib/python3.8/site-packages/jupyter_contrib_nbextensions/nbextensions/snippets_menu/readme.md -> /usr/local/share/jupyter/nbextensions/snippets_menu/readme.md\r\n",
      "\u001b[32m[I 10:43:31 InstallContribNbextensionsApp]\u001b[m Copying: /usr/local/anaconda3/lib/python3.8/site-packages/jupyter_contrib_nbextensions/nbextensions/snippets_menu/main.js -> /usr/local/share/jupyter/nbextensions/snippets_menu/main.js\r\n",
      "\u001b[32m[I 10:43:31 InstallContribNbextensionsApp]\u001b[m Copying: /usr/local/anaconda3/lib/python3.8/site-packages/jupyter_contrib_nbextensions/nbextensions/snippets_menu/snippets_submenu_markdown.js -> /usr/local/share/jupyter/nbextensions/snippets_menu/snippets_submenu_markdown.js\r\n",
      "\u001b[32m[I 10:43:31 InstallContribNbextensionsApp]\u001b[m Copying: /usr/local/anaconda3/lib/python3.8/site-packages/jupyter_contrib_nbextensions/nbextensions/snippets_menu/thumbnail.png -> /usr/local/share/jupyter/nbextensions/snippets_menu/thumbnail.png\r\n",
      "\u001b[32m[I 10:43:31 InstallContribNbextensionsApp]\u001b[m Copying: /usr/local/anaconda3/lib/python3.8/site-packages/jupyter_contrib_nbextensions/nbextensions/snippets_menu/screenshot1.png -> /usr/local/share/jupyter/nbextensions/snippets_menu/screenshot1.png\r\n",
      "\u001b[32m[I 10:43:31 InstallContribNbextensionsApp]\u001b[m Copying: /usr/local/anaconda3/lib/python3.8/site-packages/jupyter_contrib_nbextensions/nbextensions/snippets_menu/screenshot2.png -> /usr/local/share/jupyter/nbextensions/snippets_menu/screenshot2.png\r\n",
      "\u001b[32m[I 10:43:31 InstallContribNbextensionsApp]\u001b[m Copying: /usr/local/anaconda3/lib/python3.8/site-packages/jupyter_contrib_nbextensions/nbextensions/snippets_menu/screenshot3.png -> /usr/local/share/jupyter/nbextensions/snippets_menu/screenshot3.png\r\n",
      "\u001b[32m[I 10:43:31 InstallContribNbextensionsApp]\u001b[m Copying: /usr/local/anaconda3/lib/python3.8/site-packages/jupyter_contrib_nbextensions/nbextensions/snippets_menu/examples_for_custom.js -> /usr/local/share/jupyter/nbextensions/snippets_menu/examples_for_custom.js\r\n",
      "\u001b[32m[I 10:43:31 InstallContribNbextensionsApp]\u001b[m Making directory: /usr/local/share/jupyter/nbextensions/snippets_menu/snippets_submenus_python\r\n",
      "\u001b[32m[I 10:43:31 InstallContribNbextensionsApp]\u001b[m Copying: /usr/local/anaconda3/lib/python3.8/site-packages/jupyter_contrib_nbextensions/nbextensions/snippets_menu/snippets_submenus_python/numpy_ufuncs.js -> /usr/local/share/jupyter/nbextensions/snippets_menu/snippets_submenus_python/numpy_ufuncs.js\r\n",
      "\u001b[32m[I 10:43:31 InstallContribNbextensionsApp]\u001b[m Copying: /usr/local/anaconda3/lib/python3.8/site-packages/jupyter_contrib_nbextensions/nbextensions/snippets_menu/snippets_submenus_python/numba.js -> /usr/local/share/jupyter/nbextensions/snippets_menu/snippets_submenus_python/numba.js\r\n",
      "\u001b[32m[I 10:43:31 InstallContribNbextensionsApp]\u001b[m Copying: /usr/local/anaconda3/lib/python3.8/site-packages/jupyter_contrib_nbextensions/nbextensions/snippets_menu/snippets_submenus_python/sympy_assumptions.js -> /usr/local/share/jupyter/nbextensions/snippets_menu/snippets_submenus_python/sympy_assumptions.js\r\n",
      "\u001b[32m[I 10:43:31 InstallContribNbextensionsApp]\u001b[m Copying: /usr/local/anaconda3/lib/python3.8/site-packages/jupyter_contrib_nbextensions/nbextensions/snippets_menu/snippets_submenus_python/sympy.js -> /usr/local/share/jupyter/nbextensions/snippets_menu/snippets_submenus_python/sympy.js\r\n",
      "\u001b[32m[I 10:43:31 InstallContribNbextensionsApp]\u001b[m Copying: /usr/local/anaconda3/lib/python3.8/site-packages/jupyter_contrib_nbextensions/nbextensions/snippets_menu/snippets_submenus_python/numpy.js -> /usr/local/share/jupyter/nbextensions/snippets_menu/snippets_submenus_python/numpy.js\r\n",
      "\u001b[32m[I 10:43:31 InstallContribNbextensionsApp]\u001b[m Copying: /usr/local/anaconda3/lib/python3.8/site-packages/jupyter_contrib_nbextensions/nbextensions/snippets_menu/snippets_submenus_python/astropy.js -> /usr/local/share/jupyter/nbextensions/snippets_menu/snippets_submenus_python/astropy.js\r\n",
      "\u001b[32m[I 10:43:31 InstallContribNbextensionsApp]\u001b[m Copying: /usr/local/anaconda3/lib/python3.8/site-packages/jupyter_contrib_nbextensions/nbextensions/snippets_menu/snippets_submenus_python/pandas.js -> /usr/local/share/jupyter/nbextensions/snippets_menu/snippets_submenus_python/pandas.js\r\n",
      "\u001b[32m[I 10:43:31 InstallContribNbextensionsApp]\u001b[m Copying: /usr/local/anaconda3/lib/python3.8/site-packages/jupyter_contrib_nbextensions/nbextensions/snippets_menu/snippets_submenus_python/numpy_polynomial.js -> /usr/local/share/jupyter/nbextensions/snippets_menu/snippets_submenus_python/numpy_polynomial.js\r\n",
      "\u001b[32m[I 10:43:31 InstallContribNbextensionsApp]\u001b[m Copying: /usr/local/anaconda3/lib/python3.8/site-packages/jupyter_contrib_nbextensions/nbextensions/snippets_menu/snippets_submenus_python/scipy_constants.js -> /usr/local/share/jupyter/nbextensions/snippets_menu/snippets_submenus_python/scipy_constants.js\r\n"
     ]
    },
    {
     "name": "stdout",
     "output_type": "stream",
     "text": [
      "\u001b[32m[I 10:43:31 InstallContribNbextensionsApp]\u001b[m Copying: /usr/local/anaconda3/lib/python3.8/site-packages/jupyter_contrib_nbextensions/nbextensions/snippets_menu/snippets_submenus_python/matplotlib.js -> /usr/local/share/jupyter/nbextensions/snippets_menu/snippets_submenus_python/matplotlib.js\r\n",
      "\u001b[32m[I 10:43:31 InstallContribNbextensionsApp]\u001b[m Copying: /usr/local/anaconda3/lib/python3.8/site-packages/jupyter_contrib_nbextensions/nbextensions/snippets_menu/snippets_submenus_python/sympy_functions.js -> /usr/local/share/jupyter/nbextensions/snippets_menu/snippets_submenus_python/sympy_functions.js\r\n",
      "\u001b[32m[I 10:43:31 InstallContribNbextensionsApp]\u001b[m Copying: /usr/local/anaconda3/lib/python3.8/site-packages/jupyter_contrib_nbextensions/nbextensions/snippets_menu/snippets_submenus_python/h5py.js -> /usr/local/share/jupyter/nbextensions/snippets_menu/snippets_submenus_python/h5py.js\r\n",
      "\u001b[32m[I 10:43:31 InstallContribNbextensionsApp]\u001b[m Copying: /usr/local/anaconda3/lib/python3.8/site-packages/jupyter_contrib_nbextensions/nbextensions/snippets_menu/snippets_submenus_python/scipy_special.js -> /usr/local/share/jupyter/nbextensions/snippets_menu/snippets_submenus_python/scipy_special.js\r\n",
      "\u001b[32m[I 10:43:31 InstallContribNbextensionsApp]\u001b[m Copying: /usr/local/anaconda3/lib/python3.8/site-packages/jupyter_contrib_nbextensions/nbextensions/snippets_menu/snippets_submenus_python/python_regex.js -> /usr/local/share/jupyter/nbextensions/snippets_menu/snippets_submenus_python/python_regex.js\r\n",
      "\u001b[32m[I 10:43:31 InstallContribNbextensionsApp]\u001b[m Copying: /usr/local/anaconda3/lib/python3.8/site-packages/jupyter_contrib_nbextensions/nbextensions/snippets_menu/snippets_submenus_python/python.js -> /usr/local/share/jupyter/nbextensions/snippets_menu/snippets_submenus_python/python.js\r\n",
      "\u001b[32m[I 10:43:31 InstallContribNbextensionsApp]\u001b[m Copying: /usr/local/anaconda3/lib/python3.8/site-packages/jupyter_contrib_nbextensions/nbextensions/snippets_menu/snippets_submenus_python/scipy.js -> /usr/local/share/jupyter/nbextensions/snippets_menu/snippets_submenus_python/scipy.js\r\n",
      "\u001b[32m[I 10:43:31 InstallContribNbextensionsApp]\u001b[m - Validating: \u001b[32mOK\u001b[0m\r\n",
      "\u001b[32m[I 10:43:31 InstallContribNbextensionsApp]\u001b[m Installing /usr/local/anaconda3/lib/python3.8/site-packages/jupyter_contrib_nbextensions/nbextensions/printview -> printview\r\n",
      "\u001b[32m[I 10:43:31 InstallContribNbextensionsApp]\u001b[m Making directory: /usr/local/share/jupyter/nbextensions/printview/\r\n",
      "\u001b[32m[I 10:43:31 InstallContribNbextensionsApp]\u001b[m Copying: /usr/local/anaconda3/lib/python3.8/site-packages/jupyter_contrib_nbextensions/nbextensions/printview/icon.png -> /usr/local/share/jupyter/nbextensions/printview/icon.png\r\n",
      "\u001b[32m[I 10:43:31 InstallContribNbextensionsApp]\u001b[m Copying: /usr/local/anaconda3/lib/python3.8/site-packages/jupyter_contrib_nbextensions/nbextensions/printview/printview-button.png -> /usr/local/share/jupyter/nbextensions/printview/printview-button.png\r\n",
      "\u001b[32m[I 10:43:31 InstallContribNbextensionsApp]\u001b[m Copying: /usr/local/anaconda3/lib/python3.8/site-packages/jupyter_contrib_nbextensions/nbextensions/printview/readme.md -> /usr/local/share/jupyter/nbextensions/printview/readme.md\r\n",
      "\u001b[32m[I 10:43:31 InstallContribNbextensionsApp]\u001b[m Copying: /usr/local/anaconda3/lib/python3.8/site-packages/jupyter_contrib_nbextensions/nbextensions/printview/main.js -> /usr/local/share/jupyter/nbextensions/printview/main.js\r\n",
      "\u001b[32m[I 10:43:31 InstallContribNbextensionsApp]\u001b[m Copying: /usr/local/anaconda3/lib/python3.8/site-packages/jupyter_contrib_nbextensions/nbextensions/printview/printview.yaml -> /usr/local/share/jupyter/nbextensions/printview/printview.yaml\r\n",
      "\u001b[32m[I 10:43:31 InstallContribNbextensionsApp]\u001b[m - Validating: \u001b[32mOK\u001b[0m\r\n",
      "\u001b[32m[I 10:43:31 InstallContribNbextensionsApp]\u001b[m Installing /usr/local/anaconda3/lib/python3.8/site-packages/jupyter_contrib_nbextensions/nbextensions/export_embedded -> export_embedded\r\n",
      "\u001b[32m[I 10:43:31 InstallContribNbextensionsApp]\u001b[m Making directory: /usr/local/share/jupyter/nbextensions/export_embedded/\r\n",
      "\u001b[32m[I 10:43:31 InstallContribNbextensionsApp]\u001b[m Copying: /usr/local/anaconda3/lib/python3.8/site-packages/jupyter_contrib_nbextensions/nbextensions/export_embedded/export_embedded.yaml -> /usr/local/share/jupyter/nbextensions/export_embedded/export_embedded.yaml\r\n",
      "\u001b[32m[I 10:43:31 InstallContribNbextensionsApp]\u001b[m Copying: /usr/local/anaconda3/lib/python3.8/site-packages/jupyter_contrib_nbextensions/nbextensions/export_embedded/icon.png -> /usr/local/share/jupyter/nbextensions/export_embedded/icon.png\r\n",
      "\u001b[32m[I 10:43:31 InstallContribNbextensionsApp]\u001b[m Copying: /usr/local/anaconda3/lib/python3.8/site-packages/jupyter_contrib_nbextensions/nbextensions/export_embedded/readme.md -> /usr/local/share/jupyter/nbextensions/export_embedded/readme.md\r\n",
      "\u001b[32m[I 10:43:31 InstallContribNbextensionsApp]\u001b[m Copying: /usr/local/anaconda3/lib/python3.8/site-packages/jupyter_contrib_nbextensions/nbextensions/export_embedded/main.js -> /usr/local/share/jupyter/nbextensions/export_embedded/main.js\r\n",
      "\u001b[32m[I 10:43:31 InstallContribNbextensionsApp]\u001b[m - Validating: \u001b[32mOK\u001b[0m\r\n",
      "\u001b[32m[I 10:43:31 InstallContribNbextensionsApp]\u001b[m Installing /usr/local/anaconda3/lib/python3.8/site-packages/jupyter_contrib_nbextensions/nbextensions/autoscroll -> autoscroll\r\n",
      "\u001b[32m[I 10:43:31 InstallContribNbextensionsApp]\u001b[m Making directory: /usr/local/share/jupyter/nbextensions/autoscroll/\r\n",
      "\u001b[32m[I 10:43:31 InstallContribNbextensionsApp]\u001b[m Copying: /usr/local/anaconda3/lib/python3.8/site-packages/jupyter_contrib_nbextensions/nbextensions/autoscroll/icon.png -> /usr/local/share/jupyter/nbextensions/autoscroll/icon.png\r\n",
      "\u001b[32m[I 10:43:31 InstallContribNbextensionsApp]\u001b[m Copying: /usr/local/anaconda3/lib/python3.8/site-packages/jupyter_contrib_nbextensions/nbextensions/autoscroll/autoscroll.yaml -> /usr/local/share/jupyter/nbextensions/autoscroll/autoscroll.yaml\r\n",
      "\u001b[32m[I 10:43:31 InstallContribNbextensionsApp]\u001b[m Copying: /usr/local/anaconda3/lib/python3.8/site-packages/jupyter_contrib_nbextensions/nbextensions/autoscroll/README.md -> /usr/local/share/jupyter/nbextensions/autoscroll/README.md\r\n",
      "\u001b[32m[I 10:43:31 InstallContribNbextensionsApp]\u001b[m Copying: /usr/local/anaconda3/lib/python3.8/site-packages/jupyter_contrib_nbextensions/nbextensions/autoscroll/main.js -> /usr/local/share/jupyter/nbextensions/autoscroll/main.js\r\n",
      "\u001b[32m[I 10:43:31 InstallContribNbextensionsApp]\u001b[m - Validating: \u001b[32mOK\u001b[0m\r\n",
      "\u001b[32m[I 10:43:31 InstallContribNbextensionsApp]\u001b[m Installing /usr/local/anaconda3/lib/python3.8/site-packages/jupyter_contrib_nbextensions/nbextensions/hide_input -> hide_input\r\n",
      "\u001b[32m[I 10:43:31 InstallContribNbextensionsApp]\u001b[m Making directory: /usr/local/share/jupyter/nbextensions/hide_input/\r\n",
      "\u001b[32m[I 10:43:31 InstallContribNbextensionsApp]\u001b[m Copying: /usr/local/anaconda3/lib/python3.8/site-packages/jupyter_contrib_nbextensions/nbextensions/hide_input/icon.png -> /usr/local/share/jupyter/nbextensions/hide_input/icon.png\r\n",
      "\u001b[32m[I 10:43:31 InstallContribNbextensionsApp]\u001b[m Copying: /usr/local/anaconda3/lib/python3.8/site-packages/jupyter_contrib_nbextensions/nbextensions/hide_input/readme.md -> /usr/local/share/jupyter/nbextensions/hide_input/readme.md\r\n",
      "\u001b[32m[I 10:43:31 InstallContribNbextensionsApp]\u001b[m Copying: /usr/local/anaconda3/lib/python3.8/site-packages/jupyter_contrib_nbextensions/nbextensions/hide_input/main.js -> /usr/local/share/jupyter/nbextensions/hide_input/main.js\r\n",
      "\u001b[32m[I 10:43:31 InstallContribNbextensionsApp]\u001b[m Copying: /usr/local/anaconda3/lib/python3.8/site-packages/jupyter_contrib_nbextensions/nbextensions/hide_input/hide-input.yaml -> /usr/local/share/jupyter/nbextensions/hide_input/hide-input.yaml\r\n",
      "\u001b[32m[I 10:43:31 InstallContribNbextensionsApp]\u001b[m - Validating: \u001b[32mOK\u001b[0m\r\n",
      "\u001b[32m[I 10:43:31 InstallContribNbextensionsApp]\u001b[m Installing /usr/local/anaconda3/lib/python3.8/site-packages/jupyter_contrib_nbextensions/nbextensions/hide_input_all -> hide_input_all\r\n",
      "\u001b[32m[I 10:43:31 InstallContribNbextensionsApp]\u001b[m Making directory: /usr/local/share/jupyter/nbextensions/hide_input_all/\r\n",
      "\u001b[32m[I 10:43:31 InstallContribNbextensionsApp]\u001b[m Copying: /usr/local/anaconda3/lib/python3.8/site-packages/jupyter_contrib_nbextensions/nbextensions/hide_input_all/icon.png -> /usr/local/share/jupyter/nbextensions/hide_input_all/icon.png\r\n",
      "\u001b[32m[I 10:43:31 InstallContribNbextensionsApp]\u001b[m Copying: /usr/local/anaconda3/lib/python3.8/site-packages/jupyter_contrib_nbextensions/nbextensions/hide_input_all/hide_input_all.yaml -> /usr/local/share/jupyter/nbextensions/hide_input_all/hide_input_all.yaml\r\n",
      "\u001b[32m[I 10:43:31 InstallContribNbextensionsApp]\u001b[m Copying: /usr/local/anaconda3/lib/python3.8/site-packages/jupyter_contrib_nbextensions/nbextensions/hide_input_all/hide_input_all_show.png -> /usr/local/share/jupyter/nbextensions/hide_input_all/hide_input_all_show.png\r\n",
      "\u001b[32m[I 10:43:31 InstallContribNbextensionsApp]\u001b[m Copying: /usr/local/anaconda3/lib/python3.8/site-packages/jupyter_contrib_nbextensions/nbextensions/hide_input_all/readme.md -> /usr/local/share/jupyter/nbextensions/hide_input_all/readme.md\r\n",
      "\u001b[32m[I 10:43:31 InstallContribNbextensionsApp]\u001b[m Copying: /usr/local/anaconda3/lib/python3.8/site-packages/jupyter_contrib_nbextensions/nbextensions/hide_input_all/main.js -> /usr/local/share/jupyter/nbextensions/hide_input_all/main.js\r\n",
      "\u001b[32m[I 10:43:31 InstallContribNbextensionsApp]\u001b[m Copying: /usr/local/anaconda3/lib/python3.8/site-packages/jupyter_contrib_nbextensions/nbextensions/hide_input_all/hide_input_all_hide.png -> /usr/local/share/jupyter/nbextensions/hide_input_all/hide_input_all_hide.png\r\n",
      "\u001b[32m[I 10:43:31 InstallContribNbextensionsApp]\u001b[m - Validating: \u001b[32mOK\u001b[0m\r\n",
      "\u001b[32m[I 10:43:31 InstallContribNbextensionsApp]\u001b[m Installing /usr/local/anaconda3/lib/python3.8/site-packages/jupyter_contrib_nbextensions/nbextensions/keyboard_shortcut_editor -> keyboard_shortcut_editor\r\n",
      "\u001b[32m[I 10:43:31 InstallContribNbextensionsApp]\u001b[m Making directory: /usr/local/share/jupyter/nbextensions/keyboard_shortcut_editor/\r\n",
      "\u001b[32m[I 10:43:31 InstallContribNbextensionsApp]\u001b[m Copying: /usr/local/anaconda3/lib/python3.8/site-packages/jupyter_contrib_nbextensions/nbextensions/keyboard_shortcut_editor/keyboard_shortcut_editor.yaml -> /usr/local/share/jupyter/nbextensions/keyboard_shortcut_editor/keyboard_shortcut_editor.yaml\r\n",
      "\u001b[32m[I 10:43:31 InstallContribNbextensionsApp]\u001b[m Copying: /usr/local/anaconda3/lib/python3.8/site-packages/jupyter_contrib_nbextensions/nbextensions/keyboard_shortcut_editor/icon.png -> /usr/local/share/jupyter/nbextensions/keyboard_shortcut_editor/icon.png\r\n",
      "\u001b[32m[I 10:43:31 InstallContribNbextensionsApp]\u001b[m Copying: /usr/local/anaconda3/lib/python3.8/site-packages/jupyter_contrib_nbextensions/nbextensions/keyboard_shortcut_editor/readme_comma.png -> /usr/local/share/jupyter/nbextensions/keyboard_shortcut_editor/readme_comma.png\r\n",
      "\u001b[32m[I 10:43:31 InstallContribNbextensionsApp]\u001b[m Copying: /usr/local/anaconda3/lib/python3.8/site-packages/jupyter_contrib_nbextensions/nbextensions/keyboard_shortcut_editor/readme_shortcut_editor_blank.png -> /usr/local/share/jupyter/nbextensions/keyboard_shortcut_editor/readme_shortcut_editor_blank.png\r\n",
      "\u001b[32m[I 10:43:31 InstallContribNbextensionsApp]\u001b[m Copying: /usr/local/anaconda3/lib/python3.8/site-packages/jupyter_contrib_nbextensions/nbextensions/keyboard_shortcut_editor/readme_shortcut_editor_success.png -> /usr/local/share/jupyter/nbextensions/keyboard_shortcut_editor/readme_shortcut_editor_success.png\r\n",
      "\u001b[32m[I 10:43:31 InstallContribNbextensionsApp]\u001b[m Copying: /usr/local/anaconda3/lib/python3.8/site-packages/jupyter_contrib_nbextensions/nbextensions/keyboard_shortcut_editor/main.css -> /usr/local/share/jupyter/nbextensions/keyboard_shortcut_editor/main.css\r\n",
      "\u001b[32m[I 10:43:31 InstallContribNbextensionsApp]\u001b[m Copying: /usr/local/anaconda3/lib/python3.8/site-packages/jupyter_contrib_nbextensions/nbextensions/keyboard_shortcut_editor/README.md -> /usr/local/share/jupyter/nbextensions/keyboard_shortcut_editor/README.md\r\n",
      "\u001b[32m[I 10:43:31 InstallContribNbextensionsApp]\u001b[m Copying: /usr/local/anaconda3/lib/python3.8/site-packages/jupyter_contrib_nbextensions/nbextensions/keyboard_shortcut_editor/readme_reset_disabled.png -> /usr/local/share/jupyter/nbextensions/keyboard_shortcut_editor/readme_reset_disabled.png\r\n",
      "\u001b[32m[I 10:43:31 InstallContribNbextensionsApp]\u001b[m Copying: /usr/local/anaconda3/lib/python3.8/site-packages/jupyter_contrib_nbextensions/nbextensions/keyboard_shortcut_editor/readme_add_new_link.png -> /usr/local/share/jupyter/nbextensions/keyboard_shortcut_editor/readme_add_new_link.png\r\n",
      "\u001b[32m[I 10:43:31 InstallContribNbextensionsApp]\u001b[m Copying: /usr/local/anaconda3/lib/python3.8/site-packages/jupyter_contrib_nbextensions/nbextensions/keyboard_shortcut_editor/main.js -> /usr/local/share/jupyter/nbextensions/keyboard_shortcut_editor/main.js\r\n",
      "\u001b[32m[I 10:43:31 InstallContribNbextensionsApp]\u001b[m Copying: /usr/local/anaconda3/lib/python3.8/site-packages/jupyter_contrib_nbextensions/nbextensions/keyboard_shortcut_editor/readme_dropdown.png -> /usr/local/share/jupyter/nbextensions/keyboard_shortcut_editor/readme_dropdown.png\r\n",
      "\u001b[32m[I 10:43:31 InstallContribNbextensionsApp]\u001b[m Copying: /usr/local/anaconda3/lib/python3.8/site-packages/jupyter_contrib_nbextensions/nbextensions/keyboard_shortcut_editor/quickhelp_shim.js -> /usr/local/share/jupyter/nbextensions/keyboard_shortcut_editor/quickhelp_shim.js\r\n",
      "\u001b[32m[I 10:43:31 InstallContribNbextensionsApp]\u001b[m Copying: /usr/local/anaconda3/lib/python3.8/site-packages/jupyter_contrib_nbextensions/nbextensions/keyboard_shortcut_editor/readme_add_new_select_action.png -> /usr/local/share/jupyter/nbextensions/keyboard_shortcut_editor/readme_add_new_select_action.png\r\n",
      "\u001b[32m[I 10:43:31 InstallContribNbextensionsApp]\u001b[m Copying: /usr/local/anaconda3/lib/python3.8/site-packages/jupyter_contrib_nbextensions/nbextensions/keyboard_shortcut_editor/kse_components.js -> /usr/local/share/jupyter/nbextensions/keyboard_shortcut_editor/kse_components.js\r\n",
      "\u001b[32m[I 10:43:31 InstallContribNbextensionsApp]\u001b[m Copying: /usr/local/anaconda3/lib/python3.8/site-packages/jupyter_contrib_nbextensions/nbextensions/keyboard_shortcut_editor/readme_undefined_key.png -> /usr/local/share/jupyter/nbextensions/keyboard_shortcut_editor/readme_undefined_key.png\r\n",
      "\u001b[32m[I 10:43:31 InstallContribNbextensionsApp]\u001b[m Copying: /usr/local/anaconda3/lib/python3.8/site-packages/jupyter_contrib_nbextensions/nbextensions/keyboard_shortcut_editor/readme_conflict.png -> /usr/local/share/jupyter/nbextensions/keyboard_shortcut_editor/readme_conflict.png\r\n",
      "\u001b[32m[I 10:43:31 InstallContribNbextensionsApp]\u001b[m Copying: /usr/local/anaconda3/lib/python3.8/site-packages/jupyter_contrib_nbextensions/nbextensions/keyboard_shortcut_editor/readme_menu_item.png -> /usr/local/share/jupyter/nbextensions/keyboard_shortcut_editor/readme_menu_item.png\r\n",
      "\u001b[32m[I 10:43:31 InstallContribNbextensionsApp]\u001b[m - Validating: \u001b[32mOK\u001b[0m\r\n",
      "\u001b[32m[I 10:43:31 InstallContribNbextensionsApp]\u001b[m Installing /usr/local/anaconda3/lib/python3.8/site-packages/jupyter_contrib_nbextensions/nbextensions/help_panel -> help_panel\r\n",
      "\u001b[32m[I 10:43:31 InstallContribNbextensionsApp]\u001b[m Making directory: /usr/local/share/jupyter/nbextensions/help_panel/\r\n",
      "\u001b[32m[I 10:43:31 InstallContribNbextensionsApp]\u001b[m Copying: /usr/local/anaconda3/lib/python3.8/site-packages/jupyter_contrib_nbextensions/nbextensions/help_panel/icon.png -> /usr/local/share/jupyter/nbextensions/help_panel/icon.png\r\n"
     ]
    },
    {
     "name": "stdout",
     "output_type": "stream",
     "text": [
      "\u001b[32m[I 10:43:31 InstallContribNbextensionsApp]\u001b[m Copying: /usr/local/anaconda3/lib/python3.8/site-packages/jupyter_contrib_nbextensions/nbextensions/help_panel/help_panel_ext.png -> /usr/local/share/jupyter/nbextensions/help_panel/help_panel_ext.png\r\n",
      "\u001b[32m[I 10:43:31 InstallContribNbextensionsApp]\u001b[m Copying: /usr/local/anaconda3/lib/python3.8/site-packages/jupyter_contrib_nbextensions/nbextensions/help_panel/readme.md -> /usr/local/share/jupyter/nbextensions/help_panel/readme.md\r\n",
      "\u001b[32m[I 10:43:31 InstallContribNbextensionsApp]\u001b[m Copying: /usr/local/anaconda3/lib/python3.8/site-packages/jupyter_contrib_nbextensions/nbextensions/help_panel/help_panel_ext_fullscreen.png -> /usr/local/share/jupyter/nbextensions/help_panel/help_panel_ext_fullscreen.png\r\n",
      "\u001b[32m[I 10:43:31 InstallContribNbextensionsApp]\u001b[m Copying: /usr/local/anaconda3/lib/python3.8/site-packages/jupyter_contrib_nbextensions/nbextensions/help_panel/help_panel.yaml -> /usr/local/share/jupyter/nbextensions/help_panel/help_panel.yaml\r\n",
      "\u001b[32m[I 10:43:31 InstallContribNbextensionsApp]\u001b[m Copying: /usr/local/anaconda3/lib/python3.8/site-packages/jupyter_contrib_nbextensions/nbextensions/help_panel/help_panel.css -> /usr/local/share/jupyter/nbextensions/help_panel/help_panel.css\r\n",
      "\u001b[32m[I 10:43:31 InstallContribNbextensionsApp]\u001b[m Copying: /usr/local/anaconda3/lib/python3.8/site-packages/jupyter_contrib_nbextensions/nbextensions/help_panel/help_panel.js -> /usr/local/share/jupyter/nbextensions/help_panel/help_panel.js\r\n",
      "\u001b[32m[I 10:43:31 InstallContribNbextensionsApp]\u001b[m Making directory: /usr/local/share/jupyter/nbextensions/help_panel/img\r\n",
      "\u001b[32m[I 10:43:31 InstallContribNbextensionsApp]\u001b[m Copying: /usr/local/anaconda3/lib/python3.8/site-packages/jupyter_contrib_nbextensions/nbextensions/help_panel/img/handle-v.png -> /usr/local/share/jupyter/nbextensions/help_panel/img/handle-v.png\r\n",
      "\u001b[32m[I 10:43:31 InstallContribNbextensionsApp]\u001b[m - Validating: \u001b[32mOK\u001b[0m\r\n",
      "\u001b[32m[I 10:43:31 InstallContribNbextensionsApp]\u001b[m Installing /usr/local/anaconda3/lib/python3.8/site-packages/jupyter_contrib_nbextensions/nbextensions/move_selected_cells -> move_selected_cells\r\n",
      "\u001b[32m[I 10:43:31 InstallContribNbextensionsApp]\u001b[m Making directory: /usr/local/share/jupyter/nbextensions/move_selected_cells/\r\n",
      "\u001b[32m[I 10:43:31 InstallContribNbextensionsApp]\u001b[m Copying: /usr/local/anaconda3/lib/python3.8/site-packages/jupyter_contrib_nbextensions/nbextensions/move_selected_cells/README.md -> /usr/local/share/jupyter/nbextensions/move_selected_cells/README.md\r\n",
      "\u001b[32m[I 10:43:31 InstallContribNbextensionsApp]\u001b[m Copying: /usr/local/anaconda3/lib/python3.8/site-packages/jupyter_contrib_nbextensions/nbextensions/move_selected_cells/main.js -> /usr/local/share/jupyter/nbextensions/move_selected_cells/main.js\r\n",
      "\u001b[32m[I 10:43:31 InstallContribNbextensionsApp]\u001b[m Copying: /usr/local/anaconda3/lib/python3.8/site-packages/jupyter_contrib_nbextensions/nbextensions/move_selected_cells/move_selected_cells.yaml -> /usr/local/share/jupyter/nbextensions/move_selected_cells/move_selected_cells.yaml\r\n",
      "\u001b[32m[I 10:43:31 InstallContribNbextensionsApp]\u001b[m - Validating: \u001b[32mOK\u001b[0m\r\n",
      "\u001b[32m[I 10:43:31 InstallContribNbextensionsApp]\u001b[m Installing /usr/local/anaconda3/lib/python3.8/site-packages/jupyter_contrib_nbextensions/nbextensions/zenmode -> zenmode\r\n",
      "\u001b[32m[I 10:43:31 InstallContribNbextensionsApp]\u001b[m Making directory: /usr/local/share/jupyter/nbextensions/zenmode/\r\n",
      "\u001b[32m[I 10:43:31 InstallContribNbextensionsApp]\u001b[m Copying: /usr/local/anaconda3/lib/python3.8/site-packages/jupyter_contrib_nbextensions/nbextensions/zenmode/main.css -> /usr/local/share/jupyter/nbextensions/zenmode/main.css\r\n",
      "\u001b[32m[I 10:43:31 InstallContribNbextensionsApp]\u001b[m Copying: /usr/local/anaconda3/lib/python3.8/site-packages/jupyter_contrib_nbextensions/nbextensions/zenmode/README.md -> /usr/local/share/jupyter/nbextensions/zenmode/README.md\r\n",
      "\u001b[32m[I 10:43:31 InstallContribNbextensionsApp]\u001b[m Copying: /usr/local/anaconda3/lib/python3.8/site-packages/jupyter_contrib_nbextensions/nbextensions/zenmode/main.js -> /usr/local/share/jupyter/nbextensions/zenmode/main.js\r\n",
      "\u001b[32m[I 10:43:31 InstallContribNbextensionsApp]\u001b[m Copying: /usr/local/anaconda3/lib/python3.8/site-packages/jupyter_contrib_nbextensions/nbextensions/zenmode/zenmode.yaml -> /usr/local/share/jupyter/nbextensions/zenmode/zenmode.yaml\r\n",
      "\u001b[32m[I 10:43:31 InstallContribNbextensionsApp]\u001b[m Making directory: /usr/local/share/jupyter/nbextensions/zenmode/images\r\n",
      "\u001b[32m[I 10:43:31 InstallContribNbextensionsApp]\u001b[m Copying: /usr/local/anaconda3/lib/python3.8/site-packages/jupyter_contrib_nbextensions/nbextensions/zenmode/images/back12.jpg -> /usr/local/share/jupyter/nbextensions/zenmode/images/back12.jpg\r\n",
      "\u001b[32m[I 10:43:31 InstallContribNbextensionsApp]\u001b[m Copying: /usr/local/anaconda3/lib/python3.8/site-packages/jupyter_contrib_nbextensions/nbextensions/zenmode/images/back11.jpg -> /usr/local/share/jupyter/nbextensions/zenmode/images/back11.jpg\r\n",
      "\u001b[32m[I 10:43:31 InstallContribNbextensionsApp]\u001b[m Copying: /usr/local/anaconda3/lib/python3.8/site-packages/jupyter_contrib_nbextensions/nbextensions/zenmode/images/back2.jpg -> /usr/local/share/jupyter/nbextensions/zenmode/images/back2.jpg\r\n",
      "\u001b[32m[I 10:43:31 InstallContribNbextensionsApp]\u001b[m Copying: /usr/local/anaconda3/lib/python3.8/site-packages/jupyter_contrib_nbextensions/nbextensions/zenmode/images/back3.jpg -> /usr/local/share/jupyter/nbextensions/zenmode/images/back3.jpg\r\n",
      "\u001b[32m[I 10:43:31 InstallContribNbextensionsApp]\u001b[m Copying: /usr/local/anaconda3/lib/python3.8/site-packages/jupyter_contrib_nbextensions/nbextensions/zenmode/images/back1.jpg -> /usr/local/share/jupyter/nbextensions/zenmode/images/back1.jpg\r\n",
      "\u001b[32m[I 10:43:31 InstallContribNbextensionsApp]\u001b[m Copying: /usr/local/anaconda3/lib/python3.8/site-packages/jupyter_contrib_nbextensions/nbextensions/zenmode/images/ipynblogo1.png -> /usr/local/share/jupyter/nbextensions/zenmode/images/ipynblogo1.png\r\n",
      "\u001b[32m[I 10:43:31 InstallContribNbextensionsApp]\u001b[m Copying: /usr/local/anaconda3/lib/python3.8/site-packages/jupyter_contrib_nbextensions/nbextensions/zenmode/images/ipynblogo0.png -> /usr/local/share/jupyter/nbextensions/zenmode/images/ipynblogo0.png\r\n",
      "\u001b[32m[I 10:43:31 InstallContribNbextensionsApp]\u001b[m Copying: /usr/local/anaconda3/lib/python3.8/site-packages/jupyter_contrib_nbextensions/nbextensions/zenmode/images/back21.jpg -> /usr/local/share/jupyter/nbextensions/zenmode/images/back21.jpg\r\n",
      "\u001b[32m[I 10:43:31 InstallContribNbextensionsApp]\u001b[m Copying: /usr/local/anaconda3/lib/python3.8/site-packages/jupyter_contrib_nbextensions/nbextensions/zenmode/images/back22.jpg -> /usr/local/share/jupyter/nbextensions/zenmode/images/back22.jpg\r\n",
      "\u001b[32m[I 10:43:31 InstallContribNbextensionsApp]\u001b[m - Validating: \u001b[32mOK\u001b[0m\r\n",
      "\u001b[32m[I 10:43:31 InstallContribNbextensionsApp]\u001b[m Installing /usr/local/anaconda3/lib/python3.8/site-packages/jupyter_contrib_nbextensions/nbextensions/skip-traceback -> skip-traceback\r\n",
      "\u001b[32m[I 10:43:31 InstallContribNbextensionsApp]\u001b[m Making directory: /usr/local/share/jupyter/nbextensions/skip-traceback/\r\n",
      "\u001b[32m[I 10:43:31 InstallContribNbextensionsApp]\u001b[m Copying: /usr/local/anaconda3/lib/python3.8/site-packages/jupyter_contrib_nbextensions/nbextensions/skip-traceback/icon.png -> /usr/local/share/jupyter/nbextensions/skip-traceback/icon.png\r\n",
      "\u001b[32m[I 10:43:31 InstallContribNbextensionsApp]\u001b[m Copying: /usr/local/anaconda3/lib/python3.8/site-packages/jupyter_contrib_nbextensions/nbextensions/skip-traceback/traceback.png -> /usr/local/share/jupyter/nbextensions/skip-traceback/traceback.png\r\n",
      "\u001b[32m[I 10:43:31 InstallContribNbextensionsApp]\u001b[m Copying: /usr/local/anaconda3/lib/python3.8/site-packages/jupyter_contrib_nbextensions/nbextensions/skip-traceback/readme.md -> /usr/local/share/jupyter/nbextensions/skip-traceback/readme.md\r\n",
      "\u001b[32m[I 10:43:31 InstallContribNbextensionsApp]\u001b[m Copying: /usr/local/anaconda3/lib/python3.8/site-packages/jupyter_contrib_nbextensions/nbextensions/skip-traceback/main.js -> /usr/local/share/jupyter/nbextensions/skip-traceback/main.js\r\n",
      "\u001b[32m[I 10:43:31 InstallContribNbextensionsApp]\u001b[m Copying: /usr/local/anaconda3/lib/python3.8/site-packages/jupyter_contrib_nbextensions/nbextensions/skip-traceback/skip-traceback.yaml -> /usr/local/share/jupyter/nbextensions/skip-traceback/skip-traceback.yaml\r\n",
      "\u001b[32m[I 10:43:31 InstallContribNbextensionsApp]\u001b[m Copying: /usr/local/anaconda3/lib/python3.8/site-packages/jupyter_contrib_nbextensions/nbextensions/skip-traceback/skip-traceback.png -> /usr/local/share/jupyter/nbextensions/skip-traceback/skip-traceback.png\r\n",
      "\u001b[32m[I 10:43:31 InstallContribNbextensionsApp]\u001b[m - Validating: \u001b[32mOK\u001b[0m\r\n",
      "\u001b[32m[I 10:43:31 InstallContribNbextensionsApp]\u001b[m Installing /usr/local/anaconda3/lib/python3.8/site-packages/jupyter_contrib_nbextensions/nbextensions/python-markdown -> python-markdown\r\n",
      "\u001b[32m[I 10:43:31 InstallContribNbextensionsApp]\u001b[m Making directory: /usr/local/share/jupyter/nbextensions/python-markdown/\r\n",
      "\u001b[32m[I 10:43:31 InstallContribNbextensionsApp]\u001b[m Copying: /usr/local/anaconda3/lib/python3.8/site-packages/jupyter_contrib_nbextensions/nbextensions/python-markdown/untrusted.png -> /usr/local/share/jupyter/nbextensions/python-markdown/untrusted.png\r\n",
      "\u001b[32m[I 10:43:31 InstallContribNbextensionsApp]\u001b[m Copying: /usr/local/anaconda3/lib/python3.8/site-packages/jupyter_contrib_nbextensions/nbextensions/python-markdown/python-markdown-pre.png -> /usr/local/share/jupyter/nbextensions/python-markdown/python-markdown-pre.png\r\n",
      "\u001b[32m[I 10:43:31 InstallContribNbextensionsApp]\u001b[m Copying: /usr/local/anaconda3/lib/python3.8/site-packages/jupyter_contrib_nbextensions/nbextensions/python-markdown/main.css -> /usr/local/share/jupyter/nbextensions/python-markdown/main.css\r\n",
      "\u001b[32m[I 10:43:31 InstallContribNbextensionsApp]\u001b[m Copying: /usr/local/anaconda3/lib/python3.8/site-packages/jupyter_contrib_nbextensions/nbextensions/python-markdown/readme.md -> /usr/local/share/jupyter/nbextensions/python-markdown/readme.md\r\n",
      "\u001b[32m[I 10:43:31 InstallContribNbextensionsApp]\u001b[m Copying: /usr/local/anaconda3/lib/python3.8/site-packages/jupyter_contrib_nbextensions/nbextensions/python-markdown/main.js -> /usr/local/share/jupyter/nbextensions/python-markdown/main.js\r\n",
      "\u001b[32m[I 10:43:31 InstallContribNbextensionsApp]\u001b[m Copying: /usr/local/anaconda3/lib/python3.8/site-packages/jupyter_contrib_nbextensions/nbextensions/python-markdown/python-markdown.png -> /usr/local/share/jupyter/nbextensions/python-markdown/python-markdown.png\r\n",
      "\u001b[32m[I 10:43:31 InstallContribNbextensionsApp]\u001b[m Copying: /usr/local/anaconda3/lib/python3.8/site-packages/jupyter_contrib_nbextensions/nbextensions/python-markdown/trusted.png -> /usr/local/share/jupyter/nbextensions/python-markdown/trusted.png\r\n",
      "\u001b[32m[I 10:43:31 InstallContribNbextensionsApp]\u001b[m Copying: /usr/local/anaconda3/lib/python3.8/site-packages/jupyter_contrib_nbextensions/nbextensions/python-markdown/python-markdown.yaml -> /usr/local/share/jupyter/nbextensions/python-markdown/python-markdown.yaml\r\n",
      "\u001b[32m[I 10:43:31 InstallContribNbextensionsApp]\u001b[m Copying: /usr/local/anaconda3/lib/python3.8/site-packages/jupyter_contrib_nbextensions/nbextensions/python-markdown/python-markdown-post.png -> /usr/local/share/jupyter/nbextensions/python-markdown/python-markdown-post.png\r\n",
      "\u001b[32m[I 10:43:31 InstallContribNbextensionsApp]\u001b[m - Validating: \u001b[32mOK\u001b[0m\r\n",
      "\u001b[32m[I 10:43:31 InstallContribNbextensionsApp]\u001b[m Installing /usr/local/anaconda3/lib/python3.8/site-packages/jupyter_contrib_nbextensions/nbextensions/codefolding -> codefolding\r\n",
      "\u001b[32m[I 10:43:31 InstallContribNbextensionsApp]\u001b[m Making directory: /usr/local/share/jupyter/nbextensions/codefolding/\r\n",
      "\u001b[32m[I 10:43:31 InstallContribNbextensionsApp]\u001b[m Copying: /usr/local/anaconda3/lib/python3.8/site-packages/jupyter_contrib_nbextensions/nbextensions/codefolding/codefolding_editor.yaml -> /usr/local/share/jupyter/nbextensions/codefolding/codefolding_editor.yaml\r\n",
      "\u001b[32m[I 10:43:31 InstallContribNbextensionsApp]\u001b[m Copying: /usr/local/anaconda3/lib/python3.8/site-packages/jupyter_contrib_nbextensions/nbextensions/codefolding/icon.png -> /usr/local/share/jupyter/nbextensions/codefolding/icon.png\r\n",
      "\u001b[32m[I 10:43:31 InstallContribNbextensionsApp]\u001b[m Copying: /usr/local/anaconda3/lib/python3.8/site-packages/jupyter_contrib_nbextensions/nbextensions/codefolding/codefolding_firstline_folded.png -> /usr/local/share/jupyter/nbextensions/codefolding/codefolding_firstline_folded.png\r\n",
      "\u001b[32m[I 10:43:31 InstallContribNbextensionsApp]\u001b[m Copying: /usr/local/anaconda3/lib/python3.8/site-packages/jupyter_contrib_nbextensions/nbextensions/codefolding/codefolding_indent_folded_2.png -> /usr/local/share/jupyter/nbextensions/codefolding/codefolding_indent_folded_2.png\r\n",
      "\u001b[32m[I 10:43:31 InstallContribNbextensionsApp]\u001b[m Copying: /usr/local/anaconda3/lib/python3.8/site-packages/jupyter_contrib_nbextensions/nbextensions/codefolding/codefolding_indent_folded_1.png -> /usr/local/share/jupyter/nbextensions/codefolding/codefolding_indent_folded_1.png\r\n",
      "\u001b[32m[I 10:43:31 InstallContribNbextensionsApp]\u001b[m Copying: /usr/local/anaconda3/lib/python3.8/site-packages/jupyter_contrib_nbextensions/nbextensions/codefolding/edit.js -> /usr/local/share/jupyter/nbextensions/codefolding/edit.js\r\n",
      "\u001b[32m[I 10:43:31 InstallContribNbextensionsApp]\u001b[m Copying: /usr/local/anaconda3/lib/python3.8/site-packages/jupyter_contrib_nbextensions/nbextensions/codefolding/magic-fold.js -> /usr/local/share/jupyter/nbextensions/codefolding/magic-fold.js\r\n",
      "\u001b[32m[I 10:43:31 InstallContribNbextensionsApp]\u001b[m Copying: /usr/local/anaconda3/lib/python3.8/site-packages/jupyter_contrib_nbextensions/nbextensions/codefolding/firstline-fold.js -> /usr/local/share/jupyter/nbextensions/codefolding/firstline-fold.js\r\n",
      "\u001b[32m[I 10:43:31 InstallContribNbextensionsApp]\u001b[m Copying: /usr/local/anaconda3/lib/python3.8/site-packages/jupyter_contrib_nbextensions/nbextensions/codefolding/codefolding_firstline_unfolded.png -> /usr/local/share/jupyter/nbextensions/codefolding/codefolding_firstline_unfolded.png\r\n",
      "\u001b[32m[I 10:43:31 InstallContribNbextensionsApp]\u001b[m Copying: /usr/local/anaconda3/lib/python3.8/site-packages/jupyter_contrib_nbextensions/nbextensions/codefolding/readme.md -> /usr/local/share/jupyter/nbextensions/codefolding/readme.md\r\n",
      "\u001b[32m[I 10:43:31 InstallContribNbextensionsApp]\u001b[m Copying: /usr/local/anaconda3/lib/python3.8/site-packages/jupyter_contrib_nbextensions/nbextensions/codefolding/main.js -> /usr/local/share/jupyter/nbextensions/codefolding/main.js\r\n",
      "\u001b[32m[I 10:43:31 InstallContribNbextensionsApp]\u001b[m Copying: /usr/local/anaconda3/lib/python3.8/site-packages/jupyter_contrib_nbextensions/nbextensions/codefolding/magic-unfolded.png -> /usr/local/share/jupyter/nbextensions/codefolding/magic-unfolded.png\r\n",
      "\u001b[32m[I 10:43:31 InstallContribNbextensionsApp]\u001b[m Copying: /usr/local/anaconda3/lib/python3.8/site-packages/jupyter_contrib_nbextensions/nbextensions/codefolding/foldgutter.css -> /usr/local/share/jupyter/nbextensions/codefolding/foldgutter.css\r\n",
      "\u001b[32m[I 10:43:31 InstallContribNbextensionsApp]\u001b[m Copying: /usr/local/anaconda3/lib/python3.8/site-packages/jupyter_contrib_nbextensions/nbextensions/codefolding/magic-folded.png -> /usr/local/share/jupyter/nbextensions/codefolding/magic-folded.png\r\n",
      "\u001b[32m[I 10:43:31 InstallContribNbextensionsApp]\u001b[m Copying: /usr/local/anaconda3/lib/python3.8/site-packages/jupyter_contrib_nbextensions/nbextensions/codefolding/codefolding.yaml -> /usr/local/share/jupyter/nbextensions/codefolding/codefolding.yaml\r\n",
      "\u001b[32m[I 10:43:31 InstallContribNbextensionsApp]\u001b[m Copying: /usr/local/anaconda3/lib/python3.8/site-packages/jupyter_contrib_nbextensions/nbextensions/codefolding/codefolding_editor.png -> /usr/local/share/jupyter/nbextensions/codefolding/codefolding_editor.png\r\n",
      "\u001b[32m[I 10:43:31 InstallContribNbextensionsApp]\u001b[m Copying: /usr/local/anaconda3/lib/python3.8/site-packages/jupyter_contrib_nbextensions/nbextensions/codefolding/codefolding_indent_unfolded.png -> /usr/local/share/jupyter/nbextensions/codefolding/codefolding_indent_unfolded.png\r\n",
      "\u001b[32m[I 10:43:31 InstallContribNbextensionsApp]\u001b[m - Validating: \u001b[32mOK\u001b[0m\r\n"
     ]
    },
    {
     "name": "stdout",
     "output_type": "stream",
     "text": [
      "\u001b[32m[I 10:43:31 InstallContribNbextensionsApp]\u001b[m Installing /usr/local/anaconda3/lib/python3.8/site-packages/jupyter_contrib_nbextensions/nbextensions/codefolding -> codefolding\r\n",
      "\u001b[32m[I 10:43:31 InstallContribNbextensionsApp]\u001b[m Up to date: /usr/local/share/jupyter/nbextensions/codefolding/codefolding_editor.yaml\r\n",
      "\u001b[32m[I 10:43:31 InstallContribNbextensionsApp]\u001b[m Up to date: /usr/local/share/jupyter/nbextensions/codefolding/icon.png\r\n",
      "\u001b[32m[I 10:43:31 InstallContribNbextensionsApp]\u001b[m Up to date: /usr/local/share/jupyter/nbextensions/codefolding/codefolding_firstline_folded.png\r\n",
      "\u001b[32m[I 10:43:31 InstallContribNbextensionsApp]\u001b[m Up to date: /usr/local/share/jupyter/nbextensions/codefolding/codefolding_indent_folded_2.png\r\n",
      "\u001b[32m[I 10:43:31 InstallContribNbextensionsApp]\u001b[m Up to date: /usr/local/share/jupyter/nbextensions/codefolding/codefolding_indent_folded_1.png\r\n",
      "\u001b[32m[I 10:43:31 InstallContribNbextensionsApp]\u001b[m Up to date: /usr/local/share/jupyter/nbextensions/codefolding/edit.js\r\n",
      "\u001b[32m[I 10:43:31 InstallContribNbextensionsApp]\u001b[m Up to date: /usr/local/share/jupyter/nbextensions/codefolding/magic-fold.js\r\n",
      "\u001b[32m[I 10:43:31 InstallContribNbextensionsApp]\u001b[m Up to date: /usr/local/share/jupyter/nbextensions/codefolding/firstline-fold.js\r\n",
      "\u001b[32m[I 10:43:31 InstallContribNbextensionsApp]\u001b[m Up to date: /usr/local/share/jupyter/nbextensions/codefolding/codefolding_firstline_unfolded.png\r\n",
      "\u001b[32m[I 10:43:31 InstallContribNbextensionsApp]\u001b[m Up to date: /usr/local/share/jupyter/nbextensions/codefolding/readme.md\r\n",
      "\u001b[32m[I 10:43:31 InstallContribNbextensionsApp]\u001b[m Up to date: /usr/local/share/jupyter/nbextensions/codefolding/main.js\r\n",
      "\u001b[32m[I 10:43:31 InstallContribNbextensionsApp]\u001b[m Up to date: /usr/local/share/jupyter/nbextensions/codefolding/magic-unfolded.png\r\n",
      "\u001b[32m[I 10:43:31 InstallContribNbextensionsApp]\u001b[m Up to date: /usr/local/share/jupyter/nbextensions/codefolding/foldgutter.css\r\n",
      "\u001b[32m[I 10:43:31 InstallContribNbextensionsApp]\u001b[m Up to date: /usr/local/share/jupyter/nbextensions/codefolding/magic-folded.png\r\n",
      "\u001b[32m[I 10:43:31 InstallContribNbextensionsApp]\u001b[m Up to date: /usr/local/share/jupyter/nbextensions/codefolding/codefolding.yaml\r\n",
      "\u001b[32m[I 10:43:31 InstallContribNbextensionsApp]\u001b[m Up to date: /usr/local/share/jupyter/nbextensions/codefolding/codefolding_editor.png\r\n",
      "\u001b[32m[I 10:43:31 InstallContribNbextensionsApp]\u001b[m Up to date: /usr/local/share/jupyter/nbextensions/codefolding/codefolding_indent_unfolded.png\r\n",
      "\u001b[32m[I 10:43:31 InstallContribNbextensionsApp]\u001b[m - Validating: \u001b[32mOK\u001b[0m\r\n",
      "\u001b[32m[I 10:43:31 InstallContribNbextensionsApp]\u001b[m Installing /usr/local/anaconda3/lib/python3.8/site-packages/jupyter_contrib_nbextensions/nbextensions/collapsible_headings -> collapsible_headings\r\n",
      "\u001b[32m[I 10:43:31 InstallContribNbextensionsApp]\u001b[m Making directory: /usr/local/share/jupyter/nbextensions/collapsible_headings/\r\n",
      "\u001b[32m[I 10:43:31 InstallContribNbextensionsApp]\u001b[m Copying: /usr/local/anaconda3/lib/python3.8/site-packages/jupyter_contrib_nbextensions/nbextensions/collapsible_headings/icon.png -> /usr/local/share/jupyter/nbextensions/collapsible_headings/icon.png\r\n",
      "\u001b[32m[I 10:43:31 InstallContribNbextensionsApp]\u001b[m Copying: /usr/local/anaconda3/lib/python3.8/site-packages/jupyter_contrib_nbextensions/nbextensions/collapsible_headings/screenshot.png -> /usr/local/share/jupyter/nbextensions/collapsible_headings/screenshot.png\r\n",
      "\u001b[32m[I 10:43:31 InstallContribNbextensionsApp]\u001b[m Copying: /usr/local/anaconda3/lib/python3.8/site-packages/jupyter_contrib_nbextensions/nbextensions/collapsible_headings/main.css -> /usr/local/share/jupyter/nbextensions/collapsible_headings/main.css\r\n",
      "\u001b[32m[I 10:43:31 InstallContribNbextensionsApp]\u001b[m Copying: /usr/local/anaconda3/lib/python3.8/site-packages/jupyter_contrib_nbextensions/nbextensions/collapsible_headings/readme.md -> /usr/local/share/jupyter/nbextensions/collapsible_headings/readme.md\r\n",
      "\u001b[32m[I 10:43:31 InstallContribNbextensionsApp]\u001b[m Copying: /usr/local/anaconda3/lib/python3.8/site-packages/jupyter_contrib_nbextensions/nbextensions/collapsible_headings/main.js -> /usr/local/share/jupyter/nbextensions/collapsible_headings/main.js\r\n",
      "\u001b[32m[I 10:43:31 InstallContribNbextensionsApp]\u001b[m Copying: /usr/local/anaconda3/lib/python3.8/site-packages/jupyter_contrib_nbextensions/nbextensions/collapsible_headings/collapsible_headings.yaml -> /usr/local/share/jupyter/nbextensions/collapsible_headings/collapsible_headings.yaml\r\n",
      "\u001b[32m[I 10:43:31 InstallContribNbextensionsApp]\u001b[m - Validating: \u001b[32mOK\u001b[0m\r\n",
      "\u001b[32m[I 10:43:31 InstallContribNbextensionsApp]\u001b[m Installing /usr/local/anaconda3/lib/python3.8/site-packages/jupyter_contrib_nbextensions/nbextensions/exercise -> exercise\r\n",
      "\u001b[32m[I 10:43:31 InstallContribNbextensionsApp]\u001b[m Making directory: /usr/local/share/jupyter/nbextensions/exercise/\r\n",
      "\u001b[32m[I 10:43:31 InstallContribNbextensionsApp]\u001b[m Copying: /usr/local/anaconda3/lib/python3.8/site-packages/jupyter_contrib_nbextensions/nbextensions/exercise/icon.png -> /usr/local/share/jupyter/nbextensions/exercise/icon.png\r\n",
      "\u001b[32m[I 10:43:31 InstallContribNbextensionsApp]\u001b[m Copying: /usr/local/anaconda3/lib/python3.8/site-packages/jupyter_contrib_nbextensions/nbextensions/exercise/history.md -> /usr/local/share/jupyter/nbextensions/exercise/history.md\r\n",
      "\u001b[32m[I 10:43:31 InstallContribNbextensionsApp]\u001b[m Copying: /usr/local/anaconda3/lib/python3.8/site-packages/jupyter_contrib_nbextensions/nbextensions/exercise/main.css -> /usr/local/share/jupyter/nbextensions/exercise/main.css\r\n",
      "\u001b[32m[I 10:43:31 InstallContribNbextensionsApp]\u001b[m Copying: /usr/local/anaconda3/lib/python3.8/site-packages/jupyter_contrib_nbextensions/nbextensions/exercise/image.gif -> /usr/local/share/jupyter/nbextensions/exercise/image.gif\r\n",
      "\u001b[32m[I 10:43:31 InstallContribNbextensionsApp]\u001b[m Copying: /usr/local/anaconda3/lib/python3.8/site-packages/jupyter_contrib_nbextensions/nbextensions/exercise/readme.md -> /usr/local/share/jupyter/nbextensions/exercise/readme.md\r\n",
      "\u001b[32m[I 10:43:31 InstallContribNbextensionsApp]\u001b[m Copying: /usr/local/anaconda3/lib/python3.8/site-packages/jupyter_contrib_nbextensions/nbextensions/exercise/main.js -> /usr/local/share/jupyter/nbextensions/exercise/main.js\r\n",
      "\u001b[32m[I 10:43:31 InstallContribNbextensionsApp]\u001b[m Copying: /usr/local/anaconda3/lib/python3.8/site-packages/jupyter_contrib_nbextensions/nbextensions/exercise/exercise.yaml -> /usr/local/share/jupyter/nbextensions/exercise/exercise.yaml\r\n",
      "\u001b[32m[I 10:43:31 InstallContribNbextensionsApp]\u001b[m - Validating: \u001b[32mOK\u001b[0m\r\n",
      "\u001b[32m[I 10:43:31 InstallContribNbextensionsApp]\u001b[m Installing /usr/local/anaconda3/lib/python3.8/site-packages/jupyter_contrib_nbextensions/nbextensions/codemirror_mode_extensions -> codemirror_mode_extensions\r\n",
      "\u001b[32m[I 10:43:31 InstallContribNbextensionsApp]\u001b[m Making directory: /usr/local/share/jupyter/nbextensions/codemirror_mode_extensions/\r\n",
      "\u001b[32m[I 10:43:31 InstallContribNbextensionsApp]\u001b[m Copying: /usr/local/anaconda3/lib/python3.8/site-packages/jupyter_contrib_nbextensions/nbextensions/codemirror_mode_extensions/codemirror_mode_extensions.yaml -> /usr/local/share/jupyter/nbextensions/codemirror_mode_extensions/codemirror_mode_extensions.yaml\r\n",
      "\u001b[32m[I 10:43:31 InstallContribNbextensionsApp]\u001b[m Copying: /usr/local/anaconda3/lib/python3.8/site-packages/jupyter_contrib_nbextensions/nbextensions/codemirror_mode_extensions/main.js -> /usr/local/share/jupyter/nbextensions/codemirror_mode_extensions/main.js\r\n",
      "\u001b[32m[I 10:43:31 InstallContribNbextensionsApp]\u001b[m - Validating: \u001b[32mOK\u001b[0m\r\n",
      "\u001b[32m[I 10:43:31 InstallContribNbextensionsApp]\u001b[m Installing /usr/local/anaconda3/lib/python3.8/site-packages/jupyter_contrib_nbextensions/nbextensions/ruler -> ruler\r\n",
      "\u001b[32m[I 10:43:31 InstallContribNbextensionsApp]\u001b[m Making directory: /usr/local/share/jupyter/nbextensions/ruler/\r\n",
      "\u001b[32m[I 10:43:31 InstallContribNbextensionsApp]\u001b[m Copying: /usr/local/anaconda3/lib/python3.8/site-packages/jupyter_contrib_nbextensions/nbextensions/ruler/icon.png -> /usr/local/share/jupyter/nbextensions/ruler/icon.png\r\n",
      "\u001b[32m[I 10:43:31 InstallContribNbextensionsApp]\u001b[m Copying: /usr/local/anaconda3/lib/python3.8/site-packages/jupyter_contrib_nbextensions/nbextensions/ruler/edit.js -> /usr/local/share/jupyter/nbextensions/ruler/edit.js\r\n",
      "\u001b[32m[I 10:43:31 InstallContribNbextensionsApp]\u001b[m Copying: /usr/local/anaconda3/lib/python3.8/site-packages/jupyter_contrib_nbextensions/nbextensions/ruler/ruler_editor.yaml -> /usr/local/share/jupyter/nbextensions/ruler/ruler_editor.yaml\r\n",
      "\u001b[32m[I 10:43:31 InstallContribNbextensionsApp]\u001b[m Copying: /usr/local/anaconda3/lib/python3.8/site-packages/jupyter_contrib_nbextensions/nbextensions/ruler/readme.md -> /usr/local/share/jupyter/nbextensions/ruler/readme.md\r\n",
      "\u001b[32m[I 10:43:31 InstallContribNbextensionsApp]\u001b[m Copying: /usr/local/anaconda3/lib/python3.8/site-packages/jupyter_contrib_nbextensions/nbextensions/ruler/main.js -> /usr/local/share/jupyter/nbextensions/ruler/main.js\r\n",
      "\u001b[32m[I 10:43:31 InstallContribNbextensionsApp]\u001b[m Copying: /usr/local/anaconda3/lib/python3.8/site-packages/jupyter_contrib_nbextensions/nbextensions/ruler/ruler.yaml -> /usr/local/share/jupyter/nbextensions/ruler/ruler.yaml\r\n",
      "\u001b[32m[I 10:43:31 InstallContribNbextensionsApp]\u001b[m - Validating: \u001b[32mOK\u001b[0m\r\n",
      "\u001b[32m[I 10:43:31 InstallContribNbextensionsApp]\u001b[m Installing /usr/local/anaconda3/lib/python3.8/site-packages/jupyter_contrib_nbextensions/nbextensions/ruler -> ruler\r\n",
      "\u001b[32m[I 10:43:31 InstallContribNbextensionsApp]\u001b[m Up to date: /usr/local/share/jupyter/nbextensions/ruler/icon.png\r\n",
      "\u001b[32m[I 10:43:31 InstallContribNbextensionsApp]\u001b[m Up to date: /usr/local/share/jupyter/nbextensions/ruler/edit.js\r\n",
      "\u001b[32m[I 10:43:31 InstallContribNbextensionsApp]\u001b[m Up to date: /usr/local/share/jupyter/nbextensions/ruler/ruler_editor.yaml\r\n",
      "\u001b[32m[I 10:43:31 InstallContribNbextensionsApp]\u001b[m Up to date: /usr/local/share/jupyter/nbextensions/ruler/readme.md\r\n",
      "\u001b[32m[I 10:43:31 InstallContribNbextensionsApp]\u001b[m Up to date: /usr/local/share/jupyter/nbextensions/ruler/main.js\r\n",
      "\u001b[32m[I 10:43:31 InstallContribNbextensionsApp]\u001b[m Up to date: /usr/local/share/jupyter/nbextensions/ruler/ruler.yaml\r\n",
      "\u001b[32m[I 10:43:31 InstallContribNbextensionsApp]\u001b[m - Validating: \u001b[32mOK\u001b[0m\r\n",
      "\u001b[32m[I 10:43:31 InstallContribNbextensionsApp]\u001b[m Installing /usr/local/anaconda3/lib/python3.8/site-packages/jupyter_contrib_nbextensions/nbextensions/contrib_nbextensions_help_item -> contrib_nbextensions_help_item\r\n",
      "\u001b[32m[I 10:43:31 InstallContribNbextensionsApp]\u001b[m Making directory: /usr/local/share/jupyter/nbextensions/contrib_nbextensions_help_item/\r\n",
      "\u001b[32m[I 10:43:31 InstallContribNbextensionsApp]\u001b[m Copying: /usr/local/anaconda3/lib/python3.8/site-packages/jupyter_contrib_nbextensions/nbextensions/contrib_nbextensions_help_item/README.md -> /usr/local/share/jupyter/nbextensions/contrib_nbextensions_help_item/README.md\r\n",
      "\u001b[32m[I 10:43:31 InstallContribNbextensionsApp]\u001b[m Copying: /usr/local/anaconda3/lib/python3.8/site-packages/jupyter_contrib_nbextensions/nbextensions/contrib_nbextensions_help_item/main.js -> /usr/local/share/jupyter/nbextensions/contrib_nbextensions_help_item/main.js\r\n",
      "\u001b[32m[I 10:43:31 InstallContribNbextensionsApp]\u001b[m Copying: /usr/local/anaconda3/lib/python3.8/site-packages/jupyter_contrib_nbextensions/nbextensions/contrib_nbextensions_help_item/contrib_nbextensions_help_item.yaml -> /usr/local/share/jupyter/nbextensions/contrib_nbextensions_help_item/contrib_nbextensions_help_item.yaml\r\n",
      "\u001b[32m[I 10:43:31 InstallContribNbextensionsApp]\u001b[m - Validating: \u001b[32mOK\u001b[0m\r\n",
      "\u001b[32m[I 10:43:31 InstallContribNbextensionsApp]\u001b[m Installing /usr/local/anaconda3/lib/python3.8/site-packages/jupyter_contrib_nbextensions/nbextensions/datestamper -> datestamper\r\n",
      "\u001b[32m[I 10:43:31 InstallContribNbextensionsApp]\u001b[m Making directory: /usr/local/share/jupyter/nbextensions/datestamper/\r\n",
      "\u001b[32m[I 10:43:31 InstallContribNbextensionsApp]\u001b[m Copying: /usr/local/anaconda3/lib/python3.8/site-packages/jupyter_contrib_nbextensions/nbextensions/datestamper/icon.png -> /usr/local/share/jupyter/nbextensions/datestamper/icon.png\r\n",
      "\u001b[32m[I 10:43:31 InstallContribNbextensionsApp]\u001b[m Copying: /usr/local/anaconda3/lib/python3.8/site-packages/jupyter_contrib_nbextensions/nbextensions/datestamper/main.yaml -> /usr/local/share/jupyter/nbextensions/datestamper/main.yaml\r\n",
      "\u001b[32m[I 10:43:31 InstallContribNbextensionsApp]\u001b[m Copying: /usr/local/anaconda3/lib/python3.8/site-packages/jupyter_contrib_nbextensions/nbextensions/datestamper/readme.md -> /usr/local/share/jupyter/nbextensions/datestamper/readme.md\r\n",
      "\u001b[32m[I 10:43:31 InstallContribNbextensionsApp]\u001b[m Copying: /usr/local/anaconda3/lib/python3.8/site-packages/jupyter_contrib_nbextensions/nbextensions/datestamper/main.js -> /usr/local/share/jupyter/nbextensions/datestamper/main.js\r\n",
      "\u001b[32m[I 10:43:31 InstallContribNbextensionsApp]\u001b[m - Validating: \u001b[32mOK\u001b[0m\r\n",
      "\u001b[32m[I 10:43:31 InstallContribNbextensionsApp]\u001b[m Installing /usr/local/anaconda3/lib/python3.8/site-packages/jupyter_contrib_nbextensions/nbextensions/init_cell -> init_cell\r\n",
      "\u001b[32m[I 10:43:31 InstallContribNbextensionsApp]\u001b[m Making directory: /usr/local/share/jupyter/nbextensions/init_cell/\r\n",
      "\u001b[32m[I 10:43:31 InstallContribNbextensionsApp]\u001b[m Copying: /usr/local/anaconda3/lib/python3.8/site-packages/jupyter_contrib_nbextensions/nbextensions/init_cell/init_cell.yaml -> /usr/local/share/jupyter/nbextensions/init_cell/init_cell.yaml\r\n",
      "\u001b[32m[I 10:43:31 InstallContribNbextensionsApp]\u001b[m Copying: /usr/local/anaconda3/lib/python3.8/site-packages/jupyter_contrib_nbextensions/nbextensions/init_cell/icon.png -> /usr/local/share/jupyter/nbextensions/init_cell/icon.png\r\n",
      "\u001b[32m[I 10:43:31 InstallContribNbextensionsApp]\u001b[m Copying: /usr/local/anaconda3/lib/python3.8/site-packages/jupyter_contrib_nbextensions/nbextensions/init_cell/README.md -> /usr/local/share/jupyter/nbextensions/init_cell/README.md\r\n",
      "\u001b[32m[I 10:43:31 InstallContribNbextensionsApp]\u001b[m Copying: /usr/local/anaconda3/lib/python3.8/site-packages/jupyter_contrib_nbextensions/nbextensions/init_cell/main.js -> /usr/local/share/jupyter/nbextensions/init_cell/main.js\r\n",
      "\u001b[32m[I 10:43:31 InstallContribNbextensionsApp]\u001b[m Copying: /usr/local/anaconda3/lib/python3.8/site-packages/jupyter_contrib_nbextensions/nbextensions/init_cell/cell_toolbar_menu.png -> /usr/local/share/jupyter/nbextensions/init_cell/cell_toolbar_menu.png\r\n",
      "\u001b[32m[I 10:43:31 InstallContribNbextensionsApp]\u001b[m - Validating: \u001b[32mOK\u001b[0m\r\n",
      "\u001b[32m[I 10:43:31 InstallContribNbextensionsApp]\u001b[m Installing /usr/local/anaconda3/lib/python3.8/site-packages/jupyter_contrib_nbextensions/nbextensions/limit_output -> limit_output\r\n",
      "\u001b[32m[I 10:43:31 InstallContribNbextensionsApp]\u001b[m Making directory: /usr/local/share/jupyter/nbextensions/limit_output/\r\n",
      "\u001b[32m[I 10:43:31 InstallContribNbextensionsApp]\u001b[m Copying: /usr/local/anaconda3/lib/python3.8/site-packages/jupyter_contrib_nbextensions/nbextensions/limit_output/icon.png -> /usr/local/share/jupyter/nbextensions/limit_output/icon.png\r\n",
      "\u001b[32m[I 10:43:31 InstallContribNbextensionsApp]\u001b[m Copying: /usr/local/anaconda3/lib/python3.8/site-packages/jupyter_contrib_nbextensions/nbextensions/limit_output/readme.md -> /usr/local/share/jupyter/nbextensions/limit_output/readme.md\r\n",
      "\u001b[32m[I 10:43:31 InstallContribNbextensionsApp]\u001b[m Copying: /usr/local/anaconda3/lib/python3.8/site-packages/jupyter_contrib_nbextensions/nbextensions/limit_output/main.js -> /usr/local/share/jupyter/nbextensions/limit_output/main.js\r\n",
      "\u001b[32m[I 10:43:31 InstallContribNbextensionsApp]\u001b[m Copying: /usr/local/anaconda3/lib/python3.8/site-packages/jupyter_contrib_nbextensions/nbextensions/limit_output/limit-output.yaml -> /usr/local/share/jupyter/nbextensions/limit_output/limit-output.yaml\r\n",
      "\u001b[32m[I 10:43:31 InstallContribNbextensionsApp]\u001b[m - Validating: \u001b[32mOK\u001b[0m\r\n",
      "\u001b[32m[I 10:43:31 InstallContribNbextensionsApp]\u001b[m Installing /usr/local/anaconda3/lib/python3.8/site-packages/jupyter_contrib_nbextensions/nbextensions/qtconsole -> qtconsole\r\n",
      "\u001b[32m[I 10:43:31 InstallContribNbextensionsApp]\u001b[m Making directory: /usr/local/share/jupyter/nbextensions/qtconsole/\r\n",
      "\u001b[32m[I 10:43:31 InstallContribNbextensionsApp]\u001b[m Copying: /usr/local/anaconda3/lib/python3.8/site-packages/jupyter_contrib_nbextensions/nbextensions/qtconsole/qtconsole.js -> /usr/local/share/jupyter/nbextensions/qtconsole/qtconsole.js\r\n",
      "\u001b[32m[I 10:43:31 InstallContribNbextensionsApp]\u001b[m Copying: /usr/local/anaconda3/lib/python3.8/site-packages/jupyter_contrib_nbextensions/nbextensions/qtconsole/qtconsole.yaml -> /usr/local/share/jupyter/nbextensions/qtconsole/qtconsole.yaml\r\n",
      "\u001b[32m[I 10:43:31 InstallContribNbextensionsApp]\u001b[m Copying: /usr/local/anaconda3/lib/python3.8/site-packages/jupyter_contrib_nbextensions/nbextensions/qtconsole/README.md -> /usr/local/share/jupyter/nbextensions/qtconsole/README.md\r\n",
      "\u001b[32m[I 10:43:31 InstallContribNbextensionsApp]\u001b[m - Validating: \u001b[32mOK\u001b[0m\r\n",
      "\u001b[32m[I 10:43:31 InstallContribNbextensionsApp]\u001b[m Installing /usr/local/anaconda3/lib/python3.8/site-packages/jupyter_contrib_nbextensions/nbextensions/addbefore -> addbefore\r\n",
      "\u001b[32m[I 10:43:31 InstallContribNbextensionsApp]\u001b[m Making directory: /usr/local/share/jupyter/nbextensions/addbefore/\r\n",
      "\u001b[32m[I 10:43:31 InstallContribNbextensionsApp]\u001b[m Copying: /usr/local/anaconda3/lib/python3.8/site-packages/jupyter_contrib_nbextensions/nbextensions/addbefore/icon.png -> /usr/local/share/jupyter/nbextensions/addbefore/icon.png\r\n",
      "\u001b[32m[I 10:43:31 InstallContribNbextensionsApp]\u001b[m Copying: /usr/local/anaconda3/lib/python3.8/site-packages/jupyter_contrib_nbextensions/nbextensions/addbefore/readme.md -> /usr/local/share/jupyter/nbextensions/addbefore/readme.md\r\n",
      "\u001b[32m[I 10:43:31 InstallContribNbextensionsApp]\u001b[m Copying: /usr/local/anaconda3/lib/python3.8/site-packages/jupyter_contrib_nbextensions/nbextensions/addbefore/main.js -> /usr/local/share/jupyter/nbextensions/addbefore/main.js\r\n",
      "\u001b[32m[I 10:43:31 InstallContribNbextensionsApp]\u001b[m Copying: /usr/local/anaconda3/lib/python3.8/site-packages/jupyter_contrib_nbextensions/nbextensions/addbefore/addbefore.yaml -> /usr/local/share/jupyter/nbextensions/addbefore/addbefore.yaml\r\n",
      "\u001b[32m[I 10:43:31 InstallContribNbextensionsApp]\u001b[m - Validating: \u001b[32mOK\u001b[0m\r\n",
      "\u001b[32m[I 10:43:31 InstallContribNbextensionsApp]\u001b[m Installing /usr/local/anaconda3/lib/python3.8/site-packages/jupyter_contrib_nbextensions/nbextensions/highlighter -> highlighter\r\n",
      "\u001b[32m[I 10:43:31 InstallContribNbextensionsApp]\u001b[m Making directory: /usr/local/share/jupyter/nbextensions/highlighter/\r\n",
      "\u001b[32m[I 10:43:31 InstallContribNbextensionsApp]\u001b[m Copying: /usr/local/anaconda3/lib/python3.8/site-packages/jupyter_contrib_nbextensions/nbextensions/highlighter/icon.png -> /usr/local/share/jupyter/nbextensions/highlighter/icon.png\r\n",
      "\u001b[32m[I 10:43:31 InstallContribNbextensionsApp]\u001b[m Copying: /usr/local/anaconda3/lib/python3.8/site-packages/jupyter_contrib_nbextensions/nbextensions/highlighter/export_highlights.pdf -> /usr/local/share/jupyter/nbextensions/highlighter/export_highlights.pdf\r\n",
      "\u001b[32m[I 10:43:31 InstallContribNbextensionsApp]\u001b[m Copying: /usr/local/anaconda3/lib/python3.8/site-packages/jupyter_contrib_nbextensions/nbextensions/highlighter/demo_highlighter.html -> /usr/local/share/jupyter/nbextensions/highlighter/demo_highlighter.html\r\n",
      "\u001b[32m[I 10:43:31 InstallContribNbextensionsApp]\u001b[m Copying: /usr/local/anaconda3/lib/python3.8/site-packages/jupyter_contrib_nbextensions/nbextensions/highlighter/demo_highlighter.ipynb -> /usr/local/share/jupyter/nbextensions/highlighter/demo_highlighter.ipynb\r\n",
      "\u001b[32m[I 10:43:31 InstallContribNbextensionsApp]\u001b[m Copying: /usr/local/anaconda3/lib/python3.8/site-packages/jupyter_contrib_nbextensions/nbextensions/highlighter/tst_highlights.ipynb -> /usr/local/share/jupyter/nbextensions/highlighter/tst_highlights.ipynb\r\n",
      "\u001b[32m[I 10:43:31 InstallContribNbextensionsApp]\u001b[m Copying: /usr/local/anaconda3/lib/python3.8/site-packages/jupyter_contrib_nbextensions/nbextensions/highlighter/export_highlights.ipynb -> /usr/local/share/jupyter/nbextensions/highlighter/export_highlights.ipynb\r\n"
     ]
    },
    {
     "name": "stdout",
     "output_type": "stream",
     "text": [
      "\u001b[32m[I 10:43:31 InstallContribNbextensionsApp]\u001b[m Copying: /usr/local/anaconda3/lib/python3.8/site-packages/jupyter_contrib_nbextensions/nbextensions/highlighter/tst_highlights.html -> /usr/local/share/jupyter/nbextensions/highlighter/tst_highlights.html\r\n",
      "\u001b[32m[I 10:43:31 InstallContribNbextensionsApp]\u001b[m Copying: /usr/local/anaconda3/lib/python3.8/site-packages/jupyter_contrib_nbextensions/nbextensions/highlighter/export_highlights.tex -> /usr/local/share/jupyter/nbextensions/highlighter/export_highlights.tex\r\n",
      "\u001b[32m[I 10:43:31 InstallContribNbextensionsApp]\u001b[m Copying: /usr/local/anaconda3/lib/python3.8/site-packages/jupyter_contrib_nbextensions/nbextensions/highlighter/image.gif -> /usr/local/share/jupyter/nbextensions/highlighter/image.gif\r\n",
      "\u001b[32m[I 10:43:31 InstallContribNbextensionsApp]\u001b[m Copying: /usr/local/anaconda3/lib/python3.8/site-packages/jupyter_contrib_nbextensions/nbextensions/highlighter/readme.md -> /usr/local/share/jupyter/nbextensions/highlighter/readme.md\r\n",
      "\u001b[32m[I 10:43:31 InstallContribNbextensionsApp]\u001b[m Copying: /usr/local/anaconda3/lib/python3.8/site-packages/jupyter_contrib_nbextensions/nbextensions/highlighter/highlighter.css -> /usr/local/share/jupyter/nbextensions/highlighter/highlighter.css\r\n",
      "\u001b[32m[I 10:43:31 InstallContribNbextensionsApp]\u001b[m Copying: /usr/local/anaconda3/lib/python3.8/site-packages/jupyter_contrib_nbextensions/nbextensions/highlighter/tst_highlights.pdf -> /usr/local/share/jupyter/nbextensions/highlighter/tst_highlights.pdf\r\n",
      "\u001b[32m[I 10:43:31 InstallContribNbextensionsApp]\u001b[m Copying: /usr/local/anaconda3/lib/python3.8/site-packages/jupyter_contrib_nbextensions/nbextensions/highlighter/export_highlights.html -> /usr/local/share/jupyter/nbextensions/highlighter/export_highlights.html\r\n",
      "\u001b[32m[I 10:43:31 InstallContribNbextensionsApp]\u001b[m Copying: /usr/local/anaconda3/lib/python3.8/site-packages/jupyter_contrib_nbextensions/nbextensions/highlighter/tst_highlights.tex -> /usr/local/share/jupyter/nbextensions/highlighter/tst_highlights.tex\r\n",
      "\u001b[32m[I 10:43:31 InstallContribNbextensionsApp]\u001b[m Copying: /usr/local/anaconda3/lib/python3.8/site-packages/jupyter_contrib_nbextensions/nbextensions/highlighter/highlighter.yaml -> /usr/local/share/jupyter/nbextensions/highlighter/highlighter.yaml\r\n",
      "\u001b[32m[I 10:43:31 InstallContribNbextensionsApp]\u001b[m Copying: /usr/local/anaconda3/lib/python3.8/site-packages/jupyter_contrib_nbextensions/nbextensions/highlighter/highlighter.js -> /usr/local/share/jupyter/nbextensions/highlighter/highlighter.js\r\n",
      "\u001b[32m[I 10:43:31 InstallContribNbextensionsApp]\u001b[m - Validating: \u001b[32mOK\u001b[0m\r\n",
      "\u001b[32m[I 10:43:31 InstallContribNbextensionsApp]\u001b[m Installing /usr/local/anaconda3/lib/python3.8/site-packages/jupyter_contrib_nbextensions/nbextensions/comment-uncomment -> comment-uncomment\r\n",
      "\u001b[32m[I 10:43:31 InstallContribNbextensionsApp]\u001b[m Making directory: /usr/local/share/jupyter/nbextensions/comment-uncomment/\r\n",
      "\u001b[32m[I 10:43:31 InstallContribNbextensionsApp]\u001b[m Copying: /usr/local/anaconda3/lib/python3.8/site-packages/jupyter_contrib_nbextensions/nbextensions/comment-uncomment/icon.png -> /usr/local/share/jupyter/nbextensions/comment-uncomment/icon.png\r\n",
      "\u001b[32m[I 10:43:31 InstallContribNbextensionsApp]\u001b[m Copying: /usr/local/anaconda3/lib/python3.8/site-packages/jupyter_contrib_nbextensions/nbextensions/comment-uncomment/readme.md -> /usr/local/share/jupyter/nbextensions/comment-uncomment/readme.md\r\n",
      "\u001b[32m[I 10:43:31 InstallContribNbextensionsApp]\u001b[m Copying: /usr/local/anaconda3/lib/python3.8/site-packages/jupyter_contrib_nbextensions/nbextensions/comment-uncomment/main.js -> /usr/local/share/jupyter/nbextensions/comment-uncomment/main.js\r\n",
      "\u001b[32m[I 10:43:31 InstallContribNbextensionsApp]\u001b[m Copying: /usr/local/anaconda3/lib/python3.8/site-packages/jupyter_contrib_nbextensions/nbextensions/comment-uncomment/comment-uncomment.yaml -> /usr/local/share/jupyter/nbextensions/comment-uncomment/comment-uncomment.yaml\r\n",
      "\u001b[32m[I 10:43:31 InstallContribNbextensionsApp]\u001b[m - Validating: \u001b[32mOK\u001b[0m\r\n",
      "\u001b[32m[I 10:43:31 InstallContribNbextensionsApp]\u001b[m Installing /usr/local/anaconda3/lib/python3.8/site-packages/jupyter_contrib_nbextensions/nbextensions/code_font_size -> code_font_size\r\n",
      "\u001b[32m[I 10:43:31 InstallContribNbextensionsApp]\u001b[m Making directory: /usr/local/share/jupyter/nbextensions/code_font_size/\r\n",
      "\u001b[32m[I 10:43:31 InstallContribNbextensionsApp]\u001b[m Copying: /usr/local/anaconda3/lib/python3.8/site-packages/jupyter_contrib_nbextensions/nbextensions/code_font_size/code_font_size.yaml -> /usr/local/share/jupyter/nbextensions/code_font_size/code_font_size.yaml\r\n",
      "\u001b[32m[I 10:43:31 InstallContribNbextensionsApp]\u001b[m Copying: /usr/local/anaconda3/lib/python3.8/site-packages/jupyter_contrib_nbextensions/nbextensions/code_font_size/code_font_size.js -> /usr/local/share/jupyter/nbextensions/code_font_size/code_font_size.js\r\n",
      "\u001b[32m[I 10:43:31 InstallContribNbextensionsApp]\u001b[m Copying: /usr/local/anaconda3/lib/python3.8/site-packages/jupyter_contrib_nbextensions/nbextensions/code_font_size/README.md -> /usr/local/share/jupyter/nbextensions/code_font_size/README.md\r\n",
      "\u001b[32m[I 10:43:31 InstallContribNbextensionsApp]\u001b[m - Validating: \u001b[32mOK\u001b[0m\r\n",
      "\u001b[32m[I 10:43:31 InstallContribNbextensionsApp]\u001b[m Installing /usr/local/anaconda3/lib/python3.8/site-packages/jupyter_contrib_nbextensions/nbextensions/varInspector -> varInspector\r\n",
      "\u001b[32m[I 10:43:31 InstallContribNbextensionsApp]\u001b[m Making directory: /usr/local/share/jupyter/nbextensions/varInspector/\r\n",
      "\u001b[32m[I 10:43:31 InstallContribNbextensionsApp]\u001b[m Copying: /usr/local/anaconda3/lib/python3.8/site-packages/jupyter_contrib_nbextensions/nbextensions/varInspector/icon.png -> /usr/local/share/jupyter/nbextensions/varInspector/icon.png\r\n",
      "\u001b[32m[I 10:43:31 InstallContribNbextensionsApp]\u001b[m Copying: /usr/local/anaconda3/lib/python3.8/site-packages/jupyter_contrib_nbextensions/nbextensions/varInspector/jquery.tablesorter.min.js -> /usr/local/share/jupyter/nbextensions/varInspector/jquery.tablesorter.min.js\r\n",
      "\u001b[32m[I 10:43:31 InstallContribNbextensionsApp]\u001b[m Copying: /usr/local/anaconda3/lib/python3.8/site-packages/jupyter_contrib_nbextensions/nbextensions/varInspector/varInspector.yaml -> /usr/local/share/jupyter/nbextensions/varInspector/varInspector.yaml\r\n",
      "\u001b[32m[I 10:43:31 InstallContribNbextensionsApp]\u001b[m Copying: /usr/local/anaconda3/lib/python3.8/site-packages/jupyter_contrib_nbextensions/nbextensions/varInspector/main.css -> /usr/local/share/jupyter/nbextensions/varInspector/main.css\r\n",
      "\u001b[32m[I 10:43:31 InstallContribNbextensionsApp]\u001b[m Copying: /usr/local/anaconda3/lib/python3.8/site-packages/jupyter_contrib_nbextensions/nbextensions/varInspector/var_list.py -> /usr/local/share/jupyter/nbextensions/varInspector/var_list.py\r\n",
      "\u001b[32m[I 10:43:31 InstallContribNbextensionsApp]\u001b[m Copying: /usr/local/anaconda3/lib/python3.8/site-packages/jupyter_contrib_nbextensions/nbextensions/varInspector/README.md -> /usr/local/share/jupyter/nbextensions/varInspector/README.md\r\n",
      "\u001b[32m[I 10:43:31 InstallContribNbextensionsApp]\u001b[m Copying: /usr/local/anaconda3/lib/python3.8/site-packages/jupyter_contrib_nbextensions/nbextensions/varInspector/main.js -> /usr/local/share/jupyter/nbextensions/varInspector/main.js\r\n",
      "\u001b[32m[I 10:43:31 InstallContribNbextensionsApp]\u001b[m Copying: /usr/local/anaconda3/lib/python3.8/site-packages/jupyter_contrib_nbextensions/nbextensions/varInspector/var_list.r -> /usr/local/share/jupyter/nbextensions/varInspector/var_list.r\r\n",
      "\u001b[32m[I 10:43:31 InstallContribNbextensionsApp]\u001b[m Copying: /usr/local/anaconda3/lib/python3.8/site-packages/jupyter_contrib_nbextensions/nbextensions/varInspector/tablesorter_LICENSE.txt -> /usr/local/share/jupyter/nbextensions/varInspector/tablesorter_LICENSE.txt\r\n",
      "\u001b[32m[I 10:43:31 InstallContribNbextensionsApp]\u001b[m Copying: /usr/local/anaconda3/lib/python3.8/site-packages/jupyter_contrib_nbextensions/nbextensions/varInspector/demo.gif -> /usr/local/share/jupyter/nbextensions/varInspector/demo.gif\r\n",
      "\u001b[32m[I 10:43:31 InstallContribNbextensionsApp]\u001b[m Making directory: /usr/local/share/jupyter/nbextensions/varInspector/__pycache__\r\n",
      "\u001b[32m[I 10:43:31 InstallContribNbextensionsApp]\u001b[m Copying: /usr/local/anaconda3/lib/python3.8/site-packages/jupyter_contrib_nbextensions/nbextensions/varInspector/__pycache__/var_list.cpython-38.pyc -> /usr/local/share/jupyter/nbextensions/varInspector/__pycache__/var_list.cpython-38.pyc\r\n",
      "\u001b[32m[I 10:43:31 InstallContribNbextensionsApp]\u001b[m - Validating: \u001b[32mOK\u001b[0m\r\n",
      "\u001b[32m[I 10:43:31 InstallContribNbextensionsApp]\u001b[m Installing /usr/local/anaconda3/lib/python3.8/site-packages/jupyter_contrib_nbextensions/nbextensions/execute_time -> execute_time\r\n",
      "\u001b[32m[I 10:43:31 InstallContribNbextensionsApp]\u001b[m Making directory: /usr/local/share/jupyter/nbextensions/execute_time/\r\n",
      "\u001b[32m[I 10:43:31 InstallContribNbextensionsApp]\u001b[m Copying: /usr/local/anaconda3/lib/python3.8/site-packages/jupyter_contrib_nbextensions/nbextensions/execute_time/ExecuteTime.js -> /usr/local/share/jupyter/nbextensions/execute_time/ExecuteTime.js\r\n",
      "\u001b[32m[I 10:43:31 InstallContribNbextensionsApp]\u001b[m Copying: /usr/local/anaconda3/lib/python3.8/site-packages/jupyter_contrib_nbextensions/nbextensions/execute_time/icon.png -> /usr/local/share/jupyter/nbextensions/execute_time/icon.png\r\n",
      "\u001b[32m[I 10:43:31 InstallContribNbextensionsApp]\u001b[m Copying: /usr/local/anaconda3/lib/python3.8/site-packages/jupyter_contrib_nbextensions/nbextensions/execute_time/execution-timings-box.png -> /usr/local/share/jupyter/nbextensions/execute_time/execution-timings-box.png\r\n",
      "\u001b[32m[I 10:43:31 InstallContribNbextensionsApp]\u001b[m Copying: /usr/local/anaconda3/lib/python3.8/site-packages/jupyter_contrib_nbextensions/nbextensions/execute_time/ExecuteTime.css -> /usr/local/share/jupyter/nbextensions/execute_time/ExecuteTime.css\r\n",
      "\u001b[32m[I 10:43:31 InstallContribNbextensionsApp]\u001b[m Copying: /usr/local/anaconda3/lib/python3.8/site-packages/jupyter_contrib_nbextensions/nbextensions/execute_time/ExecuteTime.yaml -> /usr/local/share/jupyter/nbextensions/execute_time/ExecuteTime.yaml\r\n",
      "\u001b[32m[I 10:43:31 InstallContribNbextensionsApp]\u001b[m Copying: /usr/local/anaconda3/lib/python3.8/site-packages/jupyter_contrib_nbextensions/nbextensions/execute_time/execution-timings-menu.png -> /usr/local/share/jupyter/nbextensions/execute_time/execution-timings-menu.png\r\n",
      "\u001b[32m[I 10:43:31 InstallContribNbextensionsApp]\u001b[m Copying: /usr/local/anaconda3/lib/python3.8/site-packages/jupyter_contrib_nbextensions/nbextensions/execute_time/readme.md -> /usr/local/share/jupyter/nbextensions/execute_time/readme.md\r\n",
      "\u001b[32m[I 10:43:31 InstallContribNbextensionsApp]\u001b[m - Validating: \u001b[32mOK\u001b[0m\r\n",
      "\u001b[32m[I 10:43:31 InstallContribNbextensionsApp]\u001b[m Installing /usr/local/anaconda3/lib/python3.8/site-packages/jupyter_contrib_nbextensions/nbextensions/spellchecker -> spellchecker\r\n",
      "\u001b[32m[I 10:43:31 InstallContribNbextensionsApp]\u001b[m Making directory: /usr/local/share/jupyter/nbextensions/spellchecker/\r\n",
      "\u001b[32m[I 10:43:31 InstallContribNbextensionsApp]\u001b[m Copying: /usr/local/anaconda3/lib/python3.8/site-packages/jupyter_contrib_nbextensions/nbextensions/spellchecker/download_new_dict.py -> /usr/local/share/jupyter/nbextensions/spellchecker/download_new_dict.py\r\n",
      "\u001b[32m[I 10:43:31 InstallContribNbextensionsApp]\u001b[m Copying: /usr/local/anaconda3/lib/python3.8/site-packages/jupyter_contrib_nbextensions/nbextensions/spellchecker/screenshot.png -> /usr/local/share/jupyter/nbextensions/spellchecker/screenshot.png\r\n",
      "\u001b[32m[I 10:43:31 InstallContribNbextensionsApp]\u001b[m Copying: /usr/local/anaconda3/lib/python3.8/site-packages/jupyter_contrib_nbextensions/nbextensions/spellchecker/config.yaml -> /usr/local/share/jupyter/nbextensions/spellchecker/config.yaml\r\n",
      "\u001b[32m[I 10:43:31 InstallContribNbextensionsApp]\u001b[m Copying: /usr/local/anaconda3/lib/python3.8/site-packages/jupyter_contrib_nbextensions/nbextensions/spellchecker/main.css -> /usr/local/share/jupyter/nbextensions/spellchecker/main.css\r\n",
      "\u001b[32m[I 10:43:31 InstallContribNbextensionsApp]\u001b[m Copying: /usr/local/anaconda3/lib/python3.8/site-packages/jupyter_contrib_nbextensions/nbextensions/spellchecker/README.md -> /usr/local/share/jupyter/nbextensions/spellchecker/README.md\r\n",
      "\u001b[32m[I 10:43:31 InstallContribNbextensionsApp]\u001b[m Copying: /usr/local/anaconda3/lib/python3.8/site-packages/jupyter_contrib_nbextensions/nbextensions/spellchecker/main.js -> /usr/local/share/jupyter/nbextensions/spellchecker/main.js\r\n",
      "\u001b[32m[I 10:43:31 InstallContribNbextensionsApp]\u001b[m Making directory: /usr/local/share/jupyter/nbextensions/spellchecker/typo\r\n",
      "\u001b[32m[I 10:43:31 InstallContribNbextensionsApp]\u001b[m Copying: /usr/local/anaconda3/lib/python3.8/site-packages/jupyter_contrib_nbextensions/nbextensions/spellchecker/typo/typo.js -> /usr/local/share/jupyter/nbextensions/spellchecker/typo/typo.js\r\n",
      "\u001b[32m[I 10:43:31 InstallContribNbextensionsApp]\u001b[m Copying: /usr/local/anaconda3/lib/python3.8/site-packages/jupyter_contrib_nbextensions/nbextensions/spellchecker/typo/LICENSE.txt -> /usr/local/share/jupyter/nbextensions/spellchecker/typo/LICENSE.txt\r\n",
      "\u001b[32m[I 10:43:31 InstallContribNbextensionsApp]\u001b[m Making directory: /usr/local/share/jupyter/nbextensions/spellchecker/__pycache__\r\n",
      "\u001b[32m[I 10:43:31 InstallContribNbextensionsApp]\u001b[m Copying: /usr/local/anaconda3/lib/python3.8/site-packages/jupyter_contrib_nbextensions/nbextensions/spellchecker/__pycache__/download_new_dict.cpython-38.pyc -> /usr/local/share/jupyter/nbextensions/spellchecker/__pycache__/download_new_dict.cpython-38.pyc\r\n",
      "\u001b[32m[I 10:43:31 InstallContribNbextensionsApp]\u001b[m - Validating: \u001b[32mOK\u001b[0m\r\n",
      "\u001b[32m[I 10:43:31 InstallContribNbextensionsApp]\u001b[m Installing /usr/local/anaconda3/lib/python3.8/site-packages/jupyter_contrib_nbextensions/nbextensions/code_prettify -> code_prettify\r\n",
      "\u001b[32m[I 10:43:31 InstallContribNbextensionsApp]\u001b[m Making directory: /usr/local/share/jupyter/nbextensions/code_prettify/\r\n",
      "\u001b[32m[I 10:43:31 InstallContribNbextensionsApp]\u001b[m Copying: /usr/local/anaconda3/lib/python3.8/site-packages/jupyter_contrib_nbextensions/nbextensions/code_prettify/demo-py.gif -> /usr/local/share/jupyter/nbextensions/code_prettify/demo-py.gif\r\n"
     ]
    },
    {
     "name": "stdout",
     "output_type": "stream",
     "text": [
      "\u001b[32m[I 10:43:31 InstallContribNbextensionsApp]\u001b[m Copying: /usr/local/anaconda3/lib/python3.8/site-packages/jupyter_contrib_nbextensions/nbextensions/code_prettify/kernel_exec_on_cell.js -> /usr/local/share/jupyter/nbextensions/code_prettify/kernel_exec_on_cell.js\r\n",
      "\u001b[32m[I 10:43:31 InstallContribNbextensionsApp]\u001b[m Copying: /usr/local/anaconda3/lib/python3.8/site-packages/jupyter_contrib_nbextensions/nbextensions/code_prettify/demo-jv.gif -> /usr/local/share/jupyter/nbextensions/code_prettify/demo-jv.gif\r\n",
      "\u001b[32m[I 10:43:31 InstallContribNbextensionsApp]\u001b[m Copying: /usr/local/anaconda3/lib/python3.8/site-packages/jupyter_contrib_nbextensions/nbextensions/code_prettify/README_2to3.md -> /usr/local/share/jupyter/nbextensions/code_prettify/README_2to3.md\r\n",
      "\u001b[32m[I 10:43:31 InstallContribNbextensionsApp]\u001b[m Copying: /usr/local/anaconda3/lib/python3.8/site-packages/jupyter_contrib_nbextensions/nbextensions/code_prettify/2to3.yaml -> /usr/local/share/jupyter/nbextensions/code_prettify/2to3.yaml\r\n",
      "\u001b[32m[I 10:43:31 InstallContribNbextensionsApp]\u001b[m Copying: /usr/local/anaconda3/lib/python3.8/site-packages/jupyter_contrib_nbextensions/nbextensions/code_prettify/README_autopep8.md -> /usr/local/share/jupyter/nbextensions/code_prettify/README_autopep8.md\r\n",
      "\u001b[32m[I 10:43:31 InstallContribNbextensionsApp]\u001b[m Copying: /usr/local/anaconda3/lib/python3.8/site-packages/jupyter_contrib_nbextensions/nbextensions/code_prettify/demo_2to3.gif -> /usr/local/share/jupyter/nbextensions/code_prettify/demo_2to3.gif\r\n",
      "\u001b[32m[I 10:43:31 InstallContribNbextensionsApp]\u001b[m Copying: /usr/local/anaconda3/lib/python3.8/site-packages/jupyter_contrib_nbextensions/nbextensions/code_prettify/README_isort.md -> /usr/local/share/jupyter/nbextensions/code_prettify/README_isort.md\r\n",
      "\u001b[32m[I 10:43:31 InstallContribNbextensionsApp]\u001b[m Copying: /usr/local/anaconda3/lib/python3.8/site-packages/jupyter_contrib_nbextensions/nbextensions/code_prettify/README_code_prettify.md -> /usr/local/share/jupyter/nbextensions/code_prettify/README_code_prettify.md\r\n",
      "\u001b[32m[I 10:43:31 InstallContribNbextensionsApp]\u001b[m Copying: /usr/local/anaconda3/lib/python3.8/site-packages/jupyter_contrib_nbextensions/nbextensions/code_prettify/README.md -> /usr/local/share/jupyter/nbextensions/code_prettify/README.md\r\n",
      "\u001b[32m[I 10:43:31 InstallContribNbextensionsApp]\u001b[m Copying: /usr/local/anaconda3/lib/python3.8/site-packages/jupyter_contrib_nbextensions/nbextensions/code_prettify/code_prettify.js -> /usr/local/share/jupyter/nbextensions/code_prettify/code_prettify.js\r\n",
      "\u001b[32m[I 10:43:31 InstallContribNbextensionsApp]\u001b[m Copying: /usr/local/anaconda3/lib/python3.8/site-packages/jupyter_contrib_nbextensions/nbextensions/code_prettify/autopep8.js -> /usr/local/share/jupyter/nbextensions/code_prettify/autopep8.js\r\n",
      "\u001b[32m[I 10:43:31 InstallContribNbextensionsApp]\u001b[m Copying: /usr/local/anaconda3/lib/python3.8/site-packages/jupyter_contrib_nbextensions/nbextensions/code_prettify/demo-R.gif -> /usr/local/share/jupyter/nbextensions/code_prettify/demo-R.gif\r\n",
      "\u001b[32m[I 10:43:31 InstallContribNbextensionsApp]\u001b[m Copying: /usr/local/anaconda3/lib/python3.8/site-packages/jupyter_contrib_nbextensions/nbextensions/code_prettify/isort.js -> /usr/local/share/jupyter/nbextensions/code_prettify/isort.js\r\n",
      "\u001b[32m[I 10:43:31 InstallContribNbextensionsApp]\u001b[m Copying: /usr/local/anaconda3/lib/python3.8/site-packages/jupyter_contrib_nbextensions/nbextensions/code_prettify/code_prettify.yaml -> /usr/local/share/jupyter/nbextensions/code_prettify/code_prettify.yaml\r\n",
      "\u001b[32m[I 10:43:31 InstallContribNbextensionsApp]\u001b[m Copying: /usr/local/anaconda3/lib/python3.8/site-packages/jupyter_contrib_nbextensions/nbextensions/code_prettify/2to3.js -> /usr/local/share/jupyter/nbextensions/code_prettify/2to3.js\r\n",
      "\u001b[32m[I 10:43:31 InstallContribNbextensionsApp]\u001b[m Copying: /usr/local/anaconda3/lib/python3.8/site-packages/jupyter_contrib_nbextensions/nbextensions/code_prettify/autopep8.yaml -> /usr/local/share/jupyter/nbextensions/code_prettify/autopep8.yaml\r\n",
      "\u001b[32m[I 10:43:31 InstallContribNbextensionsApp]\u001b[m Copying: /usr/local/anaconda3/lib/python3.8/site-packages/jupyter_contrib_nbextensions/nbextensions/code_prettify/isort.yaml -> /usr/local/share/jupyter/nbextensions/code_prettify/isort.yaml\r\n",
      "\u001b[32m[I 10:43:31 InstallContribNbextensionsApp]\u001b[m - Validating: \u001b[32mOK\u001b[0m\r\n",
      "\u001b[32m[I 10:43:31 InstallContribNbextensionsApp]\u001b[m Installing /usr/local/anaconda3/lib/python3.8/site-packages/jupyter_contrib_nbextensions/nbextensions/code_prettify -> code_prettify\r\n",
      "\u001b[32m[I 10:43:31 InstallContribNbextensionsApp]\u001b[m Up to date: /usr/local/share/jupyter/nbextensions/code_prettify/demo-py.gif\r\n",
      "\u001b[32m[I 10:43:31 InstallContribNbextensionsApp]\u001b[m Up to date: /usr/local/share/jupyter/nbextensions/code_prettify/kernel_exec_on_cell.js\r\n",
      "\u001b[32m[I 10:43:31 InstallContribNbextensionsApp]\u001b[m Up to date: /usr/local/share/jupyter/nbextensions/code_prettify/demo-jv.gif\r\n",
      "\u001b[32m[I 10:43:31 InstallContribNbextensionsApp]\u001b[m Up to date: /usr/local/share/jupyter/nbextensions/code_prettify/README_2to3.md\r\n",
      "\u001b[32m[I 10:43:31 InstallContribNbextensionsApp]\u001b[m Up to date: /usr/local/share/jupyter/nbextensions/code_prettify/2to3.yaml\r\n",
      "\u001b[32m[I 10:43:31 InstallContribNbextensionsApp]\u001b[m Up to date: /usr/local/share/jupyter/nbextensions/code_prettify/README_autopep8.md\r\n",
      "\u001b[32m[I 10:43:31 InstallContribNbextensionsApp]\u001b[m Up to date: /usr/local/share/jupyter/nbextensions/code_prettify/demo_2to3.gif\r\n",
      "\u001b[32m[I 10:43:31 InstallContribNbextensionsApp]\u001b[m Up to date: /usr/local/share/jupyter/nbextensions/code_prettify/README_isort.md\r\n",
      "\u001b[32m[I 10:43:31 InstallContribNbextensionsApp]\u001b[m Up to date: /usr/local/share/jupyter/nbextensions/code_prettify/README_code_prettify.md\r\n",
      "\u001b[32m[I 10:43:31 InstallContribNbextensionsApp]\u001b[m Up to date: /usr/local/share/jupyter/nbextensions/code_prettify/README.md\r\n",
      "\u001b[32m[I 10:43:31 InstallContribNbextensionsApp]\u001b[m Up to date: /usr/local/share/jupyter/nbextensions/code_prettify/code_prettify.js\r\n",
      "\u001b[32m[I 10:43:31 InstallContribNbextensionsApp]\u001b[m Up to date: /usr/local/share/jupyter/nbextensions/code_prettify/autopep8.js\r\n",
      "\u001b[32m[I 10:43:31 InstallContribNbextensionsApp]\u001b[m Up to date: /usr/local/share/jupyter/nbextensions/code_prettify/demo-R.gif\r\n",
      "\u001b[32m[I 10:43:31 InstallContribNbextensionsApp]\u001b[m Up to date: /usr/local/share/jupyter/nbextensions/code_prettify/isort.js\r\n",
      "\u001b[32m[I 10:43:31 InstallContribNbextensionsApp]\u001b[m Up to date: /usr/local/share/jupyter/nbextensions/code_prettify/code_prettify.yaml\r\n",
      "\u001b[32m[I 10:43:31 InstallContribNbextensionsApp]\u001b[m Up to date: /usr/local/share/jupyter/nbextensions/code_prettify/2to3.js\r\n",
      "\u001b[32m[I 10:43:31 InstallContribNbextensionsApp]\u001b[m Up to date: /usr/local/share/jupyter/nbextensions/code_prettify/autopep8.yaml\r\n",
      "\u001b[32m[I 10:43:31 InstallContribNbextensionsApp]\u001b[m Up to date: /usr/local/share/jupyter/nbextensions/code_prettify/isort.yaml\r\n",
      "\u001b[32m[I 10:43:31 InstallContribNbextensionsApp]\u001b[m - Validating: \u001b[32mOK\u001b[0m\r\n",
      "\u001b[32m[I 10:43:31 InstallContribNbextensionsApp]\u001b[m Installing /usr/local/anaconda3/lib/python3.8/site-packages/jupyter_contrib_nbextensions/nbextensions/code_prettify -> code_prettify\r\n",
      "\u001b[32m[I 10:43:31 InstallContribNbextensionsApp]\u001b[m Up to date: /usr/local/share/jupyter/nbextensions/code_prettify/demo-py.gif\r\n",
      "\u001b[32m[I 10:43:31 InstallContribNbextensionsApp]\u001b[m Up to date: /usr/local/share/jupyter/nbextensions/code_prettify/kernel_exec_on_cell.js\r\n",
      "\u001b[32m[I 10:43:31 InstallContribNbextensionsApp]\u001b[m Up to date: /usr/local/share/jupyter/nbextensions/code_prettify/demo-jv.gif\r\n",
      "\u001b[32m[I 10:43:31 InstallContribNbextensionsApp]\u001b[m Up to date: /usr/local/share/jupyter/nbextensions/code_prettify/README_2to3.md\r\n",
      "\u001b[32m[I 10:43:31 InstallContribNbextensionsApp]\u001b[m Up to date: /usr/local/share/jupyter/nbextensions/code_prettify/2to3.yaml\r\n",
      "\u001b[32m[I 10:43:31 InstallContribNbextensionsApp]\u001b[m Up to date: /usr/local/share/jupyter/nbextensions/code_prettify/README_autopep8.md\r\n",
      "\u001b[32m[I 10:43:31 InstallContribNbextensionsApp]\u001b[m Up to date: /usr/local/share/jupyter/nbextensions/code_prettify/demo_2to3.gif\r\n",
      "\u001b[32m[I 10:43:31 InstallContribNbextensionsApp]\u001b[m Up to date: /usr/local/share/jupyter/nbextensions/code_prettify/README_isort.md\r\n",
      "\u001b[32m[I 10:43:31 InstallContribNbextensionsApp]\u001b[m Up to date: /usr/local/share/jupyter/nbextensions/code_prettify/README_code_prettify.md\r\n",
      "\u001b[32m[I 10:43:31 InstallContribNbextensionsApp]\u001b[m Up to date: /usr/local/share/jupyter/nbextensions/code_prettify/README.md\r\n",
      "\u001b[32m[I 10:43:31 InstallContribNbextensionsApp]\u001b[m Up to date: /usr/local/share/jupyter/nbextensions/code_prettify/code_prettify.js\r\n",
      "\u001b[32m[I 10:43:31 InstallContribNbextensionsApp]\u001b[m Up to date: /usr/local/share/jupyter/nbextensions/code_prettify/autopep8.js\r\n",
      "\u001b[32m[I 10:43:31 InstallContribNbextensionsApp]\u001b[m Up to date: /usr/local/share/jupyter/nbextensions/code_prettify/demo-R.gif\r\n",
      "\u001b[32m[I 10:43:31 InstallContribNbextensionsApp]\u001b[m Up to date: /usr/local/share/jupyter/nbextensions/code_prettify/isort.js\r\n",
      "\u001b[32m[I 10:43:31 InstallContribNbextensionsApp]\u001b[m Up to date: /usr/local/share/jupyter/nbextensions/code_prettify/code_prettify.yaml\r\n",
      "\u001b[32m[I 10:43:31 InstallContribNbextensionsApp]\u001b[m Up to date: /usr/local/share/jupyter/nbextensions/code_prettify/2to3.js\r\n",
      "\u001b[32m[I 10:43:31 InstallContribNbextensionsApp]\u001b[m Up to date: /usr/local/share/jupyter/nbextensions/code_prettify/autopep8.yaml\r\n",
      "\u001b[32m[I 10:43:31 InstallContribNbextensionsApp]\u001b[m Up to date: /usr/local/share/jupyter/nbextensions/code_prettify/isort.yaml\r\n",
      "\u001b[32m[I 10:43:31 InstallContribNbextensionsApp]\u001b[m - Validating: \u001b[32mOK\u001b[0m\r\n",
      "\u001b[32m[I 10:43:31 InstallContribNbextensionsApp]\u001b[m Installing /usr/local/anaconda3/lib/python3.8/site-packages/jupyter_contrib_nbextensions/nbextensions/code_prettify -> code_prettify\r\n",
      "\u001b[32m[I 10:43:31 InstallContribNbextensionsApp]\u001b[m Up to date: /usr/local/share/jupyter/nbextensions/code_prettify/demo-py.gif\r\n",
      "\u001b[32m[I 10:43:31 InstallContribNbextensionsApp]\u001b[m Up to date: /usr/local/share/jupyter/nbextensions/code_prettify/kernel_exec_on_cell.js\r\n",
      "\u001b[32m[I 10:43:31 InstallContribNbextensionsApp]\u001b[m Up to date: /usr/local/share/jupyter/nbextensions/code_prettify/demo-jv.gif\r\n",
      "\u001b[32m[I 10:43:31 InstallContribNbextensionsApp]\u001b[m Up to date: /usr/local/share/jupyter/nbextensions/code_prettify/README_2to3.md\r\n",
      "\u001b[32m[I 10:43:31 InstallContribNbextensionsApp]\u001b[m Up to date: /usr/local/share/jupyter/nbextensions/code_prettify/2to3.yaml\r\n",
      "\u001b[32m[I 10:43:31 InstallContribNbextensionsApp]\u001b[m Up to date: /usr/local/share/jupyter/nbextensions/code_prettify/README_autopep8.md\r\n",
      "\u001b[32m[I 10:43:31 InstallContribNbextensionsApp]\u001b[m Up to date: /usr/local/share/jupyter/nbextensions/code_prettify/demo_2to3.gif\r\n",
      "\u001b[32m[I 10:43:31 InstallContribNbextensionsApp]\u001b[m Up to date: /usr/local/share/jupyter/nbextensions/code_prettify/README_isort.md\r\n",
      "\u001b[32m[I 10:43:31 InstallContribNbextensionsApp]\u001b[m Up to date: /usr/local/share/jupyter/nbextensions/code_prettify/README_code_prettify.md\r\n",
      "\u001b[32m[I 10:43:31 InstallContribNbextensionsApp]\u001b[m Up to date: /usr/local/share/jupyter/nbextensions/code_prettify/README.md\r\n",
      "\u001b[32m[I 10:43:31 InstallContribNbextensionsApp]\u001b[m Up to date: /usr/local/share/jupyter/nbextensions/code_prettify/code_prettify.js\r\n",
      "\u001b[32m[I 10:43:31 InstallContribNbextensionsApp]\u001b[m Up to date: /usr/local/share/jupyter/nbextensions/code_prettify/autopep8.js\r\n",
      "\u001b[32m[I 10:43:31 InstallContribNbextensionsApp]\u001b[m Up to date: /usr/local/share/jupyter/nbextensions/code_prettify/demo-R.gif\r\n",
      "\u001b[32m[I 10:43:31 InstallContribNbextensionsApp]\u001b[m Up to date: /usr/local/share/jupyter/nbextensions/code_prettify/isort.js\r\n",
      "\u001b[32m[I 10:43:31 InstallContribNbextensionsApp]\u001b[m Up to date: /usr/local/share/jupyter/nbextensions/code_prettify/code_prettify.yaml\r\n",
      "\u001b[32m[I 10:43:31 InstallContribNbextensionsApp]\u001b[m Up to date: /usr/local/share/jupyter/nbextensions/code_prettify/2to3.js\r\n",
      "\u001b[32m[I 10:43:31 InstallContribNbextensionsApp]\u001b[m Up to date: /usr/local/share/jupyter/nbextensions/code_prettify/autopep8.yaml\r\n",
      "\u001b[32m[I 10:43:31 InstallContribNbextensionsApp]\u001b[m Up to date: /usr/local/share/jupyter/nbextensions/code_prettify/isort.yaml\r\n",
      "\u001b[32m[I 10:43:31 InstallContribNbextensionsApp]\u001b[m - Validating: \u001b[32mOK\u001b[0m\r\n",
      "\u001b[32m[I 10:43:31 InstallContribNbextensionsApp]\u001b[m Installing /usr/local/anaconda3/lib/python3.8/site-packages/jupyter_contrib_nbextensions/nbextensions/load_tex_macros -> load_tex_macros\r\n",
      "\u001b[32m[I 10:43:31 InstallContribNbextensionsApp]\u001b[m Making directory: /usr/local/share/jupyter/nbextensions/load_tex_macros/\r\n",
      "\u001b[32m[I 10:43:31 InstallContribNbextensionsApp]\u001b[m Copying: /usr/local/anaconda3/lib/python3.8/site-packages/jupyter_contrib_nbextensions/nbextensions/load_tex_macros/load_tex_macros.yaml -> /usr/local/share/jupyter/nbextensions/load_tex_macros/load_tex_macros.yaml\r\n",
      "\u001b[32m[I 10:43:31 InstallContribNbextensionsApp]\u001b[m Copying: /usr/local/anaconda3/lib/python3.8/site-packages/jupyter_contrib_nbextensions/nbextensions/load_tex_macros/icon.png -> /usr/local/share/jupyter/nbextensions/load_tex_macros/icon.png\r\n",
      "\u001b[32m[I 10:43:31 InstallContribNbextensionsApp]\u001b[m Copying: /usr/local/anaconda3/lib/python3.8/site-packages/jupyter_contrib_nbextensions/nbextensions/load_tex_macros/readme.md -> /usr/local/share/jupyter/nbextensions/load_tex_macros/readme.md\r\n",
      "\u001b[32m[I 10:43:31 InstallContribNbextensionsApp]\u001b[m Copying: /usr/local/anaconda3/lib/python3.8/site-packages/jupyter_contrib_nbextensions/nbextensions/load_tex_macros/main.js -> /usr/local/share/jupyter/nbextensions/load_tex_macros/main.js\r\n",
      "\u001b[32m[I 10:43:31 InstallContribNbextensionsApp]\u001b[m - Validating: \u001b[32mOK\u001b[0m\r\n",
      "\u001b[32m[I 10:43:31 InstallContribNbextensionsApp]\u001b[m Installing /usr/local/anaconda3/lib/python3.8/site-packages/jupyter_contrib_nbextensions/nbextensions/hide_header -> hide_header\r\n",
      "\u001b[32m[I 10:43:31 InstallContribNbextensionsApp]\u001b[m Making directory: /usr/local/share/jupyter/nbextensions/hide_header/\r\n",
      "\u001b[32m[I 10:43:31 InstallContribNbextensionsApp]\u001b[m Copying: /usr/local/anaconda3/lib/python3.8/site-packages/jupyter_contrib_nbextensions/nbextensions/hide_header/hide_header.yaml -> /usr/local/share/jupyter/nbextensions/hide_header/hide_header.yaml\r\n",
      "\u001b[32m[I 10:43:31 InstallContribNbextensionsApp]\u001b[m Copying: /usr/local/anaconda3/lib/python3.8/site-packages/jupyter_contrib_nbextensions/nbextensions/hide_header/README.md -> /usr/local/share/jupyter/nbextensions/hide_header/README.md\r\n",
      "\u001b[32m[I 10:43:31 InstallContribNbextensionsApp]\u001b[m Copying: /usr/local/anaconda3/lib/python3.8/site-packages/jupyter_contrib_nbextensions/nbextensions/hide_header/main.js -> /usr/local/share/jupyter/nbextensions/hide_header/main.js\r\n",
      "\u001b[32m[I 10:43:31 InstallContribNbextensionsApp]\u001b[m - Validating: \u001b[32mOK\u001b[0m\r\n",
      "\u001b[32m[I 10:43:31 InstallContribNbextensionsApp]\u001b[m Installing /usr/local/anaconda3/lib/python3.8/site-packages/jupyter_highlight_selected_word/static/highlight_selected_word -> highlight_selected_word\r\n",
      "\u001b[32m[I 10:43:31 InstallContribNbextensionsApp]\u001b[m Making directory: /usr/local/share/jupyter/nbextensions/highlight_selected_word/\r\n",
      "\u001b[32m[I 10:43:31 InstallContribNbextensionsApp]\u001b[m Copying: /usr/local/anaconda3/lib/python3.8/site-packages/jupyter_highlight_selected_word/static/highlight_selected_word/configurator.yaml -> /usr/local/share/jupyter/nbextensions/highlight_selected_word/configurator.yaml\r\n",
      "\u001b[32m[I 10:43:31 InstallContribNbextensionsApp]\u001b[m Copying: /usr/local/anaconda3/lib/python3.8/site-packages/jupyter_highlight_selected_word/static/highlight_selected_word/README.md -> /usr/local/share/jupyter/nbextensions/highlight_selected_word/README.md\r\n",
      "\u001b[32m[I 10:43:31 InstallContribNbextensionsApp]\u001b[m Copying: /usr/local/anaconda3/lib/python3.8/site-packages/jupyter_highlight_selected_word/static/highlight_selected_word/main.js -> /usr/local/share/jupyter/nbextensions/highlight_selected_word/main.js\r\n",
      "\u001b[32m[I 10:43:31 InstallContribNbextensionsApp]\u001b[m - Validating: \u001b[32mOK\u001b[0m\r\n",
      "\u001b[32m[I 10:43:31 InstallContribNbextensionsApp]\u001b[m Installing /usr/local/anaconda3/lib/python3.8/site-packages/latex_envs/static -> latex_envs\r\n",
      "\u001b[32m[I 10:43:31 InstallContribNbextensionsApp]\u001b[m Making directory: /usr/local/share/jupyter/nbextensions/latex_envs/\r\n",
      "\u001b[32m[I 10:43:31 InstallContribNbextensionsApp]\u001b[m Copying: /usr/local/anaconda3/lib/python3.8/site-packages/latex_envs/static/icon.png -> /usr/local/share/jupyter/nbextensions/latex_envs/icon.png\r\n",
      "\u001b[32m[I 10:43:31 InstallContribNbextensionsApp]\u001b[m Copying: /usr/local/anaconda3/lib/python3.8/site-packages/latex_envs/static/latex_envs.yaml -> /usr/local/share/jupyter/nbextensions/latex_envs/latex_envs.yaml\r\n",
      "\u001b[32m[I 10:43:31 InstallContribNbextensionsApp]\u001b[m Copying: /usr/local/anaconda3/lib/python3.8/site-packages/latex_envs/static/configuration_toolbar.png -> /usr/local/share/jupyter/nbextensions/latex_envs/configuration_toolbar.png\r\n",
      "\u001b[32m[I 10:43:31 InstallContribNbextensionsApp]\u001b[m Copying: /usr/local/anaconda3/lib/python3.8/site-packages/latex_envs/static/bibInNb4.js -> /usr/local/share/jupyter/nbextensions/latex_envs/bibInNb4.js\r\n",
      "\u001b[32m[I 10:43:31 InstallContribNbextensionsApp]\u001b[m Copying: /usr/local/anaconda3/lib/python3.8/site-packages/latex_envs/static/example_user_envs.json -> /usr/local/share/jupyter/nbextensions/latex_envs/example_user_envs.json\r\n",
      "\u001b[32m[I 10:43:31 InstallContribNbextensionsApp]\u001b[m Copying: /usr/local/anaconda3/lib/python3.8/site-packages/latex_envs/static/envsLatex.js -> /usr/local/share/jupyter/nbextensions/latex_envs/envsLatex.js\r\n",
      "\u001b[32m[I 10:43:31 InstallContribNbextensionsApp]\u001b[m Copying: /usr/local/anaconda3/lib/python3.8/site-packages/latex_envs/static/main_toolbar.png -> /usr/local/share/jupyter/nbextensions/latex_envs/main_toolbar.png\r\n",
      "\u001b[32m[I 10:43:31 InstallContribNbextensionsApp]\u001b[m Copying: /usr/local/anaconda3/lib/python3.8/site-packages/latex_envs/static/envsLatex.json -> /usr/local/share/jupyter/nbextensions/latex_envs/envsLatex.json\r\n",
      "\u001b[32m[I 10:43:31 InstallContribNbextensionsApp]\u001b[m Copying: /usr/local/anaconda3/lib/python3.8/site-packages/latex_envs/static/README.md -> /usr/local/share/jupyter/nbextensions/latex_envs/README.md\r\n",
      "\u001b[32m[I 10:43:31 InstallContribNbextensionsApp]\u001b[m Copying: /usr/local/anaconda3/lib/python3.8/site-packages/latex_envs/static/thmsInNb4.js -> /usr/local/share/jupyter/nbextensions/latex_envs/thmsInNb4.js\r\n",
      "\u001b[32m[I 10:43:31 InstallContribNbextensionsApp]\u001b[m Copying: /usr/local/anaconda3/lib/python3.8/site-packages/latex_envs/static/initNb.js -> /usr/local/share/jupyter/nbextensions/latex_envs/initNb.js\r\n",
      "\u001b[32m[I 10:43:31 InstallContribNbextensionsApp]\u001b[m Copying: /usr/local/anaconda3/lib/python3.8/site-packages/latex_envs/static/latex_envs.css -> /usr/local/share/jupyter/nbextensions/latex_envs/latex_envs.css\r\n",
      "\u001b[32m[I 10:43:31 InstallContribNbextensionsApp]\u001b[m Copying: /usr/local/anaconda3/lib/python3.8/site-packages/latex_envs/static/latex_envs.js -> /usr/local/share/jupyter/nbextensions/latex_envs/latex_envs.js\r\n",
      "\u001b[32m[I 10:43:31 InstallContribNbextensionsApp]\u001b[m Copying: /usr/local/anaconda3/lib/python3.8/site-packages/latex_envs/static/bibtex2.js -> /usr/local/share/jupyter/nbextensions/latex_envs/bibtex2.js\r\n",
      "\u001b[32m[I 10:43:31 InstallContribNbextensionsApp]\u001b[m Copying: /usr/local/anaconda3/lib/python3.8/site-packages/latex_envs/static/example.png -> /usr/local/share/jupyter/nbextensions/latex_envs/example.png\r\n"
     ]
    },
    {
     "name": "stdout",
     "output_type": "stream",
     "text": [
      "\u001b[32m[I 10:43:31 InstallContribNbextensionsApp]\u001b[m Making directory: /usr/local/share/jupyter/nbextensions/latex_envs/doc\r\n",
      "\u001b[32m[I 10:43:31 InstallContribNbextensionsApp]\u001b[m Copying: /usr/local/anaconda3/lib/python3.8/site-packages/latex_envs/static/doc/IEEEtran.bst -> /usr/local/share/jupyter/nbextensions/latex_envs/doc/IEEEtran.bst\r\n",
      "\u001b[32m[I 10:43:31 InstallContribNbextensionsApp]\u001b[m Copying: /usr/local/anaconda3/lib/python3.8/site-packages/latex_envs/static/doc/documentation.pdf -> /usr/local/share/jupyter/nbextensions/latex_envs/doc/documentation.pdf\r\n",
      "\u001b[32m[I 10:43:31 InstallContribNbextensionsApp]\u001b[m Copying: /usr/local/anaconda3/lib/python3.8/site-packages/latex_envs/static/doc/configuration_toolbar.png -> /usr/local/share/jupyter/nbextensions/latex_envs/doc/configuration_toolbar.png\r\n",
      "\u001b[32m[I 10:43:31 InstallContribNbextensionsApp]\u001b[m Copying: /usr/local/anaconda3/lib/python3.8/site-packages/latex_envs/static/doc/biblio_ipython.bib -> /usr/local/share/jupyter/nbextensions/latex_envs/doc/biblio_ipython.bib\r\n",
      "\u001b[32m[I 10:43:31 InstallContribNbextensionsApp]\u001b[m Copying: /usr/local/anaconda3/lib/python3.8/site-packages/latex_envs/static/doc/config_toolbar.png -> /usr/local/share/jupyter/nbextensions/latex_envs/doc/config_toolbar.png\r\n",
      "\u001b[32m[I 10:43:31 InstallContribNbextensionsApp]\u001b[m Copying: /usr/local/anaconda3/lib/python3.8/site-packages/latex_envs/static/doc/documentation.tex -> /usr/local/share/jupyter/nbextensions/latex_envs/doc/documentation.tex\r\n",
      "\u001b[32m[I 10:43:31 InstallContribNbextensionsApp]\u001b[m Copying: /usr/local/anaconda3/lib/python3.8/site-packages/latex_envs/static/doc/main_toolbar.png -> /usr/local/share/jupyter/nbextensions/latex_envs/doc/main_toolbar.png\r\n",
      "\u001b[32m[I 10:43:31 InstallContribNbextensionsApp]\u001b[m Copying: /usr/local/anaconda3/lib/python3.8/site-packages/latex_envs/static/doc/README.md -> /usr/local/share/jupyter/nbextensions/latex_envs/doc/README.md\r\n",
      "\u001b[32m[I 10:43:31 InstallContribNbextensionsApp]\u001b[m Copying: /usr/local/anaconda3/lib/python3.8/site-packages/latex_envs/static/doc/latex_env_doc.ipynb -> /usr/local/share/jupyter/nbextensions/latex_envs/doc/latex_env_doc.ipynb\r\n",
      "\u001b[32m[I 10:43:31 InstallContribNbextensionsApp]\u001b[m Copying: /usr/local/anaconda3/lib/python3.8/site-packages/latex_envs/static/doc/LaTeX_envs_menu.png -> /usr/local/share/jupyter/nbextensions/latex_envs/doc/LaTeX_envs_menu.png\r\n",
      "\u001b[32m[I 10:43:31 InstallContribNbextensionsApp]\u001b[m Copying: /usr/local/anaconda3/lib/python3.8/site-packages/latex_envs/static/doc/latex_env_doc.tex -> /usr/local/share/jupyter/nbextensions/latex_envs/doc/latex_env_doc.tex\r\n",
      "\u001b[32m[I 10:43:31 InstallContribNbextensionsApp]\u001b[m Copying: /usr/local/anaconda3/lib/python3.8/site-packages/latex_envs/static/doc/header.tex -> /usr/local/share/jupyter/nbextensions/latex_envs/doc/header.tex\r\n",
      "\u001b[32m[I 10:43:31 InstallContribNbextensionsApp]\u001b[m Copying: /usr/local/anaconda3/lib/python3.8/site-packages/latex_envs/static/doc/Toggles.png -> /usr/local/share/jupyter/nbextensions/latex_envs/doc/Toggles.png\r\n",
      "\u001b[32m[I 10:43:31 InstallContribNbextensionsApp]\u001b[m Copying: /usr/local/anaconda3/lib/python3.8/site-packages/latex_envs/static/doc/latex_env_doc.html -> /usr/local/share/jupyter/nbextensions/latex_envs/doc/latex_env_doc.html\r\n",
      "\u001b[32m[I 10:43:31 InstallContribNbextensionsApp]\u001b[m Copying: /usr/local/anaconda3/lib/python3.8/site-packages/latex_envs/static/doc/example.png -> /usr/local/share/jupyter/nbextensions/latex_envs/doc/example.png\r\n",
      "\u001b[32m[I 10:43:31 InstallContribNbextensionsApp]\u001b[m Making directory: /usr/local/share/jupyter/nbextensions/latex_envs/doc/.ipynb_checkpoints\r\n",
      "\u001b[32m[I 10:43:31 InstallContribNbextensionsApp]\u001b[m Copying: /usr/local/anaconda3/lib/python3.8/site-packages/latex_envs/static/doc/.ipynb_checkpoints/latex_env_doc-checkpoint.ipynb -> /usr/local/share/jupyter/nbextensions/latex_envs/doc/.ipynb_checkpoints/latex_env_doc-checkpoint.ipynb\r\n",
      "\u001b[32m[I 10:43:31 InstallContribNbextensionsApp]\u001b[m Making directory: /usr/local/share/jupyter/nbextensions/latex_envs/doc/latex_env_doc_files\r\n",
      "\u001b[32m[I 10:43:31 InstallContribNbextensionsApp]\u001b[m Copying: /usr/local/anaconda3/lib/python3.8/site-packages/latex_envs/static/doc/latex_env_doc_files/latex_env_doc_51_0.png -> /usr/local/share/jupyter/nbextensions/latex_envs/doc/latex_env_doc_files/latex_env_doc_51_0.png\r\n",
      "\u001b[32m[I 10:43:31 InstallContribNbextensionsApp]\u001b[m Copying: /usr/local/anaconda3/lib/python3.8/site-packages/latex_envs/static/doc/latex_env_doc_files/latex_env_doc_48_0.png -> /usr/local/share/jupyter/nbextensions/latex_envs/doc/latex_env_doc_files/latex_env_doc_48_0.png\r\n",
      "\u001b[32m[I 10:43:31 InstallContribNbextensionsApp]\u001b[m Copying: /usr/local/anaconda3/lib/python3.8/site-packages/latex_envs/static/doc/latex_env_doc_files/latex_env_doc_50_0.png -> /usr/local/share/jupyter/nbextensions/latex_envs/doc/latex_env_doc_files/latex_env_doc_50_0.png\r\n",
      "\u001b[32m[I 10:43:31 InstallContribNbextensionsApp]\u001b[m Copying: /usr/local/anaconda3/lib/python3.8/site-packages/latex_envs/static/doc/latex_env_doc_files/latex_env_doc_49_0.png -> /usr/local/share/jupyter/nbextensions/latex_envs/doc/latex_env_doc_files/latex_env_doc_49_0.png\r\n",
      "\u001b[32m[I 10:43:31 InstallContribNbextensionsApp]\u001b[m Copying: /usr/local/anaconda3/lib/python3.8/site-packages/latex_envs/static/doc/latex_env_doc_files/latex_env_doc_52_0.png -> /usr/local/share/jupyter/nbextensions/latex_envs/doc/latex_env_doc_files/latex_env_doc_52_0.png\r\n",
      "\u001b[32m[I 10:43:31 InstallContribNbextensionsApp]\u001b[m Copying: /usr/local/anaconda3/lib/python3.8/site-packages/latex_envs/static/doc/latex_env_doc_files/latex_env_doc_41_0.png -> /usr/local/share/jupyter/nbextensions/latex_envs/doc/latex_env_doc_files/latex_env_doc_41_0.png\r\n",
      "\u001b[32m[I 10:43:31 InstallContribNbextensionsApp]\u001b[m Copying: /usr/local/anaconda3/lib/python3.8/site-packages/latex_envs/static/doc/latex_env_doc_files/latex_env_doc_43_0.png -> /usr/local/share/jupyter/nbextensions/latex_envs/doc/latex_env_doc_files/latex_env_doc_43_0.png\r\n",
      "\u001b[32m[I 10:43:31 InstallContribNbextensionsApp]\u001b[m Copying: /usr/local/anaconda3/lib/python3.8/site-packages/latex_envs/static/doc/latex_env_doc_files/latex_env_doc_24_2.png -> /usr/local/share/jupyter/nbextensions/latex_envs/doc/latex_env_doc_files/latex_env_doc_24_2.png\r\n",
      "\u001b[32m[I 10:43:31 InstallContribNbextensionsApp]\u001b[m Copying: /usr/local/anaconda3/lib/python3.8/site-packages/latex_envs/static/doc/latex_env_doc_files/latex_env_doc_47_0.png -> /usr/local/share/jupyter/nbextensions/latex_envs/doc/latex_env_doc_files/latex_env_doc_47_0.png\r\n",
      "\u001b[32m[I 10:43:31 InstallContribNbextensionsApp]\u001b[m Copying: /usr/local/anaconda3/lib/python3.8/site-packages/latex_envs/static/doc/latex_env_doc_files/latex_env_doc_45_0.png -> /usr/local/share/jupyter/nbextensions/latex_envs/doc/latex_env_doc_files/latex_env_doc_45_0.png\r\n",
      "\u001b[32m[I 10:43:31 InstallContribNbextensionsApp]\u001b[m Copying: /usr/local/anaconda3/lib/python3.8/site-packages/latex_envs/static/doc/latex_env_doc_files/latex_env_doc_26_2.png -> /usr/local/share/jupyter/nbextensions/latex_envs/doc/latex_env_doc_files/latex_env_doc_26_2.png\r\n",
      "\u001b[32m[I 10:43:31 InstallContribNbextensionsApp]\u001b[m Copying: /usr/local/anaconda3/lib/python3.8/site-packages/latex_envs/static/doc/latex_env_doc_files/latex_env_doc_42_0.png -> /usr/local/share/jupyter/nbextensions/latex_envs/doc/latex_env_doc_files/latex_env_doc_42_0.png\r\n",
      "\u001b[32m[I 10:43:31 InstallContribNbextensionsApp]\u001b[m Copying: /usr/local/anaconda3/lib/python3.8/site-packages/latex_envs/static/doc/latex_env_doc_files/latex_env_doc_23_2.png -> /usr/local/share/jupyter/nbextensions/latex_envs/doc/latex_env_doc_files/latex_env_doc_23_2.png\r\n",
      "\u001b[32m[I 10:43:31 InstallContribNbextensionsApp]\u001b[m Copying: /usr/local/anaconda3/lib/python3.8/site-packages/latex_envs/static/doc/latex_env_doc_files/latex_env_doc_44_0.png -> /usr/local/share/jupyter/nbextensions/latex_envs/doc/latex_env_doc_files/latex_env_doc_44_0.png\r\n",
      "\u001b[32m[I 10:43:31 InstallContribNbextensionsApp]\u001b[m Copying: /usr/local/anaconda3/lib/python3.8/site-packages/latex_envs/static/doc/latex_env_doc_files/latex_env_doc_27_2.png -> /usr/local/share/jupyter/nbextensions/latex_envs/doc/latex_env_doc_files/latex_env_doc_27_2.png\r\n",
      "\u001b[32m[I 10:43:31 InstallContribNbextensionsApp]\u001b[m Copying: /usr/local/anaconda3/lib/python3.8/site-packages/latex_envs/static/doc/latex_env_doc_files/latex_env_doc_46_0.png -> /usr/local/share/jupyter/nbextensions/latex_envs/doc/latex_env_doc_files/latex_env_doc_46_0.png\r\n",
      "\u001b[32m[I 10:43:31 InstallContribNbextensionsApp]\u001b[m - Validating: \u001b[32mOK\u001b[0m\r\n",
      "\u001b[32m[I 10:43:31 InstallContribNbextensionsApp]\u001b[m Installing jupyter_contrib_nbextensions items to config in /usr/local/etc/jupyter\r\n",
      "Enabling: jupyter_nbextensions_configurator\r\n",
      "- Writing config: /usr/local/etc/jupyter\r\n",
      "    - Validating...\r\n",
      "      jupyter_nbextensions_configurator 0.4.1 \u001b[32mOK\u001b[0m\r\n",
      "Enabling notebook nbextension nbextensions_configurator/config_menu/main...\r\n",
      "Enabling tree nbextension nbextensions_configurator/tree_tab/main...\r\n",
      "\u001b[32m[I 10:43:31 InstallContribNbextensionsApp]\u001b[m Enabling notebook extension contrib_nbextensions_help_item/main...\r\n",
      "\u001b[32m[I 10:43:31 InstallContribNbextensionsApp]\u001b[m       - Validating: \u001b[32mOK\u001b[0m\r\n",
      "\u001b[32m[I 10:43:31 InstallContribNbextensionsApp]\u001b[m - Editing config: /usr/local/etc/jupyter/jupyter_nbconvert_config.json\r\n",
      "\u001b[32m[I 10:43:31 InstallContribNbextensionsApp]\u001b[m --  Configuring nbconvert template path\r\n",
      "\u001b[32m[I 10:43:31 InstallContribNbextensionsApp]\u001b[m --  Configuring nbconvert preprocessors\r\n",
      "\u001b[32m[I 10:43:31 InstallContribNbextensionsApp]\u001b[m - Writing config: /usr/local/etc/jupyter/jupyter_nbconvert_config.json\r\n",
      "\u001b[32m[I 10:43:31 InstallContribNbextensionsApp]\u001b[m --  Writing updated config file /usr/local/etc/jupyter/jupyter_nbconvert_config.json\r\n"
     ]
    }
   ],
   "source": [
    "!pip install jupyter_contrib_nbextensions && jupyter contrib nbextension install"
   ]
  },
  {
   "cell_type": "code",
   "execution_count": null,
   "metadata": {},
   "outputs": [],
   "source": []
  },
  {
   "cell_type": "code",
   "execution_count": null,
   "metadata": {},
   "outputs": [],
   "source": []
  },
  {
   "cell_type": "code",
   "execution_count": null,
   "metadata": {},
   "outputs": [],
   "source": []
  },
  {
   "cell_type": "code",
   "execution_count": null,
   "metadata": {},
   "outputs": [],
   "source": []
  },
  {
   "cell_type": "code",
   "execution_count": null,
   "metadata": {},
   "outputs": [],
   "source": []
  },
  {
   "cell_type": "code",
   "execution_count": null,
   "metadata": {},
   "outputs": [],
   "source": []
  },
  {
   "cell_type": "code",
   "execution_count": null,
   "metadata": {},
   "outputs": [],
   "source": []
  },
  {
   "cell_type": "code",
   "execution_count": null,
   "metadata": {},
   "outputs": [],
   "source": []
  },
  {
   "cell_type": "code",
   "execution_count": null,
   "metadata": {},
   "outputs": [],
   "source": []
  },
  {
   "cell_type": "code",
   "execution_count": null,
   "metadata": {},
   "outputs": [],
   "source": []
  },
  {
   "cell_type": "code",
   "execution_count": null,
   "metadata": {},
   "outputs": [],
   "source": []
  },
  {
   "cell_type": "code",
   "execution_count": 9,
   "metadata": {},
   "outputs": [],
   "source": [
    "import pandas as pd"
   ]
  },
  {
   "cell_type": "code",
   "execution_count": 12,
   "metadata": {},
   "outputs": [],
   "source": [
    "df=pd.read_csv(\"../datasets/melbourne_housing/melbourne.csv\")"
   ]
  },
  {
   "cell_type": "code",
   "execution_count": 15,
   "metadata": {
    "cell_style": "center",
    "scrolled": true
   },
   "outputs": [
    {
     "data": {
      "text/html": [
       "<div>\n",
       "<style scoped>\n",
       "    .dataframe tbody tr th:only-of-type {\n",
       "        vertical-align: middle;\n",
       "    }\n",
       "\n",
       "    .dataframe tbody tr th {\n",
       "        vertical-align: top;\n",
       "    }\n",
       "\n",
       "    .dataframe thead th {\n",
       "        text-align: right;\n",
       "    }\n",
       "</style>\n",
       "<table border=\"1\" class=\"dataframe\">\n",
       "  <thead>\n",
       "    <tr style=\"text-align: right;\">\n",
       "      <th></th>\n",
       "      <th>Suburb</th>\n",
       "      <th>Address</th>\n",
       "      <th>Rooms</th>\n",
       "      <th>Type</th>\n",
       "      <th>Price</th>\n",
       "      <th>Method</th>\n",
       "      <th>SellerG</th>\n",
       "      <th>Date</th>\n",
       "      <th>Distance</th>\n",
       "      <th>Postcode</th>\n",
       "      <th>...</th>\n",
       "      <th>Bathroom</th>\n",
       "      <th>Car</th>\n",
       "      <th>Landsize</th>\n",
       "      <th>BuildingArea</th>\n",
       "      <th>YearBuilt</th>\n",
       "      <th>CouncilArea</th>\n",
       "      <th>Lattitude</th>\n",
       "      <th>Longtitude</th>\n",
       "      <th>Regionname</th>\n",
       "      <th>Propertycount</th>\n",
       "    </tr>\n",
       "  </thead>\n",
       "  <tbody>\n",
       "    <tr>\n",
       "      <th>0</th>\n",
       "      <td>Abbotsford</td>\n",
       "      <td>68 Studley St</td>\n",
       "      <td>2</td>\n",
       "      <td>h</td>\n",
       "      <td>NaN</td>\n",
       "      <td>SS</td>\n",
       "      <td>Jellis</td>\n",
       "      <td>03-09-2016</td>\n",
       "      <td>2.5</td>\n",
       "      <td>3067.0</td>\n",
       "      <td>...</td>\n",
       "      <td>1.0</td>\n",
       "      <td>1.0</td>\n",
       "      <td>126.0</td>\n",
       "      <td>NaN</td>\n",
       "      <td>NaN</td>\n",
       "      <td>Yarra</td>\n",
       "      <td>-37.8014</td>\n",
       "      <td>144.9958</td>\n",
       "      <td>Northern Metropolitan</td>\n",
       "      <td>4019.0</td>\n",
       "    </tr>\n",
       "    <tr>\n",
       "      <th>1</th>\n",
       "      <td>Abbotsford</td>\n",
       "      <td>85 Turner St</td>\n",
       "      <td>2</td>\n",
       "      <td>h</td>\n",
       "      <td>1480000.0</td>\n",
       "      <td>S</td>\n",
       "      <td>Biggin</td>\n",
       "      <td>03-12-2016</td>\n",
       "      <td>2.5</td>\n",
       "      <td>3067.0</td>\n",
       "      <td>...</td>\n",
       "      <td>1.0</td>\n",
       "      <td>1.0</td>\n",
       "      <td>202.0</td>\n",
       "      <td>NaN</td>\n",
       "      <td>NaN</td>\n",
       "      <td>Yarra</td>\n",
       "      <td>-37.7996</td>\n",
       "      <td>144.9984</td>\n",
       "      <td>Northern Metropolitan</td>\n",
       "      <td>4019.0</td>\n",
       "    </tr>\n",
       "    <tr>\n",
       "      <th>2</th>\n",
       "      <td>Abbotsford</td>\n",
       "      <td>25 Bloomburg St</td>\n",
       "      <td>2</td>\n",
       "      <td>h</td>\n",
       "      <td>1035000.0</td>\n",
       "      <td>S</td>\n",
       "      <td>Biggin</td>\n",
       "      <td>04-02-2016</td>\n",
       "      <td>2.5</td>\n",
       "      <td>3067.0</td>\n",
       "      <td>...</td>\n",
       "      <td>1.0</td>\n",
       "      <td>0.0</td>\n",
       "      <td>156.0</td>\n",
       "      <td>79.0</td>\n",
       "      <td>1900.0</td>\n",
       "      <td>Yarra</td>\n",
       "      <td>-37.8079</td>\n",
       "      <td>144.9934</td>\n",
       "      <td>Northern Metropolitan</td>\n",
       "      <td>4019.0</td>\n",
       "    </tr>\n",
       "    <tr>\n",
       "      <th>3</th>\n",
       "      <td>Abbotsford</td>\n",
       "      <td>18/659 Victoria St</td>\n",
       "      <td>3</td>\n",
       "      <td>u</td>\n",
       "      <td>NaN</td>\n",
       "      <td>VB</td>\n",
       "      <td>Rounds</td>\n",
       "      <td>04-02-2016</td>\n",
       "      <td>2.5</td>\n",
       "      <td>3067.0</td>\n",
       "      <td>...</td>\n",
       "      <td>2.0</td>\n",
       "      <td>1.0</td>\n",
       "      <td>0.0</td>\n",
       "      <td>NaN</td>\n",
       "      <td>NaN</td>\n",
       "      <td>Yarra</td>\n",
       "      <td>-37.8114</td>\n",
       "      <td>145.0116</td>\n",
       "      <td>Northern Metropolitan</td>\n",
       "      <td>4019.0</td>\n",
       "    </tr>\n",
       "    <tr>\n",
       "      <th>4</th>\n",
       "      <td>Abbotsford</td>\n",
       "      <td>5 Charles St</td>\n",
       "      <td>3</td>\n",
       "      <td>h</td>\n",
       "      <td>1465000.0</td>\n",
       "      <td>SP</td>\n",
       "      <td>Biggin</td>\n",
       "      <td>04-03-2017</td>\n",
       "      <td>2.5</td>\n",
       "      <td>3067.0</td>\n",
       "      <td>...</td>\n",
       "      <td>2.0</td>\n",
       "      <td>0.0</td>\n",
       "      <td>134.0</td>\n",
       "      <td>150.0</td>\n",
       "      <td>1900.0</td>\n",
       "      <td>Yarra</td>\n",
       "      <td>-37.8093</td>\n",
       "      <td>144.9944</td>\n",
       "      <td>Northern Metropolitan</td>\n",
       "      <td>4019.0</td>\n",
       "    </tr>\n",
       "  </tbody>\n",
       "</table>\n",
       "<p>5 rows × 21 columns</p>\n",
       "</div>"
      ],
      "text/plain": [
       "       Suburb             Address  Rooms Type      Price Method SellerG  \\\n",
       "0  Abbotsford       68 Studley St      2    h        NaN     SS  Jellis   \n",
       "1  Abbotsford        85 Turner St      2    h  1480000.0      S  Biggin   \n",
       "2  Abbotsford     25 Bloomburg St      2    h  1035000.0      S  Biggin   \n",
       "3  Abbotsford  18/659 Victoria St      3    u        NaN     VB  Rounds   \n",
       "4  Abbotsford        5 Charles St      3    h  1465000.0     SP  Biggin   \n",
       "\n",
       "         Date  Distance  Postcode  ...  Bathroom  Car  Landsize  BuildingArea  \\\n",
       "0  03-09-2016       2.5    3067.0  ...       1.0  1.0     126.0           NaN   \n",
       "1  03-12-2016       2.5    3067.0  ...       1.0  1.0     202.0           NaN   \n",
       "2  04-02-2016       2.5    3067.0  ...       1.0  0.0     156.0          79.0   \n",
       "3  04-02-2016       2.5    3067.0  ...       2.0  1.0       0.0           NaN   \n",
       "4  04-03-2017       2.5    3067.0  ...       2.0  0.0     134.0         150.0   \n",
       "\n",
       "   YearBuilt  CouncilArea Lattitude  Longtitude             Regionname  \\\n",
       "0        NaN        Yarra  -37.8014    144.9958  Northern Metropolitan   \n",
       "1        NaN        Yarra  -37.7996    144.9984  Northern Metropolitan   \n",
       "2     1900.0        Yarra  -37.8079    144.9934  Northern Metropolitan   \n",
       "3        NaN        Yarra  -37.8114    145.0116  Northern Metropolitan   \n",
       "4     1900.0        Yarra  -37.8093    144.9944  Northern Metropolitan   \n",
       "\n",
       "  Propertycount  \n",
       "0        4019.0  \n",
       "1        4019.0  \n",
       "2        4019.0  \n",
       "3        4019.0  \n",
       "4        4019.0  \n",
       "\n",
       "[5 rows x 21 columns]"
      ]
     },
     "execution_count": 15,
     "metadata": {},
     "output_type": "execute_result"
    }
   ],
   "source": [
    "df.head()"
   ]
  },
  {
   "cell_type": "code",
   "execution_count": 13,
   "metadata": {
    "cell_style": "center",
    "scrolled": false
   },
   "outputs": [
    {
     "name": "stdout",
     "output_type": "stream",
     "text": [
      "<class 'pandas.core.frame.DataFrame'>\n",
      "RangeIndex: 23547 entries, 0 to 23546\n",
      "Data columns (total 21 columns):\n",
      " #   Column         Non-Null Count  Dtype  \n",
      "---  ------         --------------  -----  \n",
      " 0   Suburb         23547 non-null  object \n",
      " 1   Address        23547 non-null  object \n",
      " 2   Rooms          23547 non-null  int64  \n",
      " 3   Type           23547 non-null  object \n",
      " 4   Price          18396 non-null  float64\n",
      " 5   Method         23547 non-null  object \n",
      " 6   SellerG        23547 non-null  object \n",
      " 7   Date           23547 non-null  object \n",
      " 8   Distance       23546 non-null  float64\n",
      " 9   Postcode       23546 non-null  float64\n",
      " 10  Bedroom2       19066 non-null  float64\n",
      " 11  Bathroom       19063 non-null  float64\n",
      " 12  Car            18921 non-null  float64\n",
      " 13  Landsize       17410 non-null  float64\n",
      " 14  BuildingArea   10018 non-null  float64\n",
      " 15  YearBuilt      11540 non-null  float64\n",
      " 16  CouncilArea    15656 non-null  object \n",
      " 17  Lattitude      19243 non-null  float64\n",
      " 18  Longtitude     19243 non-null  float64\n",
      " 19  Regionname     23546 non-null  object \n",
      " 20  Propertycount  23546 non-null  float64\n",
      "dtypes: float64(12), int64(1), object(8)\n",
      "memory usage: 3.8+ MB\n"
     ]
    }
   ],
   "source": [
    "df.info()"
   ]
  },
  {
   "cell_type": "code",
   "execution_count": 7,
   "metadata": {},
   "outputs": [],
   "source": [
    "df = df.dropna()"
   ]
  },
  {
   "cell_type": "code",
   "execution_count": 8,
   "metadata": {},
   "outputs": [
    {
     "data": {
      "text/plain": [
       "(6196, 21)"
      ]
     },
     "execution_count": 8,
     "metadata": {},
     "output_type": "execute_result"
    }
   ],
   "source": [
    "df.shape"
   ]
  },
  {
   "cell_type": "code",
   "execution_count": null,
   "metadata": {},
   "outputs": [],
   "source": []
  },
  {
   "cell_type": "code",
   "execution_count": null,
   "metadata": {},
   "outputs": [],
   "source": []
  },
  {
   "cell_type": "code",
   "execution_count": null,
   "metadata": {},
   "outputs": [],
   "source": []
  },
  {
   "cell_type": "code",
   "execution_count": null,
   "metadata": {},
   "outputs": [],
   "source": []
  },
  {
   "cell_type": "code",
   "execution_count": null,
   "metadata": {},
   "outputs": [],
   "source": []
  },
  {
   "cell_type": "code",
   "execution_count": null,
   "metadata": {},
   "outputs": [],
   "source": []
  },
  {
   "cell_type": "code",
   "execution_count": null,
   "metadata": {},
   "outputs": [],
   "source": []
  },
  {
   "cell_type": "code",
   "execution_count": null,
   "metadata": {},
   "outputs": [],
   "source": []
  },
  {
   "cell_type": "code",
   "execution_count": null,
   "metadata": {},
   "outputs": [],
   "source": []
  },
  {
   "cell_type": "code",
   "execution_count": null,
   "metadata": {},
   "outputs": [],
   "source": [
    "x = np.random.randn(10000)  # example data, random normal distribution\n",
    "num_bins = 50\n",
    "n, bins, patches = plt.hist(x, num_bins, normed=1, facecolor=\"green\", alpha=0.5)\n",
    "plt.xlabel(r\"Description of $x$ coordinate (units)\")\n",
    "plt.ylabel(r\"Description of $y$ coordinate (units)\")\n",
    "plt.title(r\"Histogram title here (remove for papers)\")\n",
    "plt.show();"
   ]
  },
  {
   "cell_type": "code",
   "execution_count": null,
   "metadata": {},
   "outputs": [],
   "source": []
  },
  {
   "cell_type": "code",
   "execution_count": null,
   "metadata": {},
   "outputs": [],
   "source": []
  },
  {
   "cell_type": "code",
   "execution_count": 21,
   "metadata": {},
   "outputs": [
    {
     "data": {
      "text/html": [
       "\n",
       "        <iframe\n",
       "            width=\"800\"\n",
       "            height=\"450\"\n",
       "            src=\"https://en.wikipedia.org/wiki/HTTPS\"\n",
       "            frameborder=\"0\"\n",
       "            allowfullscreen\n",
       "        ></iframe>\n",
       "        "
      ],
      "text/plain": [
       "<IPython.lib.display.IFrame at 0x7ff9d8bc3160>"
      ]
     },
     "execution_count": 21,
     "metadata": {},
     "output_type": "execute_result"
    }
   ],
   "source": [
    "from IPython.display import IFrame\n",
    "IFrame('https://en.wikipedia.org/wiki/HTTPS', width=800, height=450)"
   ]
  },
  {
   "cell_type": "code",
   "execution_count": 18,
   "metadata": {},
   "outputs": [
    {
     "data": {
      "text/html": [
       "\n",
       "        <iframe\n",
       "            width=\"800\"\n",
       "            height=\"450\"\n",
       "            src=\"https://arxiv.org/pdf/1406.2661.pdf\"\n",
       "            frameborder=\"0\"\n",
       "            allowfullscreen\n",
       "        ></iframe>\n",
       "        "
      ],
      "text/plain": [
       "<IPython.lib.display.IFrame at 0x7ff9ca039460>"
      ]
     },
     "execution_count": 18,
     "metadata": {},
     "output_type": "execute_result"
    }
   ],
   "source": [
    "from IPython.display import IFrame\n",
    "IFrame('https://arxiv.org/pdf/1406.2661.pdf', width=800, height=450)"
   ]
  },
  {
   "cell_type": "code",
   "execution_count": 19,
   "metadata": {},
   "outputs": [
    {
     "data": {
      "image/jpeg": "[encoded data removed]",
      "text/html": [
       "\n",
       "        <iframe\n",
       "            width=\"800\"\n",
       "            height=\"300\"\n",
       "            src=\"https://www.youtube.com/embed/mJeNghZXtMo\"\n",
       "            frameborder=\"0\"\n",
       "            allowfullscreen\n",
       "        ></iframe>\n",
       "        "
      ],
      "text/plain": [
       "<IPython.lib.display.YouTubeVideo at 0x7ff9ca039b50>"
      ]
     },
     "execution_count": 19,
     "metadata": {},
     "output_type": "execute_result"
    }
   ],
   "source": [
    "from IPython.display import YouTubeVideo\n",
    "YouTubeVideo('mJeNghZXtMo', width=800, height=300)"
   ]
  },
  {
   "cell_type": "code",
   "execution_count": 22,
   "metadata": {},
   "outputs": [],
   "source": [
    "a=2"
   ]
  },
  {
   "cell_type": "code",
   "execution_count": 23,
   "metadata": {},
   "outputs": [],
   "source": [
    "b=3"
   ]
  },
  {
   "cell_type": "code",
   "execution_count": 24,
   "metadata": {},
   "outputs": [
    {
     "data": {
      "text/plain": [
       "5"
      ]
     },
     "execution_count": 24,
     "metadata": {},
     "output_type": "execute_result"
    }
   ],
   "source": [
    "a+b"
   ]
  },
  {
   "cell_type": "code",
   "execution_count": 25,
   "metadata": {},
   "outputs": [
    {
     "name": "stdout",
     "output_type": "stream",
     "text": [
      "jupyter_themes_plugins.ipynb sample.ipynb\r\n",
      "pandas_advanced.ipynb\r\n"
     ]
    }
   ],
   "source": [
    "!ls"
   ]
  },
  {
   "cell_type": "code",
   "execution_count": 26,
   "metadata": {},
   "outputs": [
    {
     "name": "stdout",
     "output_type": "stream",
     "text": [
      "Requirement already satisfied: pandas in /usr/local/anaconda3/lib/python3.8/site-packages (1.2.3)\r\n",
      "Requirement already satisfied: numpy>=1.16.5 in /usr/local/anaconda3/lib/python3.8/site-packages (from pandas) (1.19.5)\r\n",
      "Requirement already satisfied: pytz>=2017.3 in /usr/local/anaconda3/lib/python3.8/site-packages (from pandas) (2020.1)\r\n",
      "Requirement already satisfied: python-dateutil>=2.7.3 in /usr/local/anaconda3/lib/python3.8/site-packages (from pandas) (2.8.1)\r\n",
      "Requirement already satisfied: six>=1.5 in /usr/local/anaconda3/lib/python3.8/site-packages (from python-dateutil>=2.7.3->pandas) (1.15.0)\r\n"
     ]
    }
   ],
   "source": [
    "!pip install pandas"
   ]
  },
  {
   "cell_type": "code",
   "execution_count": null,
   "metadata": {},
   "outputs": [],
   "source": []
  }
 ],
 "metadata": {
  "hide_input": false,
  "kernelspec": {
   "display_name": "Python 3",
   "language": "python",
   "name": "python3"
  },
  "language_info": {
   "codemirror_mode": {
    "name": "ipython",
    "version": 3
   },
   "file_extension": ".py",
   "mimetype": "text/x-python",
   "name": "python",
   "nbconvert_exporter": "python",
   "pygments_lexer": "ipython3",
   "version": "3.8.3"
  },
  "nbTranslate": {
   "displayLangs": [
    "*"
   ],
   "hotkey": "alt-t",
   "langInMainMenu": true,
   "sourceLang": "en",
   "targetLang": "fr",
   "useGoogleTranslate": true
  },
  "toc": {
   "base_numbering": 1,
   "nav_menu": {},
   "number_sections": true,
   "sideBar": true,
   "skip_h1_title": false,
   "title_cell": "Table of Contents",
   "title_sidebar": "Contents",
   "toc_cell": true,
   "toc_position": {},
   "toc_section_display": true,
   "toc_window_display": false
  },
  "varInspector": {
   "cols": {
    "lenName": 16,
    "lenType": 16,
    "lenVar": 40
   },
   "kernels_config": {
    "python": {
     "delete_cmd_postfix": "",
     "delete_cmd_prefix": "del ",
     "library": "var_list.py",
     "varRefreshCmd": "print(var_dic_list())"
    },
    "r": {
     "delete_cmd_postfix": ") ",
     "delete_cmd_prefix": "rm(",
     "library": "var_list.r",
     "varRefreshCmd": "cat(var_dic_list()) "
    }
   },
   "types_to_exclude": [
    "module",
    "function",
    "builtin_function_or_method",
    "instance",
    "_Feature"
   ],
   "window_display": false
  }
 },
 "nbformat": 4,
 "nbformat_minor": 4
}
