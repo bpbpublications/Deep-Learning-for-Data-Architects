{
 "cells": [
  {
   "cell_type": "markdown",
   "metadata": {
    "toc": true
   },
   "source": [
    "<h1>Table of Contents<span class=\"tocSkip\"></span></h1>\n",
    "<div class=\"toc\"><ul class=\"toc-item\"><li><span><a href=\"#LUX\" data-toc-modified-id=\"LUX-1\"><span class=\"toc-item-num\">1&nbsp;&nbsp;</span>LUX</a></span></li></ul></div>"
   ]
  },
  {
   "cell_type": "markdown",
   "metadata": {},
   "source": [
    "# LUX"
   ]
  },
  {
   "cell_type": "code",
   "execution_count": 51,
   "metadata": {},
   "outputs": [
    {
     "name": "stdout",
     "output_type": "stream",
     "text": [
      "Collecting lux-api\n",
      "  Downloading lux-api-0.2.3.tar.gz (94 kB)\n",
      "\u001b[K     |████████████████████████████████| 94 kB 1.3 MB/s eta 0:00:01\n",
      "\u001b[?25hRequirement already satisfied, skipping upgrade: scipy>=1.3.3 in /usr/local/anaconda3/lib/python3.8/site-packages (from lux-api) (1.5.0)\n",
      "Collecting altair>=4.0.0\n",
      "  Downloading altair-4.1.0-py3-none-any.whl (727 kB)\n",
      "\u001b[K     |████████████████████████████████| 727 kB 1.8 MB/s eta 0:00:01\n",
      "\u001b[?25hRequirement already satisfied, skipping upgrade: numpy>=1.16.5 in /usr/local/anaconda3/lib/python3.8/site-packages (from lux-api) (1.19.5)\n",
      "Requirement already satisfied, skipping upgrade: pandas>=1.1.0 in /usr/local/anaconda3/lib/python3.8/site-packages (from lux-api) (1.2.3)\n",
      "Requirement already satisfied, skipping upgrade: scikit-learn>=0.22 in /usr/local/anaconda3/lib/python3.8/site-packages (from lux-api) (0.24.1)\n",
      "Requirement already satisfied, skipping upgrade: matplotlib>=3.0.0 in /usr/local/anaconda3/lib/python3.8/site-packages (from lux-api) (3.3.4)\n",
      "Collecting lux-widget>=0.1.4\n",
      "  Downloading lux-widget-0.1.4.tar.gz (2.1 MB)\n",
      "\u001b[K     |████████████████████████████████| 2.1 MB 2.4 MB/s eta 0:00:01\n",
      "\u001b[?25hRequirement already satisfied, skipping upgrade: entrypoints in /usr/local/anaconda3/lib/python3.8/site-packages (from altair>=4.0.0->lux-api) (0.3)\n",
      "Requirement already satisfied, skipping upgrade: jinja2 in /usr/local/anaconda3/lib/python3.8/site-packages (from altair>=4.0.0->lux-api) (2.11.2)\n",
      "Requirement already satisfied, skipping upgrade: jsonschema in /usr/local/anaconda3/lib/python3.8/site-packages (from altair>=4.0.0->lux-api) (3.2.0)\n",
      "Requirement already satisfied, skipping upgrade: toolz in /usr/local/anaconda3/lib/python3.8/site-packages (from altair>=4.0.0->lux-api) (0.10.0)\n",
      "Requirement already satisfied, skipping upgrade: pytz>=2017.3 in /usr/local/anaconda3/lib/python3.8/site-packages (from pandas>=1.1.0->lux-api) (2020.1)\n",
      "Requirement already satisfied, skipping upgrade: python-dateutil>=2.7.3 in /usr/local/anaconda3/lib/python3.8/site-packages (from pandas>=1.1.0->lux-api) (2.8.1)\n",
      "Requirement already satisfied, skipping upgrade: joblib>=0.11 in /usr/local/anaconda3/lib/python3.8/site-packages (from scikit-learn>=0.22->lux-api) (0.16.0)\n",
      "Requirement already satisfied, skipping upgrade: threadpoolctl>=2.0.0 in /usr/local/anaconda3/lib/python3.8/site-packages (from scikit-learn>=0.22->lux-api) (2.1.0)\n",
      "Requirement already satisfied, skipping upgrade: cycler>=0.10 in /usr/local/anaconda3/lib/python3.8/site-packages (from matplotlib>=3.0.0->lux-api) (0.10.0)\n",
      "Requirement already satisfied, skipping upgrade: pillow>=6.2.0 in /usr/local/anaconda3/lib/python3.8/site-packages (from matplotlib>=3.0.0->lux-api) (7.2.0)\n",
      "Requirement already satisfied, skipping upgrade: kiwisolver>=1.0.1 in /usr/local/anaconda3/lib/python3.8/site-packages (from matplotlib>=3.0.0->lux-api) (1.2.0)\n",
      "Requirement already satisfied, skipping upgrade: pyparsing!=2.0.4,!=2.1.2,!=2.1.6,>=2.0.3 in /usr/local/anaconda3/lib/python3.8/site-packages (from matplotlib>=3.0.0->lux-api) (2.4.7)\n",
      "Requirement already satisfied, skipping upgrade: jupyter in /usr/local/anaconda3/lib/python3.8/site-packages (from lux-widget>=0.1.4->lux-api) (1.0.0)\n",
      "Requirement already satisfied, skipping upgrade: notebook>=4.0.0 in /usr/local/anaconda3/lib/python3.8/site-packages (from lux-widget>=0.1.4->lux-api) (6.0.3)\n",
      "Requirement already satisfied, skipping upgrade: ipywidgets>=7.5.0 in /usr/local/anaconda3/lib/python3.8/site-packages (from lux-widget>=0.1.4->lux-api) (7.5.1)\n",
      "Requirement already satisfied, skipping upgrade: MarkupSafe>=0.23 in /usr/local/anaconda3/lib/python3.8/site-packages (from jinja2->altair>=4.0.0->lux-api) (1.1.1)\n",
      "Requirement already satisfied, skipping upgrade: six>=1.11.0 in /usr/local/anaconda3/lib/python3.8/site-packages (from jsonschema->altair>=4.0.0->lux-api) (1.15.0)\n",
      "Requirement already satisfied, skipping upgrade: setuptools in /usr/local/anaconda3/lib/python3.8/site-packages (from jsonschema->altair>=4.0.0->lux-api) (49.2.0.post20200714)\n",
      "Requirement already satisfied, skipping upgrade: pyrsistent>=0.14.0 in /usr/local/anaconda3/lib/python3.8/site-packages (from jsonschema->altair>=4.0.0->lux-api) (0.16.0)\n",
      "Requirement already satisfied, skipping upgrade: attrs>=17.4.0 in /usr/local/anaconda3/lib/python3.8/site-packages (from jsonschema->altair>=4.0.0->lux-api) (19.3.0)\n",
      "Requirement already satisfied, skipping upgrade: nbconvert in /usr/local/anaconda3/lib/python3.8/site-packages (from jupyter->lux-widget>=0.1.4->lux-api) (5.6.1)\n",
      "Requirement already satisfied, skipping upgrade: qtconsole in /usr/local/anaconda3/lib/python3.8/site-packages (from jupyter->lux-widget>=0.1.4->lux-api) (4.7.5)\n",
      "Requirement already satisfied, skipping upgrade: jupyter-console in /usr/local/anaconda3/lib/python3.8/site-packages (from jupyter->lux-widget>=0.1.4->lux-api) (6.1.0)\n",
      "Requirement already satisfied, skipping upgrade: ipykernel in /usr/local/anaconda3/lib/python3.8/site-packages (from jupyter->lux-widget>=0.1.4->lux-api) (5.3.2)\n",
      "Requirement already satisfied, skipping upgrade: traitlets>=4.2.1 in /usr/local/anaconda3/lib/python3.8/site-packages (from notebook>=4.0.0->lux-widget>=0.1.4->lux-api) (4.3.3)\n",
      "Requirement already satisfied, skipping upgrade: pyzmq>=17 in /usr/local/anaconda3/lib/python3.8/site-packages (from notebook>=4.0.0->lux-widget>=0.1.4->lux-api) (19.0.1)\n",
      "Requirement already satisfied, skipping upgrade: jupyter-client>=5.3.4 in /usr/local/anaconda3/lib/python3.8/site-packages (from notebook>=4.0.0->lux-widget>=0.1.4->lux-api) (6.1.6)\n",
      "Requirement already satisfied, skipping upgrade: ipython-genutils in /usr/local/anaconda3/lib/python3.8/site-packages (from notebook>=4.0.0->lux-widget>=0.1.4->lux-api) (0.2.0)\n",
      "Requirement already satisfied, skipping upgrade: nbformat in /usr/local/anaconda3/lib/python3.8/site-packages (from notebook>=4.0.0->lux-widget>=0.1.4->lux-api) (5.0.7)\n",
      "Requirement already satisfied, skipping upgrade: jupyter-core>=4.6.1 in /usr/local/anaconda3/lib/python3.8/site-packages (from notebook>=4.0.0->lux-widget>=0.1.4->lux-api) (4.6.3)\n",
      "Requirement already satisfied, skipping upgrade: Send2Trash in /usr/local/anaconda3/lib/python3.8/site-packages (from notebook>=4.0.0->lux-widget>=0.1.4->lux-api) (1.5.0)\n",
      "Requirement already satisfied, skipping upgrade: tornado>=5.0 in /usr/local/anaconda3/lib/python3.8/site-packages (from notebook>=4.0.0->lux-widget>=0.1.4->lux-api) (6.0.4)\n",
      "Requirement already satisfied, skipping upgrade: prometheus-client in /usr/local/anaconda3/lib/python3.8/site-packages (from notebook>=4.0.0->lux-widget>=0.1.4->lux-api) (0.8.0)\n",
      "Requirement already satisfied, skipping upgrade: terminado>=0.8.1 in /usr/local/anaconda3/lib/python3.8/site-packages (from notebook>=4.0.0->lux-widget>=0.1.4->lux-api) (0.8.3)\n",
      "Requirement already satisfied, skipping upgrade: ipython>=4.0.0; python_version >= \"3.3\" in /usr/local/anaconda3/lib/python3.8/site-packages (from ipywidgets>=7.5.0->lux-widget>=0.1.4->lux-api) (7.16.1)\n",
      "Requirement already satisfied, skipping upgrade: widgetsnbextension~=3.5.0 in /usr/local/anaconda3/lib/python3.8/site-packages (from ipywidgets>=7.5.0->lux-widget>=0.1.4->lux-api) (3.5.1)\n",
      "Requirement already satisfied, skipping upgrade: testpath in /usr/local/anaconda3/lib/python3.8/site-packages (from nbconvert->jupyter->lux-widget>=0.1.4->lux-api) (0.4.4)\n",
      "Requirement already satisfied, skipping upgrade: pandocfilters>=1.4.1 in /usr/local/anaconda3/lib/python3.8/site-packages (from nbconvert->jupyter->lux-widget>=0.1.4->lux-api) (1.4.2)\n",
      "Requirement already satisfied, skipping upgrade: pygments in /usr/local/anaconda3/lib/python3.8/site-packages (from nbconvert->jupyter->lux-widget>=0.1.4->lux-api) (2.6.1)\n",
      "Requirement already satisfied, skipping upgrade: mistune<2,>=0.8.1 in /usr/local/anaconda3/lib/python3.8/site-packages (from nbconvert->jupyter->lux-widget>=0.1.4->lux-api) (0.8.4)\n",
      "Requirement already satisfied, skipping upgrade: defusedxml in /usr/local/anaconda3/lib/python3.8/site-packages (from nbconvert->jupyter->lux-widget>=0.1.4->lux-api) (0.6.0)\n",
      "Requirement already satisfied, skipping upgrade: bleach in /usr/local/anaconda3/lib/python3.8/site-packages (from nbconvert->jupyter->lux-widget>=0.1.4->lux-api) (3.1.5)\n",
      "Requirement already satisfied, skipping upgrade: qtpy in /usr/local/anaconda3/lib/python3.8/site-packages (from qtconsole->jupyter->lux-widget>=0.1.4->lux-api) (1.9.0)\n",
      "Requirement already satisfied, skipping upgrade: prompt-toolkit!=3.0.0,!=3.0.1,<3.1.0,>=2.0.0 in /usr/local/anaconda3/lib/python3.8/site-packages (from jupyter-console->jupyter->lux-widget>=0.1.4->lux-api) (3.0.5)\n",
      "Requirement already satisfied, skipping upgrade: appnope; platform_system == \"Darwin\" in /usr/local/anaconda3/lib/python3.8/site-packages (from ipykernel->jupyter->lux-widget>=0.1.4->lux-api) (0.1.0)\n",
      "Requirement already satisfied, skipping upgrade: decorator in /usr/local/anaconda3/lib/python3.8/site-packages (from traitlets>=4.2.1->notebook>=4.0.0->lux-widget>=0.1.4->lux-api) (4.4.2)\n",
      "Requirement already satisfied, skipping upgrade: jedi>=0.10 in /usr/local/anaconda3/lib/python3.8/site-packages (from ipython>=4.0.0; python_version >= \"3.3\"->ipywidgets>=7.5.0->lux-widget>=0.1.4->lux-api) (0.17.1)\n",
      "Requirement already satisfied, skipping upgrade: pickleshare in /usr/local/anaconda3/lib/python3.8/site-packages (from ipython>=4.0.0; python_version >= \"3.3\"->ipywidgets>=7.5.0->lux-widget>=0.1.4->lux-api) (0.7.5)\n",
      "Requirement already satisfied, skipping upgrade: pexpect; sys_platform != \"win32\" in /usr/local/anaconda3/lib/python3.8/site-packages (from ipython>=4.0.0; python_version >= \"3.3\"->ipywidgets>=7.5.0->lux-widget>=0.1.4->lux-api) (4.8.0)\n",
      "Requirement already satisfied, skipping upgrade: backcall in /usr/local/anaconda3/lib/python3.8/site-packages (from ipython>=4.0.0; python_version >= \"3.3\"->ipywidgets>=7.5.0->lux-widget>=0.1.4->lux-api) (0.2.0)\n",
      "Requirement already satisfied, skipping upgrade: packaging in /usr/local/anaconda3/lib/python3.8/site-packages (from bleach->nbconvert->jupyter->lux-widget>=0.1.4->lux-api) (20.4)\n"
     ]
    },
    {
     "name": "stdout",
     "output_type": "stream",
     "text": [
      "Requirement already satisfied, skipping upgrade: webencodings in /usr/local/anaconda3/lib/python3.8/site-packages (from bleach->nbconvert->jupyter->lux-widget>=0.1.4->lux-api) (0.5.1)\n",
      "Requirement already satisfied, skipping upgrade: wcwidth in /usr/local/anaconda3/lib/python3.8/site-packages (from prompt-toolkit!=3.0.0,!=3.0.1,<3.1.0,>=2.0.0->jupyter-console->jupyter->lux-widget>=0.1.4->lux-api) (0.2.5)\n",
      "Requirement already satisfied, skipping upgrade: parso<0.8.0,>=0.7.0 in /usr/local/anaconda3/lib/python3.8/site-packages (from jedi>=0.10->ipython>=4.0.0; python_version >= \"3.3\"->ipywidgets>=7.5.0->lux-widget>=0.1.4->lux-api) (0.7.0)\n",
      "Requirement already satisfied, skipping upgrade: ptyprocess>=0.5 in /usr/local/anaconda3/lib/python3.8/site-packages (from pexpect; sys_platform != \"win32\"->ipython>=4.0.0; python_version >= \"3.3\"->ipywidgets>=7.5.0->lux-widget>=0.1.4->lux-api) (0.6.0)\n",
      "Building wheels for collected packages: lux-api, lux-widget\n",
      "  Building wheel for lux-api (setup.py) ... \u001b[?25ldone\n",
      "\u001b[?25h  Created wheel for lux-api: filename=lux_api-0.2.3-py3-none-any.whl size=146693 sha256=6eac592f15820f3f2460c117f39678797cd2d00086f4fb591a266e85e2045d84\n",
      "  Stored in directory: /Users/shekharkhandelwal/Library/Caches/pip/wheels/ea/93/4b/686afa536d15cb93b739f0de1940b9d8a3a87341e29bc7d196\n",
      "  Building wheel for lux-widget (setup.py) ... \u001b[?25ldone\n",
      "\u001b[?25h  Created wheel for lux-widget: filename=lux_widget-0.1.4-py3-none-any.whl size=4294795 sha256=0e89e23ee544661c2847ea8adf3e01fbe166009b9523f65d8aa7b26ae992ee1d\n",
      "  Stored in directory: /Users/shekharkhandelwal/Library/Caches/pip/wheels/59/83/e9/ea3f58a20aaa967497d192746007f9afc64ef95838f851ade8\n",
      "Successfully built lux-api lux-widget\n",
      "Installing collected packages: altair, lux-widget, lux-api\n",
      "Successfully installed altair-4.1.0 lux-api-0.2.3 lux-widget-0.1.4\n"
     ]
    }
   ],
   "source": [
    "import sys\n",
    "!{sys.executable} -m pip install -U lux-api"
   ]
  },
  {
   "cell_type": "code",
   "execution_count": 55,
   "metadata": {},
   "outputs": [
    {
     "name": "stdout",
     "output_type": "stream",
     "text": [
      "Installing /usr/local/anaconda3/lib/python3.8/site-packages/luxwidget/nbextension/static -> luxwidget\n",
      "Making directory: /usr/local/share/jupyter/nbextensions/luxwidget/\n",
      "Copying: /usr/local/anaconda3/lib/python3.8/site-packages/luxwidget/nbextension/static/index.js -> /usr/local/share/jupyter/nbextensions/luxwidget/index.js\n",
      "Copying: /usr/local/anaconda3/lib/python3.8/site-packages/luxwidget/nbextension/static/index.js.map -> /usr/local/share/jupyter/nbextensions/luxwidget/index.js.map\n",
      "Copying: /usr/local/anaconda3/lib/python3.8/site-packages/luxwidget/nbextension/static/extension.js -> /usr/local/share/jupyter/nbextensions/luxwidget/extension.js\n",
      "- Validating: \u001b[32mOK\u001b[0m\n",
      "\n",
      "    To initialize this nbextension in the browser every time the notebook (or other app) loads:\n",
      "    \n",
      "          jupyter nbextension enable luxwidget --py\n",
      "    \n",
      "Enabling notebook extension luxwidget/extension...\n",
      "      - Validating: \u001b[32mOK\u001b[0m\n"
     ]
    }
   ],
   "source": [
    "!jupyter nbextension install --py luxwidget\n",
    "!jupyter nbextension enable --py luxwidget"
   ]
  },
  {
   "cell_type": "code",
   "execution_count": 52,
   "metadata": {},
   "outputs": [],
   "source": [
    "import lux"
   ]
  },
  {
   "cell_type": "code",
   "execution_count": 61,
   "metadata": {
    "scrolled": true
   },
   "outputs": [
    {
     "data": {
      "application/vnd.jupyter.widget-view+json": {
       "model_id": "96d92ebce7ad48d4b4127eca1e5d2652",
       "version_major": 2,
       "version_minor": 0
      },
      "text/plain": [
       "Button(description='Toggle Pandas/Lux', layout=Layout(top='5px', width='140px'), style=ButtonStyle())"
      ]
     },
     "metadata": {},
     "output_type": "display_data"
    },
    {
     "data": {
      "application/vnd.jupyter.widget-view+json": {
       "model_id": "179265dd66a3406ca61dc5e89ea886f0",
       "version_major": 2,
       "version_minor": 0
      },
      "text/plain": [
       "Output()"
      ]
     },
     "metadata": {},
     "output_type": "display_data"
    },
    {
     "data": {
      "text/plain": []
     },
     "execution_count": 61,
     "metadata": {},
     "output_type": "execute_result"
    }
   ],
   "source": [
    "df.head()"
   ]
  },
  {
   "cell_type": "code",
   "execution_count": 62,
   "metadata": {
    "scrolled": true
   },
   "outputs": [
    {
     "data": {
      "text/html": [
       "<div>\n",
       "<style scoped>\n",
       "    .dataframe tbody tr th:only-of-type {\n",
       "        vertical-align: middle;\n",
       "    }\n",
       "\n",
       "    .dataframe tbody tr th {\n",
       "        vertical-align: top;\n",
       "    }\n",
       "\n",
       "    .dataframe thead th {\n",
       "        text-align: right;\n",
       "    }\n",
       "</style>\n",
       "<table border=\"1\" class=\"dataframe\">\n",
       "  <thead>\n",
       "    <tr style=\"text-align: right;\">\n",
       "      <th></th>\n",
       "      <th>Suburb</th>\n",
       "      <th>Address</th>\n",
       "      <th>Rooms</th>\n",
       "      <th>Type</th>\n",
       "      <th>Price</th>\n",
       "      <th>Method</th>\n",
       "      <th>SellerG</th>\n",
       "      <th>Date</th>\n",
       "      <th>Distance</th>\n",
       "      <th>Postcode</th>\n",
       "      <th>...</th>\n",
       "      <th>Bathroom</th>\n",
       "      <th>Car</th>\n",
       "      <th>Landsize</th>\n",
       "      <th>BuildingArea</th>\n",
       "      <th>YearBuilt</th>\n",
       "      <th>CouncilArea</th>\n",
       "      <th>Lattitude</th>\n",
       "      <th>Longtitude</th>\n",
       "      <th>Regionname</th>\n",
       "      <th>Propertycount</th>\n",
       "    </tr>\n",
       "  </thead>\n",
       "  <tbody>\n",
       "    <tr>\n",
       "      <th>0</th>\n",
       "      <td>Abbotsford</td>\n",
       "      <td>68 Studley St</td>\n",
       "      <td>2</td>\n",
       "      <td>h</td>\n",
       "      <td>NaN</td>\n",
       "      <td>SS</td>\n",
       "      <td>Jellis</td>\n",
       "      <td>03-09-2016</td>\n",
       "      <td>2.5</td>\n",
       "      <td>3067.0</td>\n",
       "      <td>...</td>\n",
       "      <td>1.0</td>\n",
       "      <td>1.0</td>\n",
       "      <td>126.0</td>\n",
       "      <td>NaN</td>\n",
       "      <td>NaN</td>\n",
       "      <td>Yarra</td>\n",
       "      <td>-37.80140</td>\n",
       "      <td>144.99580</td>\n",
       "      <td>Northern Metropolitan</td>\n",
       "      <td>4019.0</td>\n",
       "    </tr>\n",
       "    <tr>\n",
       "      <th>1</th>\n",
       "      <td>Abbotsford</td>\n",
       "      <td>85 Turner St</td>\n",
       "      <td>2</td>\n",
       "      <td>h</td>\n",
       "      <td>1480000.0</td>\n",
       "      <td>S</td>\n",
       "      <td>Biggin</td>\n",
       "      <td>03-12-2016</td>\n",
       "      <td>2.5</td>\n",
       "      <td>3067.0</td>\n",
       "      <td>...</td>\n",
       "      <td>1.0</td>\n",
       "      <td>1.0</td>\n",
       "      <td>202.0</td>\n",
       "      <td>NaN</td>\n",
       "      <td>NaN</td>\n",
       "      <td>Yarra</td>\n",
       "      <td>-37.79960</td>\n",
       "      <td>144.99840</td>\n",
       "      <td>Northern Metropolitan</td>\n",
       "      <td>4019.0</td>\n",
       "    </tr>\n",
       "    <tr>\n",
       "      <th>2</th>\n",
       "      <td>Abbotsford</td>\n",
       "      <td>25 Bloomburg St</td>\n",
       "      <td>2</td>\n",
       "      <td>h</td>\n",
       "      <td>1035000.0</td>\n",
       "      <td>S</td>\n",
       "      <td>Biggin</td>\n",
       "      <td>04-02-2016</td>\n",
       "      <td>2.5</td>\n",
       "      <td>3067.0</td>\n",
       "      <td>...</td>\n",
       "      <td>1.0</td>\n",
       "      <td>0.0</td>\n",
       "      <td>156.0</td>\n",
       "      <td>79.0</td>\n",
       "      <td>1900.0</td>\n",
       "      <td>Yarra</td>\n",
       "      <td>-37.80790</td>\n",
       "      <td>144.99340</td>\n",
       "      <td>Northern Metropolitan</td>\n",
       "      <td>4019.0</td>\n",
       "    </tr>\n",
       "    <tr>\n",
       "      <th>3</th>\n",
       "      <td>Abbotsford</td>\n",
       "      <td>18/659 Victoria St</td>\n",
       "      <td>3</td>\n",
       "      <td>u</td>\n",
       "      <td>NaN</td>\n",
       "      <td>VB</td>\n",
       "      <td>Rounds</td>\n",
       "      <td>04-02-2016</td>\n",
       "      <td>2.5</td>\n",
       "      <td>3067.0</td>\n",
       "      <td>...</td>\n",
       "      <td>2.0</td>\n",
       "      <td>1.0</td>\n",
       "      <td>0.0</td>\n",
       "      <td>NaN</td>\n",
       "      <td>NaN</td>\n",
       "      <td>Yarra</td>\n",
       "      <td>-37.81140</td>\n",
       "      <td>145.01160</td>\n",
       "      <td>Northern Metropolitan</td>\n",
       "      <td>4019.0</td>\n",
       "    </tr>\n",
       "    <tr>\n",
       "      <th>4</th>\n",
       "      <td>Abbotsford</td>\n",
       "      <td>5 Charles St</td>\n",
       "      <td>3</td>\n",
       "      <td>h</td>\n",
       "      <td>1465000.0</td>\n",
       "      <td>SP</td>\n",
       "      <td>Biggin</td>\n",
       "      <td>04-03-2017</td>\n",
       "      <td>2.5</td>\n",
       "      <td>3067.0</td>\n",
       "      <td>...</td>\n",
       "      <td>2.0</td>\n",
       "      <td>0.0</td>\n",
       "      <td>134.0</td>\n",
       "      <td>150.0</td>\n",
       "      <td>1900.0</td>\n",
       "      <td>Yarra</td>\n",
       "      <td>-37.80930</td>\n",
       "      <td>144.99440</td>\n",
       "      <td>Northern Metropolitan</td>\n",
       "      <td>4019.0</td>\n",
       "    </tr>\n",
       "    <tr>\n",
       "      <th>...</th>\n",
       "      <td>...</td>\n",
       "      <td>...</td>\n",
       "      <td>...</td>\n",
       "      <td>...</td>\n",
       "      <td>...</td>\n",
       "      <td>...</td>\n",
       "      <td>...</td>\n",
       "      <td>...</td>\n",
       "      <td>...</td>\n",
       "      <td>...</td>\n",
       "      <td>...</td>\n",
       "      <td>...</td>\n",
       "      <td>...</td>\n",
       "      <td>...</td>\n",
       "      <td>...</td>\n",
       "      <td>...</td>\n",
       "      <td>...</td>\n",
       "      <td>...</td>\n",
       "      <td>...</td>\n",
       "      <td>...</td>\n",
       "      <td>...</td>\n",
       "    </tr>\n",
       "    <tr>\n",
       "      <th>23542</th>\n",
       "      <td>Wyndham Vale</td>\n",
       "      <td>25 Clitheroe Dr</td>\n",
       "      <td>3</td>\n",
       "      <td>u</td>\n",
       "      <td>NaN</td>\n",
       "      <td>PN</td>\n",
       "      <td>Harcourts</td>\n",
       "      <td>26-08-2017</td>\n",
       "      <td>27.2</td>\n",
       "      <td>3024.0</td>\n",
       "      <td>...</td>\n",
       "      <td>1.0</td>\n",
       "      <td>0.0</td>\n",
       "      <td>552.0</td>\n",
       "      <td>119.0</td>\n",
       "      <td>1990.0</td>\n",
       "      <td>NaN</td>\n",
       "      <td>-37.90032</td>\n",
       "      <td>144.61839</td>\n",
       "      <td>Western Metropolitan</td>\n",
       "      <td>5262.0</td>\n",
       "    </tr>\n",
       "    <tr>\n",
       "      <th>23543</th>\n",
       "      <td>Wyndham Vale</td>\n",
       "      <td>19 Dalrymple Bvd</td>\n",
       "      <td>4</td>\n",
       "      <td>h</td>\n",
       "      <td>NaN</td>\n",
       "      <td>S</td>\n",
       "      <td>hockingstuart</td>\n",
       "      <td>26-08-2017</td>\n",
       "      <td>27.2</td>\n",
       "      <td>3024.0</td>\n",
       "      <td>...</td>\n",
       "      <td>NaN</td>\n",
       "      <td>NaN</td>\n",
       "      <td>NaN</td>\n",
       "      <td>NaN</td>\n",
       "      <td>NaN</td>\n",
       "      <td>NaN</td>\n",
       "      <td>-37.87882</td>\n",
       "      <td>144.60184</td>\n",
       "      <td>Western Metropolitan</td>\n",
       "      <td>5262.0</td>\n",
       "    </tr>\n",
       "    <tr>\n",
       "      <th>23544</th>\n",
       "      <td>Yallambie</td>\n",
       "      <td>17 Amaroo Wy</td>\n",
       "      <td>4</td>\n",
       "      <td>h</td>\n",
       "      <td>1100000.0</td>\n",
       "      <td>S</td>\n",
       "      <td>Buckingham</td>\n",
       "      <td>26-08-2017</td>\n",
       "      <td>12.7</td>\n",
       "      <td>3085.0</td>\n",
       "      <td>...</td>\n",
       "      <td>3.0</td>\n",
       "      <td>2.0</td>\n",
       "      <td>NaN</td>\n",
       "      <td>NaN</td>\n",
       "      <td>NaN</td>\n",
       "      <td>NaN</td>\n",
       "      <td>-37.72006</td>\n",
       "      <td>145.10547</td>\n",
       "      <td>Northern Metropolitan</td>\n",
       "      <td>1369.0</td>\n",
       "    </tr>\n",
       "    <tr>\n",
       "      <th>23545</th>\n",
       "      <td>Yarraville</td>\n",
       "      <td>6 Agnes St</td>\n",
       "      <td>4</td>\n",
       "      <td>h</td>\n",
       "      <td>1285000.0</td>\n",
       "      <td>SP</td>\n",
       "      <td>Village</td>\n",
       "      <td>26-08-2017</td>\n",
       "      <td>6.3</td>\n",
       "      <td>3013.0</td>\n",
       "      <td>...</td>\n",
       "      <td>1.0</td>\n",
       "      <td>1.0</td>\n",
       "      <td>362.0</td>\n",
       "      <td>112.0</td>\n",
       "      <td>1920.0</td>\n",
       "      <td>NaN</td>\n",
       "      <td>-37.81188</td>\n",
       "      <td>144.88449</td>\n",
       "      <td>Western Metropolitan</td>\n",
       "      <td>6543.0</td>\n",
       "    </tr>\n",
       "    <tr>\n",
       "      <th>23546</th>\n",
       "      <td>Yarraville</td>\n",
       "      <td>33 Freeman St</td>\n",
       "      <td>4</td>\n",
       "      <td>h</td>\n",
       "      <td>1050000.0</td>\n",
       "      <td>VB</td>\n",
       "      <td>Village</td>\n",
       "      <td>26-08-2017</td>\n",
       "      <td>6.3</td>\n",
       "      <td>3013.0</td>\n",
       "      <td>...</td>\n",
       "      <td>2.0</td>\n",
       "      <td>2.0</td>\n",
       "      <td>NaN</td>\n",
       "      <td>139.0</td>\n",
       "      <td>1950.0</td>\n",
       "      <td>NaN</td>\n",
       "      <td>-37.81829</td>\n",
       "      <td>144.87404</td>\n",
       "      <td>Western Metropolitan</td>\n",
       "      <td>6543.0</td>\n",
       "    </tr>\n",
       "  </tbody>\n",
       "</table>\n",
       "<p>23547 rows × 21 columns</p>\n",
       "</div>"
      ],
      "text/plain": [
       "             Suburb             Address  Rooms Type      Price Method  \\\n",
       "0        Abbotsford       68 Studley St      2    h        NaN     SS   \n",
       "1        Abbotsford        85 Turner St      2    h  1480000.0      S   \n",
       "2        Abbotsford     25 Bloomburg St      2    h  1035000.0      S   \n",
       "3        Abbotsford  18/659 Victoria St      3    u        NaN     VB   \n",
       "4        Abbotsford        5 Charles St      3    h  1465000.0     SP   \n",
       "...             ...                 ...    ...  ...        ...    ...   \n",
       "23542  Wyndham Vale     25 Clitheroe Dr      3    u        NaN     PN   \n",
       "23543  Wyndham Vale    19 Dalrymple Bvd      4    h        NaN      S   \n",
       "23544     Yallambie        17 Amaroo Wy      4    h  1100000.0      S   \n",
       "23545    Yarraville          6 Agnes St      4    h  1285000.0     SP   \n",
       "23546    Yarraville       33 Freeman St      4    h  1050000.0     VB   \n",
       "\n",
       "             SellerG        Date  Distance  Postcode  ...  Bathroom  Car  \\\n",
       "0             Jellis  03-09-2016       2.5    3067.0  ...       1.0  1.0   \n",
       "1             Biggin  03-12-2016       2.5    3067.0  ...       1.0  1.0   \n",
       "2             Biggin  04-02-2016       2.5    3067.0  ...       1.0  0.0   \n",
       "3             Rounds  04-02-2016       2.5    3067.0  ...       2.0  1.0   \n",
       "4             Biggin  04-03-2017       2.5    3067.0  ...       2.0  0.0   \n",
       "...              ...         ...       ...       ...  ...       ...  ...   \n",
       "23542      Harcourts  26-08-2017      27.2    3024.0  ...       1.0  0.0   \n",
       "23543  hockingstuart  26-08-2017      27.2    3024.0  ...       NaN  NaN   \n",
       "23544     Buckingham  26-08-2017      12.7    3085.0  ...       3.0  2.0   \n",
       "23545        Village  26-08-2017       6.3    3013.0  ...       1.0  1.0   \n",
       "23546        Village  26-08-2017       6.3    3013.0  ...       2.0  2.0   \n",
       "\n",
       "       Landsize  BuildingArea  YearBuilt  CouncilArea Lattitude  Longtitude  \\\n",
       "0         126.0           NaN        NaN        Yarra -37.80140   144.99580   \n",
       "1         202.0           NaN        NaN        Yarra -37.79960   144.99840   \n",
       "2         156.0          79.0     1900.0        Yarra -37.80790   144.99340   \n",
       "3           0.0           NaN        NaN        Yarra -37.81140   145.01160   \n",
       "4         134.0         150.0     1900.0        Yarra -37.80930   144.99440   \n",
       "...         ...           ...        ...          ...       ...         ...   \n",
       "23542     552.0         119.0     1990.0          NaN -37.90032   144.61839   \n",
       "23543       NaN           NaN        NaN          NaN -37.87882   144.60184   \n",
       "23544       NaN           NaN        NaN          NaN -37.72006   145.10547   \n",
       "23545     362.0         112.0     1920.0          NaN -37.81188   144.88449   \n",
       "23546       NaN         139.0     1950.0          NaN -37.81829   144.87404   \n",
       "\n",
       "                  Regionname Propertycount  \n",
       "0      Northern Metropolitan        4019.0  \n",
       "1      Northern Metropolitan        4019.0  \n",
       "2      Northern Metropolitan        4019.0  \n",
       "3      Northern Metropolitan        4019.0  \n",
       "4      Northern Metropolitan        4019.0  \n",
       "...                      ...           ...  \n",
       "23542   Western Metropolitan        5262.0  \n",
       "23543   Western Metropolitan        5262.0  \n",
       "23544  Northern Metropolitan        1369.0  \n",
       "23545   Western Metropolitan        6543.0  \n",
       "23546   Western Metropolitan        6543.0  \n",
       "\n",
       "[23547 rows x 21 columns]"
      ]
     },
     "execution_count": 62,
     "metadata": {},
     "output_type": "execute_result"
    }
   ],
   "source": [
    "import lux\n",
    "import luxwidget\n",
    "df"
   ]
  },
  {
   "cell_type": "code",
   "execution_count": 63,
   "metadata": {},
   "outputs": [],
   "source": [
    "import seaborn as sns"
   ]
  },
  {
   "cell_type": "code",
   "execution_count": 64,
   "metadata": {},
   "outputs": [],
   "source": [
    "df=sns.load_dataset('titanic')"
   ]
  },
  {
   "cell_type": "code",
   "execution_count": 67,
   "metadata": {},
   "outputs": [
    {
     "data": {
      "text/html": [
       "<div>\n",
       "<style scoped>\n",
       "    .dataframe tbody tr th:only-of-type {\n",
       "        vertical-align: middle;\n",
       "    }\n",
       "\n",
       "    .dataframe tbody tr th {\n",
       "        vertical-align: top;\n",
       "    }\n",
       "\n",
       "    .dataframe thead th {\n",
       "        text-align: right;\n",
       "    }\n",
       "</style>\n",
       "<table border=\"1\" class=\"dataframe\">\n",
       "  <thead>\n",
       "    <tr style=\"text-align: right;\">\n",
       "      <th></th>\n",
       "      <th>survived</th>\n",
       "      <th>pclass</th>\n",
       "      <th>sex</th>\n",
       "      <th>age</th>\n",
       "      <th>sibsp</th>\n",
       "      <th>parch</th>\n",
       "      <th>fare</th>\n",
       "      <th>embarked</th>\n",
       "      <th>class</th>\n",
       "      <th>who</th>\n",
       "      <th>adult_male</th>\n",
       "      <th>deck</th>\n",
       "      <th>embark_town</th>\n",
       "      <th>alive</th>\n",
       "      <th>alone</th>\n",
       "    </tr>\n",
       "  </thead>\n",
       "  <tbody>\n",
       "    <tr>\n",
       "      <th>0</th>\n",
       "      <td>0</td>\n",
       "      <td>3</td>\n",
       "      <td>male</td>\n",
       "      <td>22.0</td>\n",
       "      <td>1</td>\n",
       "      <td>0</td>\n",
       "      <td>7.2500</td>\n",
       "      <td>S</td>\n",
       "      <td>Third</td>\n",
       "      <td>man</td>\n",
       "      <td>True</td>\n",
       "      <td>NaN</td>\n",
       "      <td>Southampton</td>\n",
       "      <td>no</td>\n",
       "      <td>False</td>\n",
       "    </tr>\n",
       "    <tr>\n",
       "      <th>1</th>\n",
       "      <td>1</td>\n",
       "      <td>1</td>\n",
       "      <td>female</td>\n",
       "      <td>38.0</td>\n",
       "      <td>1</td>\n",
       "      <td>0</td>\n",
       "      <td>71.2833</td>\n",
       "      <td>C</td>\n",
       "      <td>First</td>\n",
       "      <td>woman</td>\n",
       "      <td>False</td>\n",
       "      <td>C</td>\n",
       "      <td>Cherbourg</td>\n",
       "      <td>yes</td>\n",
       "      <td>False</td>\n",
       "    </tr>\n",
       "    <tr>\n",
       "      <th>2</th>\n",
       "      <td>1</td>\n",
       "      <td>3</td>\n",
       "      <td>female</td>\n",
       "      <td>26.0</td>\n",
       "      <td>0</td>\n",
       "      <td>0</td>\n",
       "      <td>7.9250</td>\n",
       "      <td>S</td>\n",
       "      <td>Third</td>\n",
       "      <td>woman</td>\n",
       "      <td>False</td>\n",
       "      <td>NaN</td>\n",
       "      <td>Southampton</td>\n",
       "      <td>yes</td>\n",
       "      <td>True</td>\n",
       "    </tr>\n",
       "    <tr>\n",
       "      <th>3</th>\n",
       "      <td>1</td>\n",
       "      <td>1</td>\n",
       "      <td>female</td>\n",
       "      <td>35.0</td>\n",
       "      <td>1</td>\n",
       "      <td>0</td>\n",
       "      <td>53.1000</td>\n",
       "      <td>S</td>\n",
       "      <td>First</td>\n",
       "      <td>woman</td>\n",
       "      <td>False</td>\n",
       "      <td>C</td>\n",
       "      <td>Southampton</td>\n",
       "      <td>yes</td>\n",
       "      <td>False</td>\n",
       "    </tr>\n",
       "    <tr>\n",
       "      <th>4</th>\n",
       "      <td>0</td>\n",
       "      <td>3</td>\n",
       "      <td>male</td>\n",
       "      <td>35.0</td>\n",
       "      <td>0</td>\n",
       "      <td>0</td>\n",
       "      <td>8.0500</td>\n",
       "      <td>S</td>\n",
       "      <td>Third</td>\n",
       "      <td>man</td>\n",
       "      <td>True</td>\n",
       "      <td>NaN</td>\n",
       "      <td>Southampton</td>\n",
       "      <td>no</td>\n",
       "      <td>True</td>\n",
       "    </tr>\n",
       "  </tbody>\n",
       "</table>\n",
       "</div>"
      ],
      "text/plain": [
       "   survived  pclass     sex   age  sibsp  parch     fare embarked  class  \\\n",
       "0         0       3    male  22.0      1      0   7.2500        S  Third   \n",
       "1         1       1  female  38.0      1      0  71.2833        C  First   \n",
       "2         1       3  female  26.0      0      0   7.9250        S  Third   \n",
       "3         1       1  female  35.0      1      0  53.1000        S  First   \n",
       "4         0       3    male  35.0      0      0   8.0500        S  Third   \n",
       "\n",
       "     who  adult_male deck  embark_town alive  alone  \n",
       "0    man        True  NaN  Southampton    no  False  \n",
       "1  woman       False    C    Cherbourg   yes  False  \n",
       "2  woman       False  NaN  Southampton   yes   True  \n",
       "3  woman       False    C  Southampton   yes  False  \n",
       "4    man        True  NaN  Southampton    no   True  "
      ]
     },
     "metadata": {},
     "output_type": "display_data"
    },
    {
     "data": {
      "text/plain": []
     },
     "execution_count": 67,
     "metadata": {},
     "output_type": "execute_result"
    }
   ],
   "source": [
    "df.head()"
   ]
  },
  {
   "cell_type": "code",
   "execution_count": 65,
   "metadata": {
    "scrolled": true
   },
   "outputs": [
    {
     "data": {
      "application/vnd.jupyter.widget-view+json": {
       "model_id": "1afebbe8d2a4449fb97144803f2c530c",
       "version_major": 2,
       "version_minor": 0
      },
      "text/plain": [
       "Button(description='Toggle Pandas/Lux', layout=Layout(top='5px', width='140px'), style=ButtonStyle())"
      ]
     },
     "metadata": {},
     "output_type": "display_data"
    },
    {
     "data": {
      "application/vnd.jupyter.widget-view+json": {
       "model_id": "d9a9dc05083847b4907b63724b3eaae2",
       "version_major": 2,
       "version_minor": 0
      },
      "text/plain": [
       "Output()"
      ]
     },
     "metadata": {},
     "output_type": "display_data"
    },
    {
     "data": {
      "text/plain": []
     },
     "execution_count": 65,
     "metadata": {},
     "output_type": "execute_result"
    }
   ],
   "source": [
    "df"
   ]
  },
  {
   "cell_type": "code",
   "execution_count": 78,
   "metadata": {},
   "outputs": [],
   "source": [
    "df.intent=['age', 'fare']"
   ]
  },
  {
   "cell_type": "code",
   "execution_count": 79,
   "metadata": {},
   "outputs": [
    {
     "data": {
      "application/vnd.jupyter.widget-view+json": {
       "model_id": "15061ce813fd4ef8a72dc1eb18d40332",
       "version_major": 2,
       "version_minor": 0
      },
      "text/plain": [
       "Button(description='Toggle Pandas/Lux', layout=Layout(top='5px', width='140px'), style=ButtonStyle())"
      ]
     },
     "metadata": {},
     "output_type": "display_data"
    },
    {
     "data": {
      "application/vnd.jupyter.widget-view+json": {
       "model_id": "d908e6c9f62a44e7b34a40ba28a74a79",
       "version_major": 2,
       "version_minor": 0
      },
      "text/plain": [
       "Output()"
      ]
     },
     "metadata": {},
     "output_type": "display_data"
    },
    {
     "data": {
      "text/plain": []
     },
     "execution_count": 79,
     "metadata": {},
     "output_type": "execute_result"
    }
   ],
   "source": [
    "df"
   ]
  },
  {
   "cell_type": "code",
   "execution_count": 86,
   "metadata": {},
   "outputs": [],
   "source": [
    "df.default_display = \"lux\""
   ]
  },
  {
   "cell_type": "code",
   "execution_count": 91,
   "metadata": {},
   "outputs": [],
   "source": [
    "ex=df.exported"
   ]
  },
  {
   "cell_type": "code",
   "execution_count": 92,
   "metadata": {},
   "outputs": [
    {
     "data": {
      "text/plain": [
       "[]"
      ]
     },
     "execution_count": 92,
     "metadata": {},
     "output_type": "execute_result"
    }
   ],
   "source": [
    "ex"
   ]
  },
  {
   "cell_type": "code",
   "execution_count": 89,
   "metadata": {},
   "outputs": [
    {
     "name": "stdout",
     "output_type": "stream",
     "text": [
      "Saved HTML to lux_report.html\n"
     ]
    }
   ],
   "source": [
    "df.save_as_html('lux_report.html')"
   ]
  },
  {
   "cell_type": "code",
   "execution_count": 93,
   "metadata": {},
   "outputs": [
    {
     "data": {
      "text/plain": [
       "{'Enhance': [<Vis  (x: age, y: fare, color: survived) mark: scatter, score: 0.50 >,\n",
       "  <Vis  (x: age, y: fare, color: alive) mark: scatter, score: 0.50 >,\n",
       "  <Vis  (x: age, y: fare, color: alone) mark: scatter, score: 0.50 >,\n",
       "  <Vis  (x: age, y: fare, color: sex) mark: scatter, score: 0.50 >,\n",
       "  <Vis  (x: age, y: fare, color: adult_male) mark: scatter, score: 0.50 >,\n",
       "  <Vis  (x: age, y: fare, color: class) mark: scatter, score: 0.33 >,\n",
       "  <Vis  (x: age, y: fare, color: pclass) mark: scatter, score: 0.33 >,\n",
       "  <Vis  (x: age, y: fare, color: who) mark: scatter, score: 0.33 >,\n",
       "  <Vis  (x: age, y: fare, color: embarked) mark: scatter, score: 0.25 >,\n",
       "  <Vis  (x: age, y: fare, color: embark_town) mark: scatter, score: 0.25 >,\n",
       "  <Vis  (x: age, y: fare, color: sibsp) mark: scatter, score: 0.14 >,\n",
       "  <Vis  (x: age, y: fare, color: parch) mark: scatter, score: 0.14 >,\n",
       "  <Vis  (x: age, y: fare, color: deck) mark: scatter, score: 0.12 >],\n",
       " 'Filter': [<Vis  (x: age, y: fare  -- [deck=F]           ) mark: scatter, score: 0.72 >,\n",
       "  <Vis  (x: age, y: fare  -- [deck=A]           ) mark: scatter, score: 0.49 >,\n",
       "  <Vis  (x: age, y: fare  -- [sibsp=3]          ) mark: scatter, score: 0.41 >,\n",
       "  <Vis  (x: age, y: fare  -- [parch=1]          ) mark: scatter, score: 0.34 >,\n",
       "  <Vis  (x: age, y: fare  -- [deck=C]           ) mark: scatter, score: 0.31 >,\n",
       "  <Vis  (x: age, y: fare  -- [sibsp=4]          ) mark: scatter, score: 0.29 >,\n",
       "  <Vis  (x: age, y: fare  -- [sibsp=1]          ) mark: scatter, score: 0.27 >,\n",
       "  <Vis  (x: age, y: fare  -- [pclass=3]         ) mark: scatter, score: 0.26 >,\n",
       "  <Vis  (x: age, y: fare  -- [class=Third]      ) mark: scatter, score: 0.26 >,\n",
       "  <Vis  (x: age, y: fare  -- [pclass=1]         ) mark: scatter, score: 0.22 >,\n",
       "  <Vis  (x: age, y: fare  -- [class=First]      ) mark: scatter, score: 0.22 >,\n",
       "  <Vis  (x: age, y: fare  -- [alone=False]      ) mark: scatter, score: 0.21 >,\n",
       "  <Vis  (x: age, y: fare  -- [pclass=2]         ) mark: scatter, score: 0.20 >,\n",
       "  <Vis  (x: age, y: fare  -- [class=Second]     ) mark: scatter, score: 0.20 >,\n",
       "  <Vis  (x: age, y: fare  -- [adult_male=False] ) mark: scatter, score: 0.18 >],\n",
       " 'Generalize': [<Vis  (x: BIN(fare), y: COUNT(Record)) mark: histogram, score: 1.00 >,\n",
       "  <Vis  (x: BIN(age) , y: COUNT(Record)) mark: histogram, score: 1.00 >]}"
      ]
     },
     "execution_count": 93,
     "metadata": {},
     "output_type": "execute_result"
    }
   ],
   "source": [
    "df.recommendation"
   ]
  },
  {
   "cell_type": "code",
   "execution_count": 94,
   "metadata": {},
   "outputs": [
    {
     "data": {
      "application/vnd.jupyter.widget-view+json": {
       "model_id": "390f7ad30e63497a84a6d94cc2b5c318",
       "version_major": 2,
       "version_minor": 0
      },
      "text/plain": [
       "LuxWidget(recommendations=[{'action': 'Vis List', 'description': 'Shows a vis list defined by the intent', 'vs…"
      ]
     },
     "metadata": {},
     "output_type": "display_data"
    },
    {
     "data": {
      "text/plain": [
       "[<Vis  (x: age, y: fare, color: survived) mark: scatter, score: 0.50 >,\n",
       " <Vis  (x: age, y: fare, color: alive) mark: scatter, score: 0.50 >,\n",
       " <Vis  (x: age, y: fare, color: alone) mark: scatter, score: 0.50 >,\n",
       " <Vis  (x: age, y: fare, color: sex) mark: scatter, score: 0.50 >,\n",
       " <Vis  (x: age, y: fare, color: adult_male) mark: scatter, score: 0.50 >,\n",
       " <Vis  (x: age, y: fare, color: class) mark: scatter, score: 0.33 >,\n",
       " <Vis  (x: age, y: fare, color: pclass) mark: scatter, score: 0.33 >,\n",
       " <Vis  (x: age, y: fare, color: who) mark: scatter, score: 0.33 >,\n",
       " <Vis  (x: age, y: fare, color: embarked) mark: scatter, score: 0.25 >,\n",
       " <Vis  (x: age, y: fare, color: embark_town) mark: scatter, score: 0.25 >,\n",
       " <Vis  (x: age, y: fare, color: sibsp) mark: scatter, score: 0.14 >,\n",
       " <Vis  (x: age, y: fare, color: parch) mark: scatter, score: 0.14 >,\n",
       " <Vis  (x: age, y: fare, color: deck) mark: scatter, score: 0.12 >]"
      ]
     },
     "execution_count": 94,
     "metadata": {},
     "output_type": "execute_result"
    }
   ],
   "source": [
    "df.recommendation[\"Enhance\"]"
   ]
  },
  {
   "cell_type": "code",
   "execution_count": 95,
   "metadata": {},
   "outputs": [
    {
     "data": {
      "application/vnd.jupyter.widget-view+json": {
       "model_id": "c39d7431bacb4eecba84c81aef980a53",
       "version_major": 2,
       "version_minor": 0
      },
      "text/plain": [
       "LuxWidget(recommendations=[{'action': 'Vis List', 'description': 'Shows a vis list defined by the intent', 'vs…"
      ]
     },
     "metadata": {},
     "output_type": "display_data"
    },
    {
     "data": {
      "text/plain": [
       "[<Vis  (x: age, y: fare) mark: scatter, score: 0.00 >]"
      ]
     },
     "execution_count": 95,
     "metadata": {},
     "output_type": "execute_result"
    }
   ],
   "source": [
    "df.current_vis"
   ]
  },
  {
   "cell_type": "code",
   "execution_count": 96,
   "metadata": {},
   "outputs": [
    {
     "data": {
      "application/vnd.jupyter.widget-view+json": {
       "model_id": "41028700ba0748a5aac1efc0b342afb4",
       "version_major": 2,
       "version_minor": 0
      },
      "text/plain": [
       "Button(description='Toggle Pandas/Lux', layout=Layout(top='5px', width='140px'), style=ButtonStyle())"
      ]
     },
     "metadata": {},
     "output_type": "display_data"
    },
    {
     "data": {
      "application/vnd.jupyter.widget-view+json": {
       "model_id": "714b3d1fb7d14e66ba3db92ca73fdced",
       "version_major": 2,
       "version_minor": 0
      },
      "text/plain": [
       "Output()"
      ]
     },
     "metadata": {},
     "output_type": "display_data"
    },
    {
     "data": {
      "text/plain": []
     },
     "execution_count": 96,
     "metadata": {},
     "output_type": "execute_result"
    }
   ],
   "source": [
    "df.clear_intent()\n",
    "df"
   ]
  },
  {
   "cell_type": "code",
   "execution_count": 97,
   "metadata": {},
   "outputs": [],
   "source": [
    "from lux.vis.VisList import VisList"
   ]
  },
  {
   "cell_type": "code",
   "execution_count": 99,
   "metadata": {},
   "outputs": [
    {
     "data": {
      "application/vnd.jupyter.widget-view+json": {
       "model_id": "8b03ee3e5c414306be37b5851c6d6d19",
       "version_major": 2,
       "version_minor": 0
      },
      "text/plain": [
       "LuxWidget(recommendations=[{'action': 'Vis List', 'description': 'Shows a vis list defined by the intent', 'vs…"
      ]
     },
     "metadata": {},
     "output_type": "display_data"
    },
    {
     "data": {
      "text/plain": [
       "[<Vis  (x: COUNT(Record), y: survived  -- [class=Third]  ) mark: bar, score: 0.00 >,\n",
       " <Vis  (x: COUNT(Record), y: survived  -- [class=First]  ) mark: bar, score: 0.00 >,\n",
       " <Vis  (x: COUNT(Record), y: survived  -- [class=Second] ) mark: bar, score: 0.00 >]"
      ]
     },
     "execution_count": 99,
     "metadata": {},
     "output_type": "execute_result"
    }
   ],
   "source": [
    "VisList(['class=?', 'survived'], df)"
   ]
  },
  {
   "cell_type": "code",
   "execution_count": 100,
   "metadata": {},
   "outputs": [
    {
     "name": "stdout",
     "output_type": "stream",
     "text": [
      "Saved HTML to test.html\n"
     ]
    }
   ],
   "source": [
    "df.save_as_html('test.html')"
   ]
  },
  {
   "cell_type": "code",
   "execution_count": 101,
   "metadata": {},
   "outputs": [
    {
     "data": {
      "application/vnd.jupyter.widget-view+json": {
       "model_id": "9086465e5a0d49cdadb8b3ec529c35f7",
       "version_major": 2,
       "version_minor": 0
      },
      "text/plain": [
       "Button(description='Toggle Pandas/Lux', layout=Layout(top='5px', width='140px'), style=ButtonStyle())"
      ]
     },
     "metadata": {},
     "output_type": "display_data"
    },
    {
     "data": {
      "application/vnd.jupyter.widget-view+json": {
       "model_id": "be51f6e8f4a24745bd9df1f9ee946d1e",
       "version_major": 2,
       "version_minor": 0
      },
      "text/plain": [
       "Output()"
      ]
     },
     "metadata": {},
     "output_type": "display_data"
    },
    {
     "data": {
      "text/plain": []
     },
     "execution_count": 101,
     "metadata": {},
     "output_type": "execute_result"
    }
   ],
   "source": [
    "df"
   ]
  },
  {
   "cell_type": "code",
   "execution_count": null,
   "metadata": {},
   "outputs": [],
   "source": []
  }
 ],
 "metadata": {
  "hide_input": false,
  "kernelspec": {
   "display_name": "Python 3",
   "language": "python",
   "name": "python3"
  },
  "language_info": {
   "codemirror_mode": {
    "name": "ipython",
    "version": 3
   },
   "file_extension": ".py",
   "mimetype": "text/x-python",
   "name": "python",
   "nbconvert_exporter": "python",
   "pygments_lexer": "ipython3",
   "version": "3.8.3"
  },
  "nbTranslate": {
   "displayLangs": [
    "*"
   ],
   "hotkey": "alt-t",
   "langInMainMenu": true,
   "sourceLang": "en",
   "targetLang": "fr",
   "useGoogleTranslate": true
  },
  "toc": {
   "base_numbering": 1,
   "nav_menu": {},
   "number_sections": true,
   "sideBar": true,
   "skip_h1_title": false,
   "title_cell": "Table of Contents",
   "title_sidebar": "Contents",
   "toc_cell": true,
   "toc_position": {},
   "toc_section_display": true,
   "toc_window_display": false
  },
  "varInspector": {
   "cols": {
    "lenName": 16,
    "lenType": 16,
    "lenVar": 40
   },
   "kernels_config": {
    "python": {
     "delete_cmd_postfix": "",
     "delete_cmd_prefix": "del ",
     "library": "var_list.py",
     "varRefreshCmd": "print(var_dic_list())"
    },
    "r": {
     "delete_cmd_postfix": ") ",
     "delete_cmd_prefix": "rm(",
     "library": "var_list.r",
     "varRefreshCmd": "cat(var_dic_list()) "
    }
   },
   "types_to_exclude": [
    "module",
    "function",
    "builtin_function_or_method",
    "instance",
    "_Feature"
   ],
   "window_display": false
  }
 },
 "nbformat": 4,
 "nbformat_minor": 4
}
