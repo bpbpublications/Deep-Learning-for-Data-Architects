{
  "nbformat": 4,
  "nbformat_minor": 0,
  "metadata": {
    "colab": {
      "provenance": [],
      "authorship_tag": "ABX9TyN0gRa3SrACTnKOA0h7li3j",
      "include_colab_link": true
    },
    "kernelspec": {
      "name": "python3",
      "display_name": "Python 3"
    },
    "language_info": {
      "name": "python"
    }
  },
  "cells": [
    {
      "cell_type": "markdown",
      "metadata": {
        "id": "view-in-github",
        "colab_type": "text"
      },
      "source": [
        "<a href=\"https://colab.research.google.com/github/shekharkhandelwal1983/DLforDataArchitects/blob/main/notebooks/chapter7/U_Net.ipynb\" target=\"_parent\"><img src=\"https://colab.research.google.com/assets/colab-badge.svg\" alt=\"Open In Colab\"/></a>"
      ]
    },
    {
      "cell_type": "code",
      "source": [
        "import numpy as np \n",
        "from keras.layers import Input, Conv2D, MaxPooling2D, concatenate, UpSampling2D, Dropout, Conv2DTranspose\n",
        "from keras.models import Model \n",
        "from keras.optimizers import Adam \n",
        "from keras.callbacks import ModelCheckpoint \n",
        "from keras.preprocessing.image import ImageDataGenerator "
      ],
      "metadata": {
        "id": "ejGqewyWFXim"
      },
      "execution_count": 12,
      "outputs": []
    },
    {
      "cell_type": "code",
      "source": [
        "# Generate sample data\n",
        "x_train = np.random.rand(100, 256, 256, 3)\n",
        "y_train = np.random.randint(0, 2, (100, 256, 256, 1))"
      ],
      "metadata": {
        "id": "WE5tYFbaGAS1"
      },
      "execution_count": 7,
      "outputs": []
    },
    {
      "cell_type": "code",
      "source": [
        "img_height=256\n",
        "img_width=256\n",
        "inputs = Input((img_height, img_width, 3)) "
      ],
      "metadata": {
        "id": "zQgTfrzcGBLp"
      },
      "execution_count": 8,
      "outputs": []
    },
    {
      "cell_type": "code",
      "source": [
        "c1 = Conv2D(32, (3, 3), activation='relu', kernel_initializer='he_normal', padding='same')(inputs) \n",
        "c1 = Dropout(0.1)(c1) \n",
        "c1 = Conv2D(32, (3, 3), activation='relu', kernel_initializer='he_normal', padding='same')(c1) \n",
        "p1 = MaxPooling2D((2, 2))(c1) \n",
        " \n",
        "c2 = Conv2D(64, (3, 3), activation='relu', kernel_initializer='he_normal', padding='same')(p1) \n",
        "c2 = Dropout(0.1)(c2) \n",
        "c2 = Conv2D(64, (3, 3), activation='relu', kernel_initializer='he_normal', padding='same')(c2) \n",
        "p2 = MaxPooling2D((2, 2))(c2) \n",
        " \n",
        "c3 = Conv2D(128, (3, 3), activation='relu', kernel_initializer='he_normal', padding='same')(p2) \n",
        "c3 = Dropout(0.2)(c3) \n",
        "c3 = Conv2D(128, (3, 3), activation='relu', kernel_initializer='he_normal', padding='same')(c3) \n",
        "p3 = MaxPooling2D((2, 2))(c3) \n",
        " \n",
        "c4 = Conv2D(256, (3, 3), activation='relu', kernel_initializer='he_normal', padding='same')(p3) \n",
        "c4 = Dropout(0.2)(c4) \n",
        "c4 = Conv2D(256, (3, 3), activation='relu', kernel_initializer='he_normal', padding='same')(c4) \n",
        "p4 = MaxPooling2D(pool_size=(2, 2))(c4) "
      ],
      "metadata": {
        "id": "o92RBBJRGQ5f"
      },
      "execution_count": 9,
      "outputs": []
    },
    {
      "cell_type": "code",
      "source": [
        "c5 = Conv2D(512, (3, 3), activation='relu', kernel_initializer='he_normal', padding='same')(p4) \n",
        "c5 = Dropout(0.3)(c5) \n",
        "c5 = Conv2D(512, (3, 3), activation='relu', kernel_initializer='he_normal', padding='same')(c5) "
      ],
      "metadata": {
        "id": "6hgpziGnGULZ"
      },
      "execution_count": 10,
      "outputs": []
    },
    {
      "cell_type": "code",
      "source": [
        "u6 = Conv2DTranspose(256, (2, 2), strides=(2, 2), padding='same')(c5) \n",
        "u6 = concatenate([u6, c4]) \n",
        "c6 = Conv2D(256, (3, 3), activation='relu', kernel_initializer='he_normal', padding='same')(u6) \n",
        "c6 = Dropout(0.2)(c6) \n",
        "c6 = Conv2D(256, (3, 3), activation='relu', kernel_initializer='he_normal', padding='same')(c6) \n",
        " \n",
        "u7 = Conv2DTranspose(128, (2, 2), strides=(2, 2), padding='same')(c6) \n",
        "u7 = concatenate([u7, c3]) \n",
        "c7 = Conv2D(128, (3, 3), activation='relu', kernel_initializer='he_normal', padding='same')(u7) \n",
        "c7 = Dropout(0.2)(c7) \n",
        "c7 = Conv2D(128, (3, 3), activation='relu', kernel_initializer='he_normal', padding='same')(c7) \n",
        " \n",
        "u8 = Conv2DTranspose(64, (2, 2), strides=(2, 2), padding='same')(c7) \n",
        "u8 = concatenate([u8, c2]) \n",
        "c8 = Conv2D(64, (3, 3), activation='relu', kernel_initializer='he_normal', padding='same')(u8) \n",
        "c8 = Dropout(0.1)(c8) \n",
        "c8 = Conv2D(64, (3, 3), activation='relu', kernel_initializer='he_normal', padding='same')(c8) \n",
        " \n",
        "u9 = Conv2DTranspose(32, (2, 2), strides=(2, 2), padding='same')(c8) \n",
        "u9 = concatenate([u9, c1], axis=3) \n",
        "c9 = Conv2D(32, (3, 3), activation='relu', kernel_initializer='he_normal', padding='same')(u9) \n",
        "c9 = Dropout(0.1)(c9) \n",
        "c9 = Conv2D(32, (3, 3), activation='relu', kernel_initializer='he_normal', padding='same')(c9) "
      ],
      "metadata": {
        "id": "MAh2TzqVGksk"
      },
      "execution_count": 13,
      "outputs": []
    },
    {
      "cell_type": "code",
      "source": [
        "outputs = Conv2D(1, (1, 1), activation='sigmoid')(c9) "
      ],
      "metadata": {
        "id": "ig0C3UUaGpKe"
      },
      "execution_count": 14,
      "outputs": []
    },
    {
      "cell_type": "code",
      "source": [
        "model = Model(inputs=[inputs], outputs=[outputs]) "
      ],
      "metadata": {
        "id": "ubAivpo8GwG8"
      },
      "execution_count": 15,
      "outputs": []
    },
    {
      "cell_type": "code",
      "source": [
        "model.compile(optimizer=Adam(), loss='binary_crossentropy', metrics=['accuracy']) "
      ],
      "metadata": {
        "id": "9GiTRC6fGyRt"
      },
      "execution_count": 16,
      "outputs": []
    },
    {
      "cell_type": "code",
      "source": [
        "checkpointer = ModelCheckpoint(filepath='weights.h5', verbose=1, save_best_only=True) "
      ],
      "metadata": {
        "id": "salzeSWnG0Ne"
      },
      "execution_count": 17,
      "outputs": []
    },
    {
      "cell_type": "code",
      "source": [
        "model.fit(x_train, y_train, batch_size=32, epochs=10, verbose=1, callbacks=[checkpointer], validation_split=0.1) "
      ],
      "metadata": {
        "colab": {
          "base_uri": "https://localhost:8080/"
        },
        "id": "Q8Y65HILG2bE",
        "outputId": "d730f902-4d86-445e-9c34-0517697ab0d7"
      },
      "execution_count": 18,
      "outputs": [
        {
          "metadata": {
            "tags": null
          },
          "name": "stdout",
          "output_type": "stream",
          "text": [
            "Epoch 1/10\n",
            "3/3 [==============================] - ETA: 0s - loss: 0.7201 - accuracy: 0.5003 \n",
            "Epoch 1: val_loss improved from inf to 0.69610, saving model to weights.h5\n",
            "3/3 [==============================] - 128s 41s/step - loss: 0.7201 - accuracy: 0.5003 - val_loss: 0.6961 - val_accuracy: 0.5007\n",
            "Epoch 2/10\n",
            "3/3 [==============================] - ETA: 0s - loss: 0.6976 - accuracy: 0.4999 \n",
            "Epoch 2: val_loss improved from 0.69610 to 0.69458, saving model to weights.h5\n",
            "3/3 [==============================] - 124s 40s/step - loss: 0.6976 - accuracy: 0.4999 - val_loss: 0.6946 - val_accuracy: 0.5009\n",
            "Epoch 3/10\n",
            "3/3 [==============================] - ETA: 0s - loss: 0.6951 - accuracy: 0.4998 \n",
            "Epoch 3: val_loss improved from 0.69458 to 0.69403, saving model to weights.h5\n",
            "3/3 [==============================] - 126s 41s/step - loss: 0.6951 - accuracy: 0.4998 - val_loss: 0.6940 - val_accuracy: 0.4997\n",
            "Epoch 4/10\n",
            "3/3 [==============================] - ETA: 0s - loss: 0.6944 - accuracy: 0.5003 \n",
            "Epoch 4: val_loss improved from 0.69403 to 0.69372, saving model to weights.h5\n",
            "3/3 [==============================] - 124s 41s/step - loss: 0.6944 - accuracy: 0.5003 - val_loss: 0.6937 - val_accuracy: 0.5000\n",
            "Epoch 5/10\n",
            "3/3 [==============================] - ETA: 0s - loss: 0.6938 - accuracy: 0.5001 \n",
            "Epoch 5: val_loss improved from 0.69372 to 0.69342, saving model to weights.h5\n",
            "3/3 [==============================] - 128s 42s/step - loss: 0.6938 - accuracy: 0.5001 - val_loss: 0.6934 - val_accuracy: 0.5001\n",
            "Epoch 6/10\n",
            "3/3 [==============================] - ETA: 0s - loss: 0.6936 - accuracy: 0.5006 \n",
            "Epoch 6: val_loss improved from 0.69342 to 0.69331, saving model to weights.h5\n",
            "3/3 [==============================] - 124s 41s/step - loss: 0.6936 - accuracy: 0.5006 - val_loss: 0.6933 - val_accuracy: 0.5011\n",
            "Epoch 7/10\n",
            "3/3 [==============================] - ETA: 0s - loss: 0.6935 - accuracy: 0.4999 \n",
            "Epoch 7: val_loss improved from 0.69331 to 0.69327, saving model to weights.h5\n",
            "3/3 [==============================] - 123s 40s/step - loss: 0.6935 - accuracy: 0.4999 - val_loss: 0.6933 - val_accuracy: 0.5006\n",
            "Epoch 8/10\n",
            "3/3 [==============================] - ETA: 0s - loss: 0.6934 - accuracy: 0.5000 \n",
            "Epoch 8: val_loss improved from 0.69327 to 0.69325, saving model to weights.h5\n",
            "3/3 [==============================] - 121s 39s/step - loss: 0.6934 - accuracy: 0.5000 - val_loss: 0.6932 - val_accuracy: 0.5000\n",
            "Epoch 9/10\n",
            "3/3 [==============================] - ETA: 0s - loss: 0.6933 - accuracy: 0.5002 \n",
            "Epoch 9: val_loss improved from 0.69325 to 0.69323, saving model to weights.h5\n",
            "3/3 [==============================] - 120s 39s/step - loss: 0.6933 - accuracy: 0.5002 - val_loss: 0.6932 - val_accuracy: 0.5001\n",
            "Epoch 10/10\n",
            "3/3 [==============================] - ETA: 0s - loss: 0.6933 - accuracy: 0.5000 \n",
            "Epoch 10: val_loss improved from 0.69323 to 0.69322, saving model to weights.h5\n",
            "3/3 [==============================] - 125s 42s/step - loss: 0.6933 - accuracy: 0.5000 - val_loss: 0.6932 - val_accuracy: 0.4997\n"
          ]
        },
        {
          "data": {
            "text/plain": [
              "<keras.callbacks.History at 0x7ff954bd3a30>"
            ]
          },
          "execution_count": 18,
          "metadata": {},
          "output_type": "execute_result"
        }
      ]
    },
    {
      "cell_type": "code",
      "source": [
        "# Generate sample test data\n",
        "x_test = np.random.rand(20, 256, 256, 3)\n",
        "y_test = np.random.randint(0, 2, (20, 256, 256, 1))"
      ],
      "metadata": {
        "id": "5wM_AVX6L7GI"
      },
      "execution_count": 20,
      "outputs": []
    },
    {
      "cell_type": "code",
      "source": [
        "score = model.evaluate(x_test, y_test, verbose=0) \n",
        "print('Test loss:', score[0]) \n",
        "print('Test accuracy:', score[1]) "
      ],
      "metadata": {
        "colab": {
          "base_uri": "https://localhost:8080/"
        },
        "id": "IN7npbK8G518",
        "outputId": "069eefc2-eda5-494c-c16f-ff0b4347f50d"
      },
      "execution_count": 21,
      "outputs": [
        {
          "output_type": "stream",
          "name": "stdout",
          "text": [
            "Test loss: 0.6932111978530884\n",
            "Test accuracy: 0.500531792640686\n"
          ]
        }
      ]
    },
    {
      "cell_type": "code",
      "source": [],
      "metadata": {
        "id": "q0pRuxnrMPp7"
      },
      "execution_count": null,
      "outputs": []
    }
  ]
}