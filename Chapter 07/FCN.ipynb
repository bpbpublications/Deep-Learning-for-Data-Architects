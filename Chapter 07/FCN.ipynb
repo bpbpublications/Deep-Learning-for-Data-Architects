{
  "cells": [
    {
      "cell_type": "markdown",
      "metadata": {
        "id": "view-in-github",
        "colab_type": "text"
      },
      "source": [
        "<a href=\"https://colab.research.google.com/github/shekharkhandelwal1983/DLforDataArchitects/blob/main/notebooks/chapter7/FCN.ipynb\" target=\"_parent\"><img src=\"https://colab.research.google.com/assets/colab-badge.svg\" alt=\"Open In Colab\"/></a>"
      ]
    },
    {
      "cell_type": "code",
      "execution_count": null,
      "metadata": {
        "colab": {
          "background_save": true,
          "base_uri": "https://localhost:8080/"
        },
        "id": "Jnvpe6tbQIO9",
        "outputId": "9f88a3cf-36f1-49a8-f00b-e018cfef0370"
      },
      "outputs": [
        {
          "name": "stdout",
          "output_type": "stream",
          "text": [
            "Epoch 1/10\n",
            "7/7 [==============================] - 430s 59s/step - loss: 2.3026 - accuracy: 0.1001 - val_loss: 2.3026 - val_accuracy: 0.1002\n",
            "Epoch 2/10\n",
            "7/7 [==============================] - 405s 57s/step - loss: 2.3026 - accuracy: 0.1006 - val_loss: 2.3026 - val_accuracy: 0.1003\n",
            "Epoch 3/10\n",
            "7/7 [==============================] - 424s 60s/step - loss: 2.3026 - accuracy: 0.1009 - val_loss: 2.3026 - val_accuracy: 0.1003\n",
            "Epoch 4/10\n",
            "7/7 [==============================] - 411s 57s/step - loss: 2.3026 - accuracy: 0.1013 - val_loss: 2.3026 - val_accuracy: 0.1003\n",
            "Epoch 5/10\n",
            "7/7 [==============================] - 411s 58s/step - loss: 2.3025 - accuracy: 0.1019 - val_loss: 2.3027 - val_accuracy: 0.0998\n",
            "Epoch 6/10\n",
            "7/7 [==============================] - 401s 57s/step - loss: 2.3025 - accuracy: 0.1025 - val_loss: 2.3027 - val_accuracy: 0.1000\n",
            "Epoch 7/10\n",
            "7/7 [==============================] - 413s 57s/step - loss: 2.3024 - accuracy: 0.1029 - val_loss: 2.3028 - val_accuracy: 0.1000\n",
            "Epoch 8/10\n",
            "7/7 [==============================] - 411s 58s/step - loss: 2.3024 - accuracy: 0.1032 - val_loss: 2.3033 - val_accuracy: 0.1000\n",
            "Epoch 9/10\n",
            "7/7 [==============================] - 405s 57s/step - loss: 2.3024 - accuracy: 0.1034 - val_loss: 2.3028 - val_accuracy: 0.0999\n",
            "Epoch 10/10\n",
            "7/7 [==============================] - 409s 57s/step - loss: 2.3024 - accuracy: 0.1037 - val_loss: 2.3027 - val_accuracy: 0.1000\n",
            "1/1 [==============================] - 19s 19s/step - loss: 2.3027 - accuracy: 0.1000\n",
            "Test Loss: 2.3027305603027344\n",
            "Test Accuracy: 0.0999603271484375\n"
          ]
        }
      ],
      "source": [
        "import numpy as np\n",
        "import tensorflow as tf\n",
        "from tensorflow import keras\n",
        "from tensorflow.keras.models import Model\n",
        "from tensorflow.keras.layers import Input, Conv2D, MaxPooling2D, Dropout, Conv2DTranspose, concatenate\n",
        "\n",
        "def fcn8(input_shape, num_classes):\n",
        "    inputs = Input(input_shape)\n",
        "\n",
        "    # Block 1\n",
        "    conv1 = Conv2D(64, 3, activation='relu', padding='same')(inputs)\n",
        "    conv1 = Conv2D(64, 3, activation='relu', padding='same')(conv1)\n",
        "    pool1 = MaxPooling2D(pool_size=(2, 2))(conv1)\n",
        "\n",
        "    # Block 2\n",
        "    conv2 = Conv2D(128, 3, activation='relu', padding='same')(pool1)\n",
        "    conv2 = Conv2D(128, 3, activation='relu', padding='same')(conv2)\n",
        "    pool2 = MaxPooling2D(pool_size=(2, 2))(conv2)\n",
        "\n",
        "    # Block 3\n",
        "    conv3 = Conv2D(256, 3, activation='relu', padding='same')(pool2)\n",
        "    conv3 = Conv2D(256, 3, activation='relu', padding='same')(conv3)\n",
        "    pool3 = MaxPooling2D(pool_size=(2, 2))(conv3)\n",
        "\n",
        "    # Block 4\n",
        "    conv4 = Conv2D(512, 3, activation='relu', padding='same')(pool3)\n",
        "    conv4 = Conv2D(512, 3, activation='relu', padding='same')(conv4)\n",
        "    pool4 = MaxPooling2D(pool_size=(2, 2))(conv4)\n",
        "\n",
        "    # Block 5\n",
        "    conv5 = Conv2D(512, 3, activation='relu', padding='same')(pool4)\n",
        "    conv5 = Conv2D(512, 3, activation='relu', padding='same')(conv5)\n",
        "    pool5 = MaxPooling2D(pool_size=(2, 2))(conv5)\n",
        "\n",
        "    # Fully Convolutionalization\n",
        "    fc6 = Conv2D(4096, 7, activation='relu', padding='same')(pool5)\n",
        "    fc6 = Dropout(0.5)(fc6)\n",
        "    fc7 = Conv2D(4096, 1, activation='relu', padding='same')(fc6)\n",
        "    fc7 = Dropout(0.5)(fc7)\n",
        "\n",
        "    # Score Pooling 4\n",
        "    score_pool4 = Conv2D(num_classes, 1, activation='relu', padding='same')(pool4)\n",
        "\n",
        "    # Score Pooling 7\n",
        "    score_fc7 = Conv2D(num_classes, 1, activation='relu', padding='same')(fc7)\n",
        "\n",
        "    # Deconvolution 2x\n",
        "    upsample_2x = Conv2DTranspose(num_classes, 4, strides=(2, 2), padding='same')(score_fc7)\n",
        "\n",
        "    # Score Sum 2\n",
        "    score_sum2 = concatenate([score_pool4, upsample_2x], axis=3)\n",
        "\n",
        "    # Deconvolution 2x\n",
        "    upsample_4x = Conv2DTranspose(num_classes, 4, strides=(2, 2), padding='same')(score_sum2)\n",
        "\n",
        "    # Final Prediction\n",
        "    upsample_final = Conv2DTranspose(num_classes, 16, strides=(8, 8), padding='same')(upsample_4x)\n",
        "    outputs = keras.activations.softmax(upsample_final, axis=-1)\n",
        "\n",
        "    model = Model(inputs=inputs, outputs=outputs)\n",
        "    return model\n",
        "\n",
        "def generate_sample_data(num_samples, image_shape, num_classes):\n",
        "    X = np.random.rand(num_samples, *image_shape)\n",
        "    y = np.random.randint(0, num_classes, (num_samples, *image_shape[:-1], 1))\n",
        "    return X, y\n",
        "\n",
        "# Define input shape and number of classes\n",
        "input_shape = (256, 256, 3)\n",
        "num_classes = 10\n",
        "\n",
        "# Generate sample training data\n",
        "X_train, y_train = generate_sample_data(100, input_shape, num_classes)\n",
        "\n",
        "# Generate sample test data\n",
        "X_test, y_test = generate_sample_data(20, input_shape, num_classes)\n",
        "\n",
        "# Create FCN8 model\n",
        "model = fcn8(input_shape, num_classes)\n",
        "\n",
        "# Compile the model\n",
        "model.compile(optimizer='adam', loss='sparse_categorical_crossentropy', metrics=['accuracy'])\n",
        "\n",
        "# Train the model\n",
        "model.fit(X_train, y_train, batch_size=16, epochs=10, validation_data=(X_test, y_test))\n",
        "\n",
        "# Evaluate the model on test data\n",
        "loss, accuracy = model.evaluate(X_test, y_test)\n",
        "print(\"Test Loss:\", loss)\n",
        "print(\"Test Accuracy:\", accuracy)\n"
      ]
    },
    {
      "cell_type": "code",
      "execution_count": null,
      "metadata": {
        "id": "t8xI0BOhTlG4"
      },
      "outputs": [],
      "source": []
    }
  ],
  "metadata": {
    "colab": {
      "provenance": [],
      "authorship_tag": "ABX9TyMZ9f3K2spkXh6JiNyAYdkY",
      "include_colab_link": true
    },
    "kernelspec": {
      "display_name": "Python 3",
      "name": "python3"
    },
    "language_info": {
      "name": "python"
    }
  },
  "nbformat": 4,
  "nbformat_minor": 0
}