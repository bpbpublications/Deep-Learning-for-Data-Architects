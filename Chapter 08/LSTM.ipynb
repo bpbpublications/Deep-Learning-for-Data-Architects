{
  "nbformat": 4,
  "nbformat_minor": 0,
  "metadata": {
    "colab": {
      "provenance": [],
      "authorship_tag": "ABX9TyNofMCSw/8AGsi9W7aOTpaU",
      "include_colab_link": true
    },
    "kernelspec": {
      "name": "python3",
      "display_name": "Python 3"
    },
    "language_info": {
      "name": "python"
    }
  },
  "cells": [
    {
      "cell_type": "markdown",
      "metadata": {
        "id": "view-in-github",
        "colab_type": "text"
      },
      "source": [
        "<a href=\"https://colab.research.google.com/github/shekharkhandelwal1983/DLforDataArchitects/blob/main/notebooks/chapter8/LSTM.ipynb\" target=\"_parent\"><img src=\"https://colab.research.google.com/assets/colab-badge.svg\" alt=\"Open In Colab\"/></a>"
      ]
    },
    {
      "cell_type": "code",
      "execution_count": 1,
      "metadata": {
        "colab": {
          "base_uri": "https://localhost:8080/"
        },
        "id": "OVuj6_rj0j8P",
        "outputId": "07522748-6f80-4fc2-9a55-17d0d5437a3b"
      },
      "outputs": [
        {
          "output_type": "stream",
          "name": "stdout",
          "text": [
            "Downloading data from https://storage.googleapis.com/tensorflow/tf-keras-datasets/mnist.npz\n",
            "11490434/11490434 [==============================] - 1s 0us/step\n",
            "Epoch 1/10\n",
            "469/469 [==============================] - 49s 97ms/step - loss: 0.5178 - accuracy: 0.8318 - val_loss: 0.1953 - val_accuracy: 0.9378\n",
            "Epoch 2/10\n",
            "469/469 [==============================] - 48s 103ms/step - loss: 0.1432 - accuracy: 0.9572 - val_loss: 0.1203 - val_accuracy: 0.9633\n",
            "Epoch 3/10\n",
            "469/469 [==============================] - 44s 95ms/step - loss: 0.0973 - accuracy: 0.9708 - val_loss: 0.0850 - val_accuracy: 0.9728\n",
            "Epoch 4/10\n",
            "469/469 [==============================] - 47s 100ms/step - loss: 0.0757 - accuracy: 0.9769 - val_loss: 0.0832 - val_accuracy: 0.9740\n",
            "Epoch 5/10\n",
            "469/469 [==============================] - 45s 95ms/step - loss: 0.0613 - accuracy: 0.9813 - val_loss: 0.0681 - val_accuracy: 0.9796\n",
            "Epoch 6/10\n",
            "469/469 [==============================] - 48s 102ms/step - loss: 0.0483 - accuracy: 0.9853 - val_loss: 0.0622 - val_accuracy: 0.9813\n",
            "Epoch 7/10\n",
            "469/469 [==============================] - 46s 97ms/step - loss: 0.0438 - accuracy: 0.9868 - val_loss: 0.0572 - val_accuracy: 0.9822\n",
            "Epoch 8/10\n",
            "469/469 [==============================] - 48s 102ms/step - loss: 0.0363 - accuracy: 0.9887 - val_loss: 0.0597 - val_accuracy: 0.9818\n",
            "Epoch 9/10\n",
            "469/469 [==============================] - 45s 96ms/step - loss: 0.0334 - accuracy: 0.9896 - val_loss: 0.0471 - val_accuracy: 0.9862\n",
            "Epoch 10/10\n",
            "469/469 [==============================] - 47s 101ms/step - loss: 0.0311 - accuracy: 0.9901 - val_loss: 0.0540 - val_accuracy: 0.9857\n",
            "313/313 [==============================] - 5s 15ms/step - loss: 0.0540 - accuracy: 0.9857\n",
            "Test Accuracy: 0.9857000112533569\n"
          ]
        }
      ],
      "source": [
        "import numpy as np\n",
        "from tensorflow.keras.datasets import mnist\n",
        "from tensorflow.keras.models import Sequential\n",
        "from tensorflow.keras.layers import Dense, LSTM\n",
        "from tensorflow.keras.utils import to_categorical\n",
        "\n",
        "# Load the MNIST dataset\n",
        "(x_train, y_train), (x_test, y_test) = mnist.load_data()\n",
        "\n",
        "# Preprocess the data\n",
        "x_train = x_train.reshape(-1, 28, 28) / 255.0\n",
        "x_test = x_test.reshape(-1, 28, 28) / 255.0\n",
        "y_train = to_categorical(y_train)\n",
        "y_test = to_categorical(y_test)\n",
        "\n",
        "# Define the LSTM model\n",
        "model = Sequential()\n",
        "model.add(LSTM(units=128, input_shape=(28, 28)))\n",
        "model.add(Dense(units=10, activation='softmax'))\n",
        "\n",
        "# Compile the model\n",
        "model.compile(optimizer='adam', loss='categorical_crossentropy', metrics=['accuracy'])\n",
        "\n",
        "# Train the model\n",
        "model.fit(x_train, y_train, batch_size=128, epochs=10, validation_data=(x_test, y_test))\n",
        "\n",
        "# Evaluate the model\n",
        "_, accuracy = model.evaluate(x_test, y_test)\n",
        "print('Test Accuracy:', accuracy)\n"
      ]
    },
    {
      "cell_type": "code",
      "source": [],
      "metadata": {
        "id": "PKBz3D9C0s66"
      },
      "execution_count": null,
      "outputs": []
    }
  ]
}