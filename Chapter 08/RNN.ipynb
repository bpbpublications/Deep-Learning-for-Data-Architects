{
  "nbformat": 4,
  "nbformat_minor": 0,
  "metadata": {
    "colab": {
      "provenance": [],
      "authorship_tag": "ABX9TyOdo/Qe5LYFPeOmVONN+mwQ",
      "include_colab_link": true
    },
    "kernelspec": {
      "name": "python3",
      "display_name": "Python 3"
    },
    "language_info": {
      "name": "python"
    }
  },
  "cells": [
    {
      "cell_type": "markdown",
      "metadata": {
        "id": "view-in-github",
        "colab_type": "text"
      },
      "source": [
        "<a href=\"https://colab.research.google.com/github/shekharkhandelwal1983/DLforDataArchitects/blob/main/notebooks/chapter8/RNN.ipynb\" target=\"_parent\"><img src=\"https://colab.research.google.com/assets/colab-badge.svg\" alt=\"Open In Colab\"/></a>"
      ]
    },
    {
      "cell_type": "code",
      "execution_count": 1,
      "metadata": {
        "colab": {
          "base_uri": "https://localhost:8080/"
        },
        "id": "SDVychhj0R3p",
        "outputId": "0f9a36eb-57f7-41cf-8f3f-6416690f2e59"
      },
      "outputs": [
        {
          "output_type": "stream",
          "name": "stdout",
          "text": [
            "Downloading data from https://storage.googleapis.com/tensorflow/tf-keras-datasets/mnist.npz\n",
            "11490434/11490434 [==============================] - 0s 0us/step\n",
            "Epoch 1/10\n",
            "469/469 [==============================] - 5s 7ms/step - loss: 1.1817 - accuracy: 0.5818 - val_loss: 0.8066 - val_accuracy: 0.7421\n",
            "Epoch 2/10\n",
            "469/469 [==============================] - 3s 6ms/step - loss: 0.6461 - accuracy: 0.8049 - val_loss: 0.5387 - val_accuracy: 0.8395\n",
            "Epoch 3/10\n",
            "469/469 [==============================] - 3s 6ms/step - loss: 0.4889 - accuracy: 0.8570 - val_loss: 0.4270 - val_accuracy: 0.8770\n",
            "Epoch 4/10\n",
            "469/469 [==============================] - 3s 6ms/step - loss: 0.4160 - accuracy: 0.8806 - val_loss: 0.3910 - val_accuracy: 0.8927\n",
            "Epoch 5/10\n",
            "469/469 [==============================] - 4s 8ms/step - loss: 0.3771 - accuracy: 0.8914 - val_loss: 0.3436 - val_accuracy: 0.9027\n",
            "Epoch 6/10\n",
            "469/469 [==============================] - 3s 7ms/step - loss: 0.3452 - accuracy: 0.9014 - val_loss: 0.3246 - val_accuracy: 0.9036\n",
            "Epoch 7/10\n",
            "469/469 [==============================] - 3s 7ms/step - loss: 0.3176 - accuracy: 0.9098 - val_loss: 0.2941 - val_accuracy: 0.9165\n",
            "Epoch 8/10\n",
            "469/469 [==============================] - 4s 8ms/step - loss: 0.2976 - accuracy: 0.9150 - val_loss: 0.2701 - val_accuracy: 0.9221\n",
            "Epoch 9/10\n",
            "469/469 [==============================] - 3s 6ms/step - loss: 0.2843 - accuracy: 0.9184 - val_loss: 0.2723 - val_accuracy: 0.9233\n",
            "Epoch 10/10\n",
            "469/469 [==============================] - 3s 7ms/step - loss: 0.2716 - accuracy: 0.9222 - val_loss: 0.2507 - val_accuracy: 0.9279\n",
            "313/313 [==============================] - 1s 2ms/step - loss: 0.2507 - accuracy: 0.9279\n",
            "Test Accuracy: 0.9279000163078308\n"
          ]
        }
      ],
      "source": [
        "import numpy as np\n",
        "from tensorflow.keras.datasets import mnist\n",
        "from tensorflow.keras.models import Sequential\n",
        "from tensorflow.keras.layers import Dense, SimpleRNN\n",
        "from tensorflow.keras.utils import to_categorical\n",
        "\n",
        "# Load the MNIST dataset\n",
        "(x_train, y_train), (x_test, y_test) = mnist.load_data()\n",
        "\n",
        "# Preprocess the data\n",
        "x_train = x_train.reshape(-1, 28, 28) / 255.0\n",
        "x_test = x_test.reshape(-1, 28, 28) / 255.0\n",
        "y_train = to_categorical(y_train)\n",
        "y_test = to_categorical(y_test)\n",
        "\n",
        "# Define the RNN model\n",
        "model = Sequential()\n",
        "model.add(SimpleRNN(units=32, input_shape=(28, 28)))\n",
        "model.add(Dense(units=10, activation='softmax'))\n",
        "\n",
        "# Compile the model\n",
        "model.compile(optimizer='adam', loss='categorical_crossentropy', metrics=['accuracy'])\n",
        "\n",
        "# Train the model\n",
        "model.fit(x_train, y_train, batch_size=128, epochs=10, validation_data=(x_test, y_test))\n",
        "\n",
        "# Evaluate the model\n",
        "_, accuracy = model.evaluate(x_test, y_test)\n",
        "print('Test Accuracy:', accuracy)\n"
      ]
    },
    {
      "cell_type": "code",
      "source": [],
      "metadata": {
        "id": "AbSeIUs_0SiN"
      },
      "execution_count": null,
      "outputs": []
    }
  ]
}