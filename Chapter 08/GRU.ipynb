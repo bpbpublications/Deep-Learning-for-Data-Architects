{
  "nbformat": 4,
  "nbformat_minor": 0,
  "metadata": {
    "colab": {
      "provenance": [],
      "authorship_tag": "ABX9TyN32fes/anb0I0BkJMw0c+4",
      "include_colab_link": true
    },
    "kernelspec": {
      "name": "python3",
      "display_name": "Python 3"
    },
    "language_info": {
      "name": "python"
    }
  },
  "cells": [
    {
      "cell_type": "markdown",
      "metadata": {
        "id": "view-in-github",
        "colab_type": "text"
      },
      "source": [
        "<a href=\"https://colab.research.google.com/github/shekharkhandelwal1983/DLforDataArchitects/blob/main/notebooks/chapter8/GRU.ipynb\" target=\"_parent\"><img src=\"https://colab.research.google.com/assets/colab-badge.svg\" alt=\"Open In Colab\"/></a>"
      ]
    },
    {
      "cell_type": "code",
      "execution_count": 1,
      "metadata": {
        "colab": {
          "base_uri": "https://localhost:8080/"
        },
        "id": "IhhXyeVM053N",
        "outputId": "5e71c96e-c462-4c02-93e3-16717f142cdd"
      },
      "outputs": [
        {
          "output_type": "stream",
          "name": "stdout",
          "text": [
            "Downloading data from https://storage.googleapis.com/tensorflow/tf-keras-datasets/mnist.npz\n",
            "11490434/11490434 [==============================] - 0s 0us/step\n",
            "Epoch 1/10\n",
            "469/469 [==============================] - 25s 49ms/step - loss: 0.6036 - accuracy: 0.7964 - val_loss: 0.1906 - val_accuracy: 0.9445\n",
            "Epoch 2/10\n",
            "469/469 [==============================] - 24s 52ms/step - loss: 0.1652 - accuracy: 0.9506 - val_loss: 0.1201 - val_accuracy: 0.9651\n",
            "Epoch 3/10\n",
            "469/469 [==============================] - 24s 52ms/step - loss: 0.1104 - accuracy: 0.9672 - val_loss: 0.1010 - val_accuracy: 0.9703\n",
            "Epoch 4/10\n",
            "469/469 [==============================] - 24s 51ms/step - loss: 0.0848 - accuracy: 0.9737 - val_loss: 0.0776 - val_accuracy: 0.9766\n",
            "Epoch 5/10\n",
            "469/469 [==============================] - 26s 55ms/step - loss: 0.0673 - accuracy: 0.9801 - val_loss: 0.0653 - val_accuracy: 0.9781\n",
            "Epoch 6/10\n",
            "469/469 [==============================] - 25s 53ms/step - loss: 0.0589 - accuracy: 0.9821 - val_loss: 0.0576 - val_accuracy: 0.9820\n",
            "Epoch 7/10\n",
            "469/469 [==============================] - 24s 52ms/step - loss: 0.0476 - accuracy: 0.9854 - val_loss: 0.0551 - val_accuracy: 0.9840\n",
            "Epoch 8/10\n",
            "469/469 [==============================] - 24s 51ms/step - loss: 0.0411 - accuracy: 0.9869 - val_loss: 0.0602 - val_accuracy: 0.9834\n",
            "Epoch 9/10\n",
            "469/469 [==============================] - 24s 52ms/step - loss: 0.0365 - accuracy: 0.9885 - val_loss: 0.0560 - val_accuracy: 0.9836\n",
            "Epoch 10/10\n",
            "469/469 [==============================] - 24s 51ms/step - loss: 0.0319 - accuracy: 0.9903 - val_loss: 0.0576 - val_accuracy: 0.9831\n",
            "313/313 [==============================] - 2s 7ms/step - loss: 0.0576 - accuracy: 0.9831\n",
            "Test Accuracy: 0.9830999970436096\n"
          ]
        }
      ],
      "source": [
        "import numpy as np\n",
        "from tensorflow.keras.datasets import mnist\n",
        "from tensorflow.keras.models import Sequential\n",
        "from tensorflow.keras.layers import Dense, GRU\n",
        "from tensorflow.keras.utils import to_categorical\n",
        "\n",
        "# Load the MNIST dataset\n",
        "(x_train, y_train), (x_test, y_test) = mnist.load_data()\n",
        "\n",
        "# Preprocess the data\n",
        "x_train = x_train.reshape(-1, 28, 28) / 255.0\n",
        "x_test = x_test.reshape(-1, 28, 28) / 255.0\n",
        "y_train = to_categorical(y_train)\n",
        "y_test = to_categorical(y_test)\n",
        "\n",
        "# Define the GRU model\n",
        "model = Sequential()\n",
        "model.add(GRU(units=128, input_shape=(28, 28)))\n",
        "model.add(Dense(units=10, activation='softmax'))\n",
        "\n",
        "# Compile the model\n",
        "model.compile(optimizer='adam', loss='categorical_crossentropy', metrics=['accuracy'])\n",
        "\n",
        "# Train the model\n",
        "model.fit(x_train, y_train, batch_size=128, epochs=10, validation_data=(x_test, y_test))\n",
        "\n",
        "# Evaluate the model\n",
        "_, accuracy = model.evaluate(x_test, y_test)\n",
        "print('Test Accuracy:', accuracy)\n"
      ]
    },
    {
      "cell_type": "code",
      "source": [],
      "metadata": {
        "id": "L2I8oTvo06pL"
      },
      "execution_count": null,
      "outputs": []
    }
  ]
}